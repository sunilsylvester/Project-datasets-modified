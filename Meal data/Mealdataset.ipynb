{
 "cells": [
  {
   "cell_type": "markdown",
   "metadata": {},
   "source": [
    "Problem Statement\n",
    "Your client is a meal delivery company which operates in multiple cities. They have various fulfillment centers in these cities for dispatching meal orders to their customers. The client wants you to help these centers with demand forecasting for upcoming weeks so that these centers will plan the stock of raw materials accordingly.\n",
    "The replenishment of majority of raw materials is done on weekly basis and since the raw material is perishable, the procurement planning is of utmost importance. Secondly, staffing of the centers is also one area wherein accurate demand forecasts are really helpful. Given the following information, the task is to predict the demand for the next 10 weeks (Weeks: 146-155) for the center-meal combinations in the test set:\n",
    " \n",
    "•\tHistorical data of demand for a product-center combination (Weeks: 1 to 145)\n",
    "•\tProduct(Meal) features such as category, sub-category, current price and discount\n",
    "•\tInformation for fulfillment center like center area, city information etc.\n",
    " \n",
    "Data Dictionary\n",
    " \n",
    "1.\tWeekly Demand data (train.csv): Contains the historical demand data for all centers, test.csv contains all the following features except the target variable\n",
    " \n",
    "Variable\tDefinition\n",
    "id\tUnique ID\n",
    "week\tWeek No\n",
    "center_id\tUnique ID for fulfillment center\n",
    "meal_id\tUnique ID for Meal\n",
    "checkout_price\tFinal price including discount, taxes & delivery charges\n",
    "base_price\tBase price of the meal\n",
    "emailer_for_promotion\tEmailer sent for promotion of meal\n",
    "homepage_featured\tMeal featured at homepage\n",
    "num_orders\t(Target) Orders Count\n",
    " \n",
    " \n",
    "2.\tfulfilment_center_info.csv: Contains information for each fulfilment center\n",
    " \n",
    "Variable\tDefinition\n",
    "center_id\tUnique ID for fulfillment center\n",
    "city_code\tUnique code for city\n",
    "region_code\tUnique code for region\n",
    "center_type\tAnonymized center type\n",
    "op_area\tArea of operation (in km^2)\n",
    " \n",
    "3.\tmeal_info.csv: Contains information for each meal being served\n",
    " \n",
    "Variable\tDefinition\n",
    "meal_id\tUnique ID for the meal\n",
    "category\tType of meal (beverages/snacks/soups….)\n",
    "cuisine\tMeal cuisine (Indian/Italian/…)\n",
    " \n",
    "Evaluation Metric\n",
    "The evaluation metric for this competition is 100*RMSLE where RMSLE is Root of Mean Squared Logarithmic Error across all entries in the test set.\n",
    "Public and Private Split\n",
    "Test data is further randomly divided into Public (30%) and Private (70%) data.\n",
    "•\tYour initial responses will be checked and scored on the Public data.\n",
    "•\tThe final rankings would be based on your private score which will be published once the competition is over.\n",
    " "
   ]
  },
  {
   "cell_type": "code",
   "execution_count": 1,
   "metadata": {},
   "outputs": [],
   "source": [
    "your_local_path = \"C:/Users/sylve/Downloads/Machine learning/Dataset/Project datasets modified/Meal data/\""
   ]
  },
  {
   "cell_type": "code",
   "execution_count": 2,
   "metadata": {},
   "outputs": [],
   "source": [
    "import pandas as pd\n",
    "from sklearn.impute import SimpleImputer\n",
    "from sklearn import tree\n",
    "from sklearn import metrics\n",
    "from sklearn import preprocessing\n",
    "from sklearn import utils\n",
    "import numpy as np\n",
    "import matplotlib.pyplot as plt\n",
    "import seaborn as sns\n",
    "sns.set(style='darkgrid')\n",
    "%matplotlib inline"
   ]
  },
  {
   "cell_type": "code",
   "execution_count": 3,
   "metadata": {},
   "outputs": [],
   "source": [
    "df1 = pd.read_csv(your_local_path+\"train.csv\")"
   ]
  },
  {
   "cell_type": "code",
   "execution_count": 4,
   "metadata": {},
   "outputs": [],
   "source": [
    "df2 = pd.read_csv(your_local_path+\"fulfilment_center_info.csv\")"
   ]
  },
  {
   "cell_type": "code",
   "execution_count": 5,
   "metadata": {},
   "outputs": [],
   "source": [
    "df3 = pd.read_csv(your_local_path+\"meal_info.csv\")"
   ]
  },
  {
   "cell_type": "code",
   "execution_count": 6,
   "metadata": {},
   "outputs": [
    {
     "name": "stdout",
     "output_type": "stream",
     "text": [
      "<class 'pandas.core.frame.DataFrame'>\n",
      "RangeIndex: 456548 entries, 0 to 456547\n",
      "Data columns (total 9 columns):\n",
      "id                       456548 non-null int64\n",
      "week                     456548 non-null int64\n",
      "center_id                456548 non-null int64\n",
      "meal_id                  456548 non-null int64\n",
      "checkout_price           456548 non-null float64\n",
      "base_price               456548 non-null float64\n",
      "emailer_for_promotion    456548 non-null int64\n",
      "homepage_featured        456548 non-null int64\n",
      "num_orders               456548 non-null int64\n",
      "dtypes: float64(2), int64(7)\n",
      "memory usage: 31.3 MB\n",
      "None\n",
      "<class 'pandas.core.frame.DataFrame'>\n",
      "RangeIndex: 77 entries, 0 to 76\n",
      "Data columns (total 5 columns):\n",
      "center_id      77 non-null int64\n",
      "city_code      77 non-null int64\n",
      "region_code    77 non-null int64\n",
      "center_type    77 non-null object\n",
      "op_area        77 non-null float64\n",
      "dtypes: float64(1), int64(3), object(1)\n",
      "memory usage: 3.1+ KB\n",
      "None\n",
      "<class 'pandas.core.frame.DataFrame'>\n",
      "RangeIndex: 51 entries, 0 to 50\n",
      "Data columns (total 3 columns):\n",
      "meal_id     51 non-null int64\n",
      "category    51 non-null object\n",
      "cuisine     51 non-null object\n",
      "dtypes: int64(1), object(2)\n",
      "memory usage: 1.3+ KB\n",
      "None\n"
     ]
    }
   ],
   "source": [
    "print(df1.info())\n",
    "print(df2.info())\n",
    "print(df3.info())"
   ]
  },
  {
   "cell_type": "code",
   "execution_count": 7,
   "metadata": {},
   "outputs": [
    {
     "data": {
      "text/html": [
       "<div>\n",
       "<style scoped>\n",
       "    .dataframe tbody tr th:only-of-type {\n",
       "        vertical-align: middle;\n",
       "    }\n",
       "\n",
       "    .dataframe tbody tr th {\n",
       "        vertical-align: top;\n",
       "    }\n",
       "\n",
       "    .dataframe thead th {\n",
       "        text-align: right;\n",
       "    }\n",
       "</style>\n",
       "<table border=\"1\" class=\"dataframe\">\n",
       "  <thead>\n",
       "    <tr style=\"text-align: right;\">\n",
       "      <th></th>\n",
       "      <th>id</th>\n",
       "      <th>week</th>\n",
       "      <th>center_id</th>\n",
       "      <th>meal_id</th>\n",
       "      <th>checkout_price</th>\n",
       "      <th>base_price</th>\n",
       "      <th>emailer_for_promotion</th>\n",
       "      <th>homepage_featured</th>\n",
       "      <th>num_orders</th>\n",
       "    </tr>\n",
       "  </thead>\n",
       "  <tbody>\n",
       "    <tr>\n",
       "      <th>count</th>\n",
       "      <td>4.565480e+05</td>\n",
       "      <td>456548.000000</td>\n",
       "      <td>456548.000000</td>\n",
       "      <td>456548.000000</td>\n",
       "      <td>456548.000000</td>\n",
       "      <td>456548.000000</td>\n",
       "      <td>456548.000000</td>\n",
       "      <td>456548.00000</td>\n",
       "      <td>456548.000000</td>\n",
       "    </tr>\n",
       "    <tr>\n",
       "      <th>mean</th>\n",
       "      <td>1.250096e+06</td>\n",
       "      <td>74.768771</td>\n",
       "      <td>82.105796</td>\n",
       "      <td>2024.337458</td>\n",
       "      <td>332.238933</td>\n",
       "      <td>354.156627</td>\n",
       "      <td>0.081152</td>\n",
       "      <td>0.10920</td>\n",
       "      <td>261.872760</td>\n",
       "    </tr>\n",
       "    <tr>\n",
       "      <th>std</th>\n",
       "      <td>1.443548e+05</td>\n",
       "      <td>41.524956</td>\n",
       "      <td>45.975046</td>\n",
       "      <td>547.420920</td>\n",
       "      <td>152.939723</td>\n",
       "      <td>160.715914</td>\n",
       "      <td>0.273069</td>\n",
       "      <td>0.31189</td>\n",
       "      <td>395.922798</td>\n",
       "    </tr>\n",
       "    <tr>\n",
       "      <th>min</th>\n",
       "      <td>1.000000e+06</td>\n",
       "      <td>1.000000</td>\n",
       "      <td>10.000000</td>\n",
       "      <td>1062.000000</td>\n",
       "      <td>2.970000</td>\n",
       "      <td>55.350000</td>\n",
       "      <td>0.000000</td>\n",
       "      <td>0.00000</td>\n",
       "      <td>13.000000</td>\n",
       "    </tr>\n",
       "    <tr>\n",
       "      <th>25%</th>\n",
       "      <td>1.124999e+06</td>\n",
       "      <td>39.000000</td>\n",
       "      <td>43.000000</td>\n",
       "      <td>1558.000000</td>\n",
       "      <td>228.950000</td>\n",
       "      <td>243.500000</td>\n",
       "      <td>0.000000</td>\n",
       "      <td>0.00000</td>\n",
       "      <td>54.000000</td>\n",
       "    </tr>\n",
       "    <tr>\n",
       "      <th>50%</th>\n",
       "      <td>1.250184e+06</td>\n",
       "      <td>76.000000</td>\n",
       "      <td>76.000000</td>\n",
       "      <td>1993.000000</td>\n",
       "      <td>296.820000</td>\n",
       "      <td>310.460000</td>\n",
       "      <td>0.000000</td>\n",
       "      <td>0.00000</td>\n",
       "      <td>136.000000</td>\n",
       "    </tr>\n",
       "    <tr>\n",
       "      <th>75%</th>\n",
       "      <td>1.375140e+06</td>\n",
       "      <td>111.000000</td>\n",
       "      <td>110.000000</td>\n",
       "      <td>2539.000000</td>\n",
       "      <td>445.230000</td>\n",
       "      <td>458.870000</td>\n",
       "      <td>0.000000</td>\n",
       "      <td>0.00000</td>\n",
       "      <td>324.000000</td>\n",
       "    </tr>\n",
       "    <tr>\n",
       "      <th>max</th>\n",
       "      <td>1.499999e+06</td>\n",
       "      <td>145.000000</td>\n",
       "      <td>186.000000</td>\n",
       "      <td>2956.000000</td>\n",
       "      <td>866.270000</td>\n",
       "      <td>866.270000</td>\n",
       "      <td>1.000000</td>\n",
       "      <td>1.00000</td>\n",
       "      <td>24299.000000</td>\n",
       "    </tr>\n",
       "  </tbody>\n",
       "</table>\n",
       "</div>"
      ],
      "text/plain": [
       "                 id           week      center_id        meal_id  \\\n",
       "count  4.565480e+05  456548.000000  456548.000000  456548.000000   \n",
       "mean   1.250096e+06      74.768771      82.105796    2024.337458   \n",
       "std    1.443548e+05      41.524956      45.975046     547.420920   \n",
       "min    1.000000e+06       1.000000      10.000000    1062.000000   \n",
       "25%    1.124999e+06      39.000000      43.000000    1558.000000   \n",
       "50%    1.250184e+06      76.000000      76.000000    1993.000000   \n",
       "75%    1.375140e+06     111.000000     110.000000    2539.000000   \n",
       "max    1.499999e+06     145.000000     186.000000    2956.000000   \n",
       "\n",
       "       checkout_price     base_price  emailer_for_promotion  \\\n",
       "count   456548.000000  456548.000000          456548.000000   \n",
       "mean       332.238933     354.156627               0.081152   \n",
       "std        152.939723     160.715914               0.273069   \n",
       "min          2.970000      55.350000               0.000000   \n",
       "25%        228.950000     243.500000               0.000000   \n",
       "50%        296.820000     310.460000               0.000000   \n",
       "75%        445.230000     458.870000               0.000000   \n",
       "max        866.270000     866.270000               1.000000   \n",
       "\n",
       "       homepage_featured     num_orders  \n",
       "count       456548.00000  456548.000000  \n",
       "mean             0.10920     261.872760  \n",
       "std              0.31189     395.922798  \n",
       "min              0.00000      13.000000  \n",
       "25%              0.00000      54.000000  \n",
       "50%              0.00000     136.000000  \n",
       "75%              0.00000     324.000000  \n",
       "max              1.00000   24299.000000  "
      ]
     },
     "execution_count": 7,
     "metadata": {},
     "output_type": "execute_result"
    }
   ],
   "source": [
    "df1.describe()"
   ]
  },
  {
   "cell_type": "code",
   "execution_count": 8,
   "metadata": {},
   "outputs": [],
   "source": [
    "df1_merged = pd.merge(df1,df2,left_on='center_id',right_on='center_id',how='inner')"
   ]
  },
  {
   "cell_type": "code",
   "execution_count": 9,
   "metadata": {},
   "outputs": [],
   "source": [
    "df1_merged = pd.merge(df1_merged,df3,left_on='meal_id',right_on='meal_id',how='inner')"
   ]
  },
  {
   "cell_type": "code",
   "execution_count": 10,
   "metadata": {},
   "outputs": [
    {
     "data": {
      "text/html": [
       "<div>\n",
       "<style scoped>\n",
       "    .dataframe tbody tr th:only-of-type {\n",
       "        vertical-align: middle;\n",
       "    }\n",
       "\n",
       "    .dataframe tbody tr th {\n",
       "        vertical-align: top;\n",
       "    }\n",
       "\n",
       "    .dataframe thead th {\n",
       "        text-align: right;\n",
       "    }\n",
       "</style>\n",
       "<table border=\"1\" class=\"dataframe\">\n",
       "  <thead>\n",
       "    <tr style=\"text-align: right;\">\n",
       "      <th></th>\n",
       "      <th>id</th>\n",
       "      <th>week</th>\n",
       "      <th>center_id</th>\n",
       "      <th>meal_id</th>\n",
       "      <th>checkout_price</th>\n",
       "      <th>base_price</th>\n",
       "      <th>emailer_for_promotion</th>\n",
       "      <th>homepage_featured</th>\n",
       "      <th>num_orders</th>\n",
       "      <th>city_code</th>\n",
       "      <th>region_code</th>\n",
       "      <th>center_type</th>\n",
       "      <th>op_area</th>\n",
       "      <th>category</th>\n",
       "      <th>cuisine</th>\n",
       "    </tr>\n",
       "  </thead>\n",
       "  <tbody>\n",
       "    <tr>\n",
       "      <th>0</th>\n",
       "      <td>1379560</td>\n",
       "      <td>1</td>\n",
       "      <td>55</td>\n",
       "      <td>1885</td>\n",
       "      <td>136.83</td>\n",
       "      <td>152.29</td>\n",
       "      <td>0</td>\n",
       "      <td>0</td>\n",
       "      <td>177</td>\n",
       "      <td>647</td>\n",
       "      <td>56</td>\n",
       "      <td>TYPE_C</td>\n",
       "      <td>2.0</td>\n",
       "      <td>Beverages</td>\n",
       "      <td>Thai</td>\n",
       "    </tr>\n",
       "    <tr>\n",
       "      <th>1</th>\n",
       "      <td>1018704</td>\n",
       "      <td>2</td>\n",
       "      <td>55</td>\n",
       "      <td>1885</td>\n",
       "      <td>135.83</td>\n",
       "      <td>152.29</td>\n",
       "      <td>0</td>\n",
       "      <td>0</td>\n",
       "      <td>323</td>\n",
       "      <td>647</td>\n",
       "      <td>56</td>\n",
       "      <td>TYPE_C</td>\n",
       "      <td>2.0</td>\n",
       "      <td>Beverages</td>\n",
       "      <td>Thai</td>\n",
       "    </tr>\n",
       "    <tr>\n",
       "      <th>2</th>\n",
       "      <td>1196273</td>\n",
       "      <td>3</td>\n",
       "      <td>55</td>\n",
       "      <td>1885</td>\n",
       "      <td>132.92</td>\n",
       "      <td>133.92</td>\n",
       "      <td>0</td>\n",
       "      <td>0</td>\n",
       "      <td>96</td>\n",
       "      <td>647</td>\n",
       "      <td>56</td>\n",
       "      <td>TYPE_C</td>\n",
       "      <td>2.0</td>\n",
       "      <td>Beverages</td>\n",
       "      <td>Thai</td>\n",
       "    </tr>\n",
       "    <tr>\n",
       "      <th>3</th>\n",
       "      <td>1116527</td>\n",
       "      <td>4</td>\n",
       "      <td>55</td>\n",
       "      <td>1885</td>\n",
       "      <td>135.86</td>\n",
       "      <td>134.86</td>\n",
       "      <td>0</td>\n",
       "      <td>0</td>\n",
       "      <td>163</td>\n",
       "      <td>647</td>\n",
       "      <td>56</td>\n",
       "      <td>TYPE_C</td>\n",
       "      <td>2.0</td>\n",
       "      <td>Beverages</td>\n",
       "      <td>Thai</td>\n",
       "    </tr>\n",
       "    <tr>\n",
       "      <th>4</th>\n",
       "      <td>1343872</td>\n",
       "      <td>5</td>\n",
       "      <td>55</td>\n",
       "      <td>1885</td>\n",
       "      <td>146.50</td>\n",
       "      <td>147.50</td>\n",
       "      <td>0</td>\n",
       "      <td>0</td>\n",
       "      <td>215</td>\n",
       "      <td>647</td>\n",
       "      <td>56</td>\n",
       "      <td>TYPE_C</td>\n",
       "      <td>2.0</td>\n",
       "      <td>Beverages</td>\n",
       "      <td>Thai</td>\n",
       "    </tr>\n",
       "  </tbody>\n",
       "</table>\n",
       "</div>"
      ],
      "text/plain": [
       "        id  week  center_id  meal_id  checkout_price  base_price  \\\n",
       "0  1379560     1         55     1885          136.83      152.29   \n",
       "1  1018704     2         55     1885          135.83      152.29   \n",
       "2  1196273     3         55     1885          132.92      133.92   \n",
       "3  1116527     4         55     1885          135.86      134.86   \n",
       "4  1343872     5         55     1885          146.50      147.50   \n",
       "\n",
       "   emailer_for_promotion  homepage_featured  num_orders  city_code  \\\n",
       "0                      0                  0         177        647   \n",
       "1                      0                  0         323        647   \n",
       "2                      0                  0          96        647   \n",
       "3                      0                  0         163        647   \n",
       "4                      0                  0         215        647   \n",
       "\n",
       "   region_code center_type  op_area   category cuisine  \n",
       "0           56      TYPE_C      2.0  Beverages    Thai  \n",
       "1           56      TYPE_C      2.0  Beverages    Thai  \n",
       "2           56      TYPE_C      2.0  Beverages    Thai  \n",
       "3           56      TYPE_C      2.0  Beverages    Thai  \n",
       "4           56      TYPE_C      2.0  Beverages    Thai  "
      ]
     },
     "execution_count": 10,
     "metadata": {},
     "output_type": "execute_result"
    }
   ],
   "source": [
    "df1_merged.head()"
   ]
  },
  {
   "cell_type": "code",
   "execution_count": 11,
   "metadata": {},
   "outputs": [
    {
     "data": {
      "text/plain": [
       "['id',\n",
       " 'week',\n",
       " 'center_id',\n",
       " 'meal_id',\n",
       " 'checkout_price',\n",
       " 'base_price',\n",
       " 'emailer_for_promotion',\n",
       " 'homepage_featured',\n",
       " 'num_orders',\n",
       " 'city_code',\n",
       " 'region_code',\n",
       " 'center_type',\n",
       " 'op_area',\n",
       " 'category',\n",
       " 'cuisine']"
      ]
     },
     "execution_count": 11,
     "metadata": {},
     "output_type": "execute_result"
    }
   ],
   "source": [
    "list(df1_merged)"
   ]
  },
  {
   "cell_type": "code",
   "execution_count": 12,
   "metadata": {},
   "outputs": [],
   "source": [
    "df2_merged=df1_merged.copy()"
   ]
  },
  {
   "cell_type": "code",
   "execution_count": 13,
   "metadata": {},
   "outputs": [
    {
     "data": {
      "text/plain": [
       "array(['TYPE_C', 'TYPE_B', 'TYPE_A'], dtype=object)"
      ]
     },
     "execution_count": 13,
     "metadata": {},
     "output_type": "execute_result"
    }
   ],
   "source": [
    "df2_merged[\"center_type\"].unique()"
   ]
  },
  {
   "cell_type": "code",
   "execution_count": 14,
   "metadata": {},
   "outputs": [
    {
     "data": {
      "text/plain": [
       "array(['Beverages', 'Rice Bowl', 'Starters', 'Pasta', 'Sandwich',\n",
       "       'Biryani', 'Extras', 'Pizza', 'Seafood', 'Other Snacks', 'Desert',\n",
       "       'Salad', 'Fish', 'Soup'], dtype=object)"
      ]
     },
     "execution_count": 14,
     "metadata": {},
     "output_type": "execute_result"
    }
   ],
   "source": [
    "df2_merged[\"category\"].unique()"
   ]
  },
  {
   "cell_type": "code",
   "execution_count": 15,
   "metadata": {},
   "outputs": [
    {
     "data": {
      "text/plain": [
       "array(['Thai', 'Indian', 'Italian', 'Continental'], dtype=object)"
      ]
     },
     "execution_count": 15,
     "metadata": {},
     "output_type": "execute_result"
    }
   ],
   "source": [
    "df2_merged[\"cuisine\"].unique()"
   ]
  },
  {
   "cell_type": "code",
   "execution_count": 17,
   "metadata": {},
   "outputs": [],
   "source": [
    "lb_make = preprocessing.LabelEncoder()\n",
    "df1_merged['cuisine_code']=lb_make.fit_transform(df1_merged['cuisine'])\n",
    "df1_merged['center_type_code']=lb_make.fit_transform(df1_merged['center_type'])"
   ]
  },
  {
   "cell_type": "code",
   "execution_count": 20,
   "metadata": {},
   "outputs": [],
   "source": [
    "#enc.fit(df1_merged['center_type'])\n",
    "df1_merged=pd.get_dummies(df1_merged,columns=['category'],prefix=['category'], drop_first=True)"
   ]
  },
  {
   "cell_type": "code",
   "execution_count": 21,
   "metadata": {},
   "outputs": [
    {
     "name": "stdout",
     "output_type": "stream",
     "text": [
      "<class 'pandas.core.frame.DataFrame'>\n",
      "Int64Index: 456548 entries, 0 to 456547\n",
      "Data columns (total 29 columns):\n",
      "id                       456548 non-null int64\n",
      "week                     456548 non-null int64\n",
      "center_id                456548 non-null int64\n",
      "meal_id                  456548 non-null int64\n",
      "checkout_price           456548 non-null float64\n",
      "base_price               456548 non-null float64\n",
      "emailer_for_promotion    456548 non-null int64\n",
      "homepage_featured        456548 non-null int64\n",
      "num_orders               456548 non-null int64\n",
      "city_code                456548 non-null int64\n",
      "region_code              456548 non-null int64\n",
      "center_type              456548 non-null object\n",
      "op_area                  456548 non-null float64\n",
      "cuisine                  456548 non-null object\n",
      "cuisine_code             456548 non-null int32\n",
      "center_type_code         456548 non-null int32\n",
      "category_Biryani         456548 non-null uint8\n",
      "category_Desert          456548 non-null uint8\n",
      "category_Extras          456548 non-null uint8\n",
      "category_Fish            456548 non-null uint8\n",
      "category_Other Snacks    456548 non-null uint8\n",
      "category_Pasta           456548 non-null uint8\n",
      "category_Pizza           456548 non-null uint8\n",
      "category_Rice Bowl       456548 non-null uint8\n",
      "category_Salad           456548 non-null uint8\n",
      "category_Sandwich        456548 non-null uint8\n",
      "category_Seafood         456548 non-null uint8\n",
      "category_Soup            456548 non-null uint8\n",
      "category_Starters        456548 non-null uint8\n",
      "dtypes: float64(3), int32(2), int64(9), object(2), uint8(13)\n",
      "memory usage: 61.4+ MB\n"
     ]
    }
   ],
   "source": [
    "df1_merged.info()"
   ]
  },
  {
   "cell_type": "code",
   "execution_count": 22,
   "metadata": {},
   "outputs": [
    {
     "data": {
      "text/html": [
       "<div>\n",
       "<style scoped>\n",
       "    .dataframe tbody tr th:only-of-type {\n",
       "        vertical-align: middle;\n",
       "    }\n",
       "\n",
       "    .dataframe tbody tr th {\n",
       "        vertical-align: top;\n",
       "    }\n",
       "\n",
       "    .dataframe thead th {\n",
       "        text-align: right;\n",
       "    }\n",
       "</style>\n",
       "<table border=\"1\" class=\"dataframe\">\n",
       "  <thead>\n",
       "    <tr style=\"text-align: right;\">\n",
       "      <th></th>\n",
       "      <th>id</th>\n",
       "      <th>week</th>\n",
       "      <th>center_id</th>\n",
       "      <th>meal_id</th>\n",
       "      <th>checkout_price</th>\n",
       "      <th>base_price</th>\n",
       "      <th>emailer_for_promotion</th>\n",
       "      <th>homepage_featured</th>\n",
       "      <th>num_orders</th>\n",
       "      <th>city_code</th>\n",
       "      <th>...</th>\n",
       "      <th>category_Fish</th>\n",
       "      <th>category_Other Snacks</th>\n",
       "      <th>category_Pasta</th>\n",
       "      <th>category_Pizza</th>\n",
       "      <th>category_Rice Bowl</th>\n",
       "      <th>category_Salad</th>\n",
       "      <th>category_Sandwich</th>\n",
       "      <th>category_Seafood</th>\n",
       "      <th>category_Soup</th>\n",
       "      <th>category_Starters</th>\n",
       "    </tr>\n",
       "  </thead>\n",
       "  <tbody>\n",
       "    <tr>\n",
       "      <th>0</th>\n",
       "      <td>1379560</td>\n",
       "      <td>1</td>\n",
       "      <td>55</td>\n",
       "      <td>1885</td>\n",
       "      <td>136.83</td>\n",
       "      <td>152.29</td>\n",
       "      <td>0</td>\n",
       "      <td>0</td>\n",
       "      <td>177</td>\n",
       "      <td>647</td>\n",
       "      <td>...</td>\n",
       "      <td>0</td>\n",
       "      <td>0</td>\n",
       "      <td>0</td>\n",
       "      <td>0</td>\n",
       "      <td>0</td>\n",
       "      <td>0</td>\n",
       "      <td>0</td>\n",
       "      <td>0</td>\n",
       "      <td>0</td>\n",
       "      <td>0</td>\n",
       "    </tr>\n",
       "    <tr>\n",
       "      <th>1</th>\n",
       "      <td>1018704</td>\n",
       "      <td>2</td>\n",
       "      <td>55</td>\n",
       "      <td>1885</td>\n",
       "      <td>135.83</td>\n",
       "      <td>152.29</td>\n",
       "      <td>0</td>\n",
       "      <td>0</td>\n",
       "      <td>323</td>\n",
       "      <td>647</td>\n",
       "      <td>...</td>\n",
       "      <td>0</td>\n",
       "      <td>0</td>\n",
       "      <td>0</td>\n",
       "      <td>0</td>\n",
       "      <td>0</td>\n",
       "      <td>0</td>\n",
       "      <td>0</td>\n",
       "      <td>0</td>\n",
       "      <td>0</td>\n",
       "      <td>0</td>\n",
       "    </tr>\n",
       "    <tr>\n",
       "      <th>2</th>\n",
       "      <td>1196273</td>\n",
       "      <td>3</td>\n",
       "      <td>55</td>\n",
       "      <td>1885</td>\n",
       "      <td>132.92</td>\n",
       "      <td>133.92</td>\n",
       "      <td>0</td>\n",
       "      <td>0</td>\n",
       "      <td>96</td>\n",
       "      <td>647</td>\n",
       "      <td>...</td>\n",
       "      <td>0</td>\n",
       "      <td>0</td>\n",
       "      <td>0</td>\n",
       "      <td>0</td>\n",
       "      <td>0</td>\n",
       "      <td>0</td>\n",
       "      <td>0</td>\n",
       "      <td>0</td>\n",
       "      <td>0</td>\n",
       "      <td>0</td>\n",
       "    </tr>\n",
       "    <tr>\n",
       "      <th>3</th>\n",
       "      <td>1116527</td>\n",
       "      <td>4</td>\n",
       "      <td>55</td>\n",
       "      <td>1885</td>\n",
       "      <td>135.86</td>\n",
       "      <td>134.86</td>\n",
       "      <td>0</td>\n",
       "      <td>0</td>\n",
       "      <td>163</td>\n",
       "      <td>647</td>\n",
       "      <td>...</td>\n",
       "      <td>0</td>\n",
       "      <td>0</td>\n",
       "      <td>0</td>\n",
       "      <td>0</td>\n",
       "      <td>0</td>\n",
       "      <td>0</td>\n",
       "      <td>0</td>\n",
       "      <td>0</td>\n",
       "      <td>0</td>\n",
       "      <td>0</td>\n",
       "    </tr>\n",
       "    <tr>\n",
       "      <th>4</th>\n",
       "      <td>1343872</td>\n",
       "      <td>5</td>\n",
       "      <td>55</td>\n",
       "      <td>1885</td>\n",
       "      <td>146.50</td>\n",
       "      <td>147.50</td>\n",
       "      <td>0</td>\n",
       "      <td>0</td>\n",
       "      <td>215</td>\n",
       "      <td>647</td>\n",
       "      <td>...</td>\n",
       "      <td>0</td>\n",
       "      <td>0</td>\n",
       "      <td>0</td>\n",
       "      <td>0</td>\n",
       "      <td>0</td>\n",
       "      <td>0</td>\n",
       "      <td>0</td>\n",
       "      <td>0</td>\n",
       "      <td>0</td>\n",
       "      <td>0</td>\n",
       "    </tr>\n",
       "  </tbody>\n",
       "</table>\n",
       "<p>5 rows × 29 columns</p>\n",
       "</div>"
      ],
      "text/plain": [
       "        id  week  center_id  meal_id  checkout_price  base_price  \\\n",
       "0  1379560     1         55     1885          136.83      152.29   \n",
       "1  1018704     2         55     1885          135.83      152.29   \n",
       "2  1196273     3         55     1885          132.92      133.92   \n",
       "3  1116527     4         55     1885          135.86      134.86   \n",
       "4  1343872     5         55     1885          146.50      147.50   \n",
       "\n",
       "   emailer_for_promotion  homepage_featured  num_orders  city_code  ...  \\\n",
       "0                      0                  0         177        647  ...   \n",
       "1                      0                  0         323        647  ...   \n",
       "2                      0                  0          96        647  ...   \n",
       "3                      0                  0         163        647  ...   \n",
       "4                      0                  0         215        647  ...   \n",
       "\n",
       "   category_Fish category_Other Snacks  category_Pasta category_Pizza  \\\n",
       "0              0                     0               0              0   \n",
       "1              0                     0               0              0   \n",
       "2              0                     0               0              0   \n",
       "3              0                     0               0              0   \n",
       "4              0                     0               0              0   \n",
       "\n",
       "   category_Rice Bowl  category_Salad  category_Sandwich  category_Seafood  \\\n",
       "0                   0               0                  0                 0   \n",
       "1                   0               0                  0                 0   \n",
       "2                   0               0                  0                 0   \n",
       "3                   0               0                  0                 0   \n",
       "4                   0               0                  0                 0   \n",
       "\n",
       "   category_Soup  category_Starters  \n",
       "0              0                  0  \n",
       "1              0                  0  \n",
       "2              0                  0  \n",
       "3              0                  0  \n",
       "4              0                  0  \n",
       "\n",
       "[5 rows x 29 columns]"
      ]
     },
     "execution_count": 22,
     "metadata": {},
     "output_type": "execute_result"
    }
   ],
   "source": [
    "df1_merged.head()"
   ]
  },
  {
   "cell_type": "code",
   "execution_count": 23,
   "metadata": {},
   "outputs": [
    {
     "data": {
      "text/plain": [
       "['id',\n",
       " 'week',\n",
       " 'center_id',\n",
       " 'meal_id',\n",
       " 'checkout_price',\n",
       " 'base_price',\n",
       " 'emailer_for_promotion',\n",
       " 'homepage_featured',\n",
       " 'num_orders',\n",
       " 'city_code',\n",
       " 'region_code',\n",
       " 'center_type',\n",
       " 'op_area',\n",
       " 'cuisine',\n",
       " 'cuisine_code',\n",
       " 'center_type_code',\n",
       " 'category_Biryani',\n",
       " 'category_Desert',\n",
       " 'category_Extras',\n",
       " 'category_Fish',\n",
       " 'category_Other Snacks',\n",
       " 'category_Pasta',\n",
       " 'category_Pizza',\n",
       " 'category_Rice Bowl',\n",
       " 'category_Salad',\n",
       " 'category_Sandwich',\n",
       " 'category_Seafood',\n",
       " 'category_Soup',\n",
       " 'category_Starters']"
      ]
     },
     "execution_count": 23,
     "metadata": {},
     "output_type": "execute_result"
    }
   ],
   "source": [
    "list(df1_merged)"
   ]
  },
  {
   "cell_type": "code",
   "execution_count": 24,
   "metadata": {},
   "outputs": [],
   "source": [
    "columns=['week',\n",
    " 'checkout_price',\n",
    " 'base_price',\n",
    " 'emailer_for_promotion',\n",
    " 'homepage_featured',\n",
    " 'city_code',\n",
    " 'region_code',\n",
    " 'op_area',\n",
    " 'cuisine_code',\n",
    " 'center_type_code',\n",
    " 'category_Biryani',\n",
    " 'category_Desert',\n",
    " 'category_Extras',\n",
    " 'category_Fish',\n",
    " 'category_Other Snacks',\n",
    " 'category_Pasta',\n",
    " 'category_Pizza',\n",
    " 'category_Rice Bowl',\n",
    " 'category_Salad',\n",
    " 'category_Sandwich',\n",
    " 'category_Seafood',\n",
    " 'category_Soup',\n",
    " 'category_Starters']\n",
    "features_1 = df1_merged[list(columns)].values"
   ]
  },
  {
   "cell_type": "code",
   "execution_count": 25,
   "metadata": {},
   "outputs": [
    {
     "data": {
      "text/plain": [
       "(456548, 23)"
      ]
     },
     "execution_count": 25,
     "metadata": {},
     "output_type": "execute_result"
    }
   ],
   "source": [
    "features_1.shape"
   ]
  },
  {
   "cell_type": "code",
   "execution_count": 26,
   "metadata": {},
   "outputs": [],
   "source": [
    "columns1 = ['num_orders']\n",
    "target=df1_merged[list(columns1)].values"
   ]
  },
  {
   "cell_type": "code",
   "execution_count": 38,
   "metadata": {},
   "outputs": [],
   "source": [
    "from sklearn.model_selection import train_test_split\n",
    "from sklearn.metrics import accuracy_score, confusion_matrix, classification_report\n"
   ]
  },
  {
   "cell_type": "code",
   "execution_count": 39,
   "metadata": {},
   "outputs": [],
   "source": [
    "X_train, X_test, Y_train, Y_test = train_test_split(features_1,target, random_state=1, test_size=0.2)"
   ]
  },
  {
   "cell_type": "code",
   "execution_count": 27,
   "metadata": {},
   "outputs": [
    {
     "data": {
      "text/plain": [
       "<matplotlib.axes._subplots.AxesSubplot at 0x280797ff940>"
      ]
     },
     "execution_count": 27,
     "metadata": {},
     "output_type": "execute_result"
    },
    {
     "data": {
      "image/png": "[encoded data removed]",
      "text/plain": [
       "<Figure size 864x288 with 1 Axes>"
      ]
     },
     "metadata": {},
     "output_type": "display_data"
    },
    {
     "data": {
      "image/png": "[encoded data removed]",
      "text/plain": [
       "<Figure size 864x288 with 1 Axes>"
      ]
     },
     "metadata": {},
     "output_type": "display_data"
    }
   ],
   "source": [
    "from matplotlib import style\n",
    "style.use('ggplot')\n",
    "plt.figure(figsize=(12,4))\n",
    "sns.boxplot(x='checkout_price',data=df1_merged)\n",
    "plt.figure(figsize=(12,4))\n",
    "sns.boxplot(x='base_price',data=df1_merged)"
   ]
  },
  {
   "cell_type": "code",
   "execution_count": 29,
   "metadata": {},
   "outputs": [
    {
     "name": "stdout",
     "output_type": "stream",
     "text": [
      "[127890, 33408, 29941, 27694, 33291, 20614, 13562, 33138, 26916, 29379, 29294, 28559, 10187, 12675]\n",
      "['Beverages', 'Rice Bowl', 'Starters', 'Pasta', 'Sandwich', 'Biryani', 'Extras', 'Pizza', 'Seafood', 'Other Snacks', 'Desert', 'Salad', 'Fish', 'Soup']\n",
      "    order_count           cat\n",
      "0         10187          Fish\n",
      "1         12675          Soup\n",
      "2         13562        Extras\n",
      "3         20614       Biryani\n",
      "4         26916       Seafood\n",
      "5         27694         Pasta\n",
      "6         28559         Salad\n",
      "7         29294        Desert\n",
      "8         29379  Other Snacks\n",
      "9         29941      Starters\n",
      "10        33138         Pizza\n",
      "11        33291      Sandwich\n",
      "12        33408     Rice Bowl\n",
      "13       127890     Beverages\n"
     ]
    }
   ],
   "source": [
    "tt=[]\n",
    "ti=[]\n",
    "for i in df2_merged[\"category\"].unique():\n",
    "    df_cat=(df2_merged.loc[df2_merged[\"category\"]==i,'num_orders']).count()\n",
    "    tt.append(df_cat)\n",
    "    ti.append(i)\n",
    "    \n",
    "print(tt) \n",
    "print(ti)\n",
    "\n",
    "ttdf=pd.DataFrame({\"order_count\":tt,\"cat\":ti})\n",
    "ttdf=ttdf.sort_values([\"order_count\"]).reset_index(drop=True)\n",
    "print(ttdf)"
   ]
  },
  {
   "cell_type": "code",
   "execution_count": 30,
   "metadata": {},
   "outputs": [
    {
     "data": {
      "text/plain": [
       "Text(0.5, 0, 'Category')"
      ]
     },
     "execution_count": 30,
     "metadata": {},
     "output_type": "execute_result"
    },
    {
     "data": {
      "image/png": "[encoded data removed]",
      "text/plain": [
       "<Figure size 1440x576 with 1 Axes>"
      ]
     },
     "metadata": {},
     "output_type": "display_data"
    }
   ],
   "source": [
    "plt.figure(figsize=(20,8))\n",
    "ax=sns.barplot(x=ttdf[\"cat\"],y=ttdf[\"order_count\"])\n",
    "ax.set_title('Graph of total order vs category')\n",
    "ax.set_ylabel('Total order')\n",
    "ax.set_xlabel('Category')"
   ]
  },
  {
   "cell_type": "code",
   "execution_count": 31,
   "metadata": {},
   "outputs": [
    {
     "name": "stdout",
     "output_type": "stream",
     "text": [
      "id                           1300283\n",
      "week                              38\n",
      "center_id                         73\n",
      "meal_id                         1230\n",
      "checkout_price                  2.97\n",
      "base_price                    316.25\n",
      "emailer_for_promotion              0\n",
      "homepage_featured                  0\n",
      "num_orders                        14\n",
      "city_code                        576\n",
      "region_code                       34\n",
      "center_type                   TYPE_A\n",
      "op_area                            4\n",
      "cuisine                  Continental\n",
      "cuisine_code                       0\n",
      "center_type_code                   0\n",
      "category_Biryani                   0\n",
      "category_Desert                    0\n",
      "category_Extras                    0\n",
      "category_Fish                      0\n",
      "category_Other Snacks              0\n",
      "category_Pasta                     0\n",
      "category_Pizza                     0\n",
      "category_Rice Bowl                 0\n",
      "category_Salad                     0\n",
      "category_Sandwich                  0\n",
      "category_Seafood                   0\n",
      "category_Soup                      0\n",
      "category_Starters                  0\n",
      "Name: 112240, dtype: object\n",
      "\n",
      "id                           1213267\n",
      "week                             135\n",
      "center_id                         93\n",
      "meal_id                         1445\n",
      "checkout_price                866.27\n",
      "base_price                    866.27\n",
      "emailer_for_promotion              0\n",
      "homepage_featured                  0\n",
      "num_orders                        94\n",
      "city_code                        461\n",
      "region_code                       34\n",
      "center_type                   TYPE_A\n",
      "op_area                          3.9\n",
      "cuisine                  Continental\n",
      "cuisine_code                       0\n",
      "center_type_code                   0\n",
      "category_Biryani                   0\n",
      "category_Desert                    0\n",
      "category_Extras                    0\n",
      "category_Fish                      0\n",
      "category_Other Snacks              0\n",
      "category_Pasta                     0\n",
      "category_Pizza                     0\n",
      "category_Rice Bowl                 0\n",
      "category_Salad                     0\n",
      "category_Sandwich                  0\n",
      "category_Seafood                   1\n",
      "category_Soup                      0\n",
      "category_Starters                  0\n",
      "Name: 273770, dtype: object\n"
     ]
    }
   ],
   "source": [
    "#Maximum and Minimum checkout price values\n",
    "\n",
    "print(df1_merged.loc[df1_merged[\"checkout_price\"].idxmin()])\n",
    "print()\n",
    "print(df1_merged.loc[df1_merged[\"checkout_price\"].idxmax()])"
   ]
  },
  {
   "cell_type": "code",
   "execution_count": 40,
   "metadata": {},
   "outputs": [
    {
     "data": {
      "text/plain": [
       "DecisionTreeRegressor(criterion='mse', max_depth=3, max_features=None,\n",
       "           max_leaf_nodes=None, min_impurity_decrease=0.0,\n",
       "           min_impurity_split=None, min_samples_leaf=1,\n",
       "           min_samples_split=2, min_weight_fraction_leaf=0.0,\n",
       "           presort=False, random_state=None, splitter='best')"
      ]
     },
     "execution_count": 40,
     "metadata": {},
     "output_type": "execute_result"
    }
   ],
   "source": [
    "my_tree_one=tree.DecisionTreeRegressor(criterion='mse',max_depth=3)\n",
    "my_tree_one=my_tree_one.fit(X_train,Y_train)\n",
    "my_tree_one"
   ]
  },
  {
   "cell_type": "code",
   "execution_count": 41,
   "metadata": {},
   "outputs": [
    {
     "data": {
      "text/plain": [
       "array([261.32294861, 261.32294861, 314.98613607, ..., 261.32294861,\n",
       "       261.32294861, 261.32294861])"
      ]
     },
     "execution_count": 41,
     "metadata": {},
     "output_type": "execute_result"
    }
   ],
   "source": [
    "pred=my_tree_one.predict(X_test)\n",
    "pred"
   ]
  },
  {
   "cell_type": "code",
   "execution_count": 43,
   "metadata": {},
   "outputs": [
    {
     "name": "stdout",
     "output_type": "stream",
     "text": [
      "[0.         0.37999679 0.         0.         0.31472512 0.\n",
      " 0.         0.         0.         0.         0.         0.\n",
      " 0.         0.         0.         0.         0.         0.30527809\n",
      " 0.         0.         0.         0.         0.        ]\n",
      "0.27473650843439723\n"
     ]
    },
    {
     "data": {
      "text/plain": [
       "[('week', 0.0),\n",
       " ('checkout_price', 0.3799967912487949),\n",
       " ('base_price', 0.0),\n",
       " ('emailer_for_promotion', 0.0),\n",
       " ('homepage_featured', 0.31472512012811454),\n",
       " ('city_code', 0.0),\n",
       " ('region_code', 0.0),\n",
       " ('op_area', 0.0),\n",
       " ('cuisine_code', 0.0),\n",
       " ('center_type_code', 0.0),\n",
       " ('category_Biryani', 0.0),\n",
       " ('category_Desert', 0.0),\n",
       " ('category_Extras', 0.0),\n",
       " ('category_Fish', 0.0),\n",
       " ('category_Other Snacks', 0.0),\n",
       " ('category_Pasta', 0.0),\n",
       " ('category_Pizza', 0.0),\n",
       " ('category_Rice Bowl', 0.30527808862309064),\n",
       " ('category_Salad', 0.0),\n",
       " ('category_Sandwich', 0.0),\n",
       " ('category_Seafood', 0.0),\n",
       " ('category_Soup', 0.0),\n",
       " ('category_Starters', 0.0)]"
      ]
     },
     "execution_count": 43,
     "metadata": {},
     "output_type": "execute_result"
    }
   ],
   "source": [
    "# the Feature_importances_attribute make it simple to interpret the significance of the predictors you include\n",
    "print(my_tree_one.feature_importances_)\n",
    "print(my_tree_one.score(features_1,target))\n",
    "list(zip(columns,my_tree_one.feature_importances_))\n"
   ]
  },
  {
   "cell_type": "code",
   "execution_count": 34,
   "metadata": {},
   "outputs": [
    {
     "name": "stdout",
     "output_type": "stream",
     "text": [
      "<class 'pandas.core.frame.DataFrame'>\n",
      "RangeIndex: 32573 entries, 0 to 32572\n",
      "Data columns (total 8 columns):\n",
      "id                       32573 non-null int64\n",
      "week                     32573 non-null int64\n",
      "center_id                32573 non-null int64\n",
      "meal_id                  32573 non-null int64\n",
      "checkout_price           32573 non-null float64\n",
      "base_price               32573 non-null float64\n",
      "emailer_for_promotion    32573 non-null int64\n",
      "homepage_featured        32573 non-null int64\n",
      "dtypes: float64(2), int64(6)\n",
      "memory usage: 2.0 MB\n"
     ]
    }
   ],
   "source": [
    "df4=pd.read_csv(your_local_path+\"test_QoiMO9B.csv\")\n",
    "df4.head()\n",
    "df4.info()"
   ]
  },
  {
   "cell_type": "code",
   "execution_count": null,
   "metadata": {},
   "outputs": [],
   "source": [
    "df4_merged=pd.merge(df4,df2,left_on='center_id',right_on='center_id',how='inner')\n",
    "df4_merged=pd.merge(df4_merged,df2,left_on='meal_id',right_on='meal_id',how='inner')"
   ]
  },
  {
   "cell_type": "code",
   "execution_count": null,
   "metadata": {},
   "outputs": [],
   "source": [
    "df4_merged.info()"
   ]
  },
  {
   "cell_type": "code",
   "execution_count": null,
   "metadata": {},
   "outputs": [],
   "source": [
    "columns_test=[]\n",
    "features_test=df4_merged[list(columns_test)].values\n",
    "features_test"
   ]
  },
  {
   "cell_type": "code",
   "execution_count": 35,
   "metadata": {},
   "outputs": [
    {
     "ename": "NameError",
     "evalue": "name 'features_test' is not defined",
     "output_type": "error",
     "traceback": [
      "\u001b[1;31m---------------------------------------------------------------------------\u001b[0m",
      "\u001b[1;31mNameError\u001b[0m                                 Traceback (most recent call last)",
      "\u001b[1;32m<ipython-input-35-4e7c7827ff00>\u001b[0m in \u001b[0;36m<module>\u001b[1;34m\u001b[0m\n\u001b[1;32m----> 1\u001b[1;33m \u001b[0mpred\u001b[0m\u001b[1;33m=\u001b[0m\u001b[0mmy_tree_one\u001b[0m\u001b[1;33m.\u001b[0m\u001b[0mpredict\u001b[0m\u001b[1;33m(\u001b[0m\u001b[0mfeatures_test\u001b[0m\u001b[1;33m)\u001b[0m\u001b[1;33m\u001b[0m\u001b[1;33m\u001b[0m\u001b[0m\n\u001b[0m\u001b[0;32m      2\u001b[0m \u001b[0mpred\u001b[0m\u001b[1;33m\u001b[0m\u001b[1;33m\u001b[0m\u001b[0m\n",
      "\u001b[1;31mNameError\u001b[0m: name 'features_test' is not defined"
     ]
    }
   ],
   "source": [
    "pred=my_tree_one.predict(features_test)\n",
    "pred"
   ]
  },
  {
   "cell_type": "code",
   "execution_count": null,
   "metadata": {},
   "outputs": [],
   "source": [
    "pred.shape"
   ]
  },
  {
   "cell_type": "code",
   "execution_count": null,
   "metadata": {},
   "outputs": [],
   "source": [
    "pred=my_tree_one.predict(features_1)\n",
    "df_mse=metrics.mean_absolute_error(target,pred)\n",
    "df_mse"
   ]
  }
 ],
 "metadata": {
  "kernelspec": {
   "display_name": "Python 3",
   "language": "python",
   "name": "python3"
  },
  "language_info": {
   "codemirror_mode": {
    "name": "ipython",
    "version": 3
   },
   "file_extension": ".py",
   "mimetype": "text/x-python",
   "name": "python",
   "nbconvert_exporter": "python",
   "pygments_lexer": "ipython3",
   "version": "3.7.3"
  }
 },
 "nbformat": 4,
 "nbformat_minor": 2
}
