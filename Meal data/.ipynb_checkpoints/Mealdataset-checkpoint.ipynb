{
 "cells": [
  {
   "cell_type": "code",
   "execution_count": null,
   "metadata": {},
   "outputs": [],
   "source": [
    "your_local_path = \"C:/Users/sylve/Downloads/Machine learning/Dataset/Project datasets modified/Meal data/\""
   ]
  },
  {
   "cell_type": "code",
   "execution_count": null,
   "metadata": {},
   "outputs": [],
   "source": [
    "import pandas as pd\n",
    "from sklearn.preprocessing import imupter\n",
    "from sklearn import tree\n",
    "from sklearn import metrics\n",
    "from sklearn import preprocessing\n",
    "from sklearn import utils\n",
    "import numpy as np\n",
    "import matplotlib.pyplot as plt\n",
    "import seaborn as sns\n",
    "sns.set(style='darkgrid')\n",
    "% matplotlib inline"
   ]
  },
  {
   "cell_type": "code",
   "execution_count": null,
   "metadata": {},
   "outputs": [],
   "source": [
    "df1 = pd.read_csv(your_local_path+\"train.csv\")"
   ]
  },
  {
   "cell_type": "code",
   "execution_count": null,
   "metadata": {},
   "outputs": [],
   "source": [
    "df2 = pd.read_csv(your_local_path+\"fulfilment_center_info.csv\")"
   ]
  },
  {
   "cell_type": "code",
   "execution_count": null,
   "metadata": {},
   "outputs": [],
   "source": [
    "df3 = pd.read_csv(your_local_path+\"meal_info.csv\")"
   ]
  },
  {
   "cell_type": "code",
   "execution_count": null,
   "metadata": {},
   "outputs": [],
   "source": [
    "print(df1.info())\n",
    "print(df2.info())\n",
    "print(df3.info())"
   ]
  },
  {
   "cell_type": "code",
   "execution_count": null,
   "metadata": {},
   "outputs": [],
   "source": [
    "df1.describe()"
   ]
  },
  {
   "cell_type": "code",
   "execution_count": null,
   "metadata": {},
   "outputs": [],
   "source": [
    "df1_merged = pd.merge(df1,df2,left_on='center_id',right_on='center_id',how='inner')"
   ]
  },
  {
   "cell_type": "code",
   "execution_count": null,
   "metadata": {},
   "outputs": [],
   "source": [
    "df1_merged = pd.merge(df1_merged,df3,left_on='meal_id',right_on='meal_id',how='inner')"
   ]
  },
  {
   "cell_type": "code",
   "execution_count": null,
   "metadata": {},
   "outputs": [],
   "source": [
    "df1_merged.head()"
   ]
  },
  {
   "cell_type": "code",
   "execution_count": null,
   "metadata": {},
   "outputs": [],
   "source": [
    "list(df1_merged)"
   ]
  },
  {
   "cell_type": "code",
   "execution_count": null,
   "metadata": {},
   "outputs": [],
   "source": [
    "columns=[]\n",
    "features_1 = df1_merged[list(columns)].values"
   ]
  },
  {
   "cell_type": "code",
   "execution_count": null,
   "metadata": {},
   "outputs": [],
   "source": [
    "features_1"
   ]
  },
  {
   "cell_type": "code",
   "execution_count": null,
   "metadata": {},
   "outputs": [],
   "source": [
    "columns1 = ['num_orders']\n",
    "target=df1_merged[list(columns1)].values"
   ]
  },
  {
   "cell_type": "code",
   "execution_count": null,
   "metadata": {},
   "outputs": [],
   "source": [
    "from matplotlib import style\n",
    "style.use('ggplot')\n",
    "plt.figure(figsize=(12,4))\n",
    "sns.boxplot(x='checkout_price',data=df1_merged)\n",
    "plt.figure(figsize=(12,4))\n",
    "sns.boxplot(x='base_price',data=df1_merged)"
   ]
  },
  {
   "cell_type": "code",
   "execution_count": null,
   "metadata": {},
   "outputs": [],
   "source": [
    "tt=[]\n",
    "ti=[]\n",
    "for i in df_merged[\"category\"].unique():\n",
    "    df_cat=(df_merged.loc[df1_merged[\"category\"]==i,'num_orders']).count()\n",
    "    tt.append(df_cat)\n",
    "    ti.append(i)\n",
    "    \n",
    "print(tt) \n",
    "print(ti)\n",
    "\n",
    "ttdf=pd.DataFrame({\"order_count\":tt,\"cat\":ti})\n",
    "ttdf=ttdf.sort_values([\"order_count\"]).reset_index(drop=True)\n",
    "print(ttdf)"
   ]
  },
  {
   "cell_type": "code",
   "execution_count": null,
   "metadata": {},
   "outputs": [],
   "source": [
    "plt.figure(figsize=(12,8))\n",
    "ax=sns.barplot(x=ttdf[\"cat\"],y=ttdf[\"order_count\"])\n",
    "ax.set_title('Graph of total order vs category')\n",
    "ax.set_ylabel('Total order')\n",
    "ax.set_xlabel('Category')"
   ]
  },
  {
   "cell_type": "code",
   "execution_count": null,
   "metadata": {},
   "outputs": [],
   "source": [
    "#Maximum and Minimum checkout price values\n",
    "\n",
    "print(df1_merged.loc[df1_merged[\"checkout_price\"].idxmin()])\n",
    "print(df1_merged.loc[df1_merged[\"checkout_price\"].idxmax()])"
   ]
  },
  {
   "cell_type": "code",
   "execution_count": null,
   "metadata": {},
   "outputs": [],
   "source": [
    "print(df1_merged[\"cuisine\"].unique())\n",
    "print(df1_merged[\"category\"].unique())\n",
    "print(df1_merged[\"center_type\"].unique())"
   ]
  },
  {
   "cell_type": "code",
   "execution_count": null,
   "metadata": {},
   "outputs": [],
   "source": [
    "my_tree_one=tree.DecisionTreeRegressor(criterion='mse',max_depth=3)\n",
    "my_tree_one=my_tree_one.fit(features_1,target)\n",
    "my_tree_one"
   ]
  },
  {
   "cell_type": "code",
   "execution_count": null,
   "metadata": {},
   "outputs": [],
   "source": [
    "# the Feature_importances_attribute make it simple to interpret the significance of the predictors you include\n",
    "print(my_tree_one.feature_importances_)\n",
    "print(my_tree_one.score(features_1,target))\n",
    "list(zip(columns,my_tree_one.feature_importances_))"
   ]
  },
  {
   "cell_type": "code",
   "execution_count": null,
   "metadata": {},
   "outputs": [],
   "source": [
    "df4=pd.read_csv(your_local_path+\"test_QoiMO9B.csv\")\n",
    "df4.head()\n",
    "df4.info()"
   ]
  },
  {
   "cell_type": "code",
   "execution_count": null,
   "metadata": {},
   "outputs": [],
   "source": [
    "df4_merged=pd.merge(df4,df2,left_on='center_id',right_on='center_id',how='inner')\n",
    "df4_merged=pd.merge(df4_merged,df2,left_on='meal_id',right_on='meal_id',how='inner')"
   ]
  },
  {
   "cell_type": "code",
   "execution_count": null,
   "metadata": {},
   "outputs": [],
   "source": [
    "df4_merged.info()"
   ]
  },
  {
   "cell_type": "code",
   "execution_count": null,
   "metadata": {},
   "outputs": [],
   "source": [
    "columns_test=[]\n",
    "features_test=df4_merged[list(columns_test)].values\n",
    "features_test"
   ]
  },
  {
   "cell_type": "code",
   "execution_count": null,
   "metadata": {},
   "outputs": [],
   "source": [
    "pred=my_tree_one.predict(features_test)\n",
    "pred"
   ]
  },
  {
   "cell_type": "code",
   "execution_count": null,
   "metadata": {},
   "outputs": [],
   "source": [
    "pred.shape"
   ]
  },
  {
   "cell_type": "code",
   "execution_count": null,
   "metadata": {},
   "outputs": [],
   "source": [
    "pred=my_tree_one.predict(features_1)\n",
    "df_mse=metrics.mean_absolute_error(target,pred)\n",
    "df_mse"
   ]
  }
 ],
 "metadata": {
  "kernelspec": {
   "display_name": "Python 3",
   "language": "python",
   "name": "python3"
  },
  "language_info": {
   "codemirror_mode": {
    "name": "ipython",
    "version": 3
   },
   "file_extension": ".py",
   "mimetype": "text/x-python",
   "name": "python",
   "nbconvert_exporter": "python",
   "pygments_lexer": "ipython3",
   "version": "3.7.3"
  }
 },
 "nbformat": 4,
 "nbformat_minor": 2
}
