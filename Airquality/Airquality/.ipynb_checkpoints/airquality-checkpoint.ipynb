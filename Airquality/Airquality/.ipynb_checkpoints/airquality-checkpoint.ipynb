{
 "cells": [
  {
   "cell_type": "code",
   "execution_count": 1,
   "metadata": {},
   "outputs": [],
   "source": [
    "your_local_path = \"C:/Users/sylve/Downloads/Machine learning/Dataset/Project datasets modified/Airquality/Airquality/\""
   ]
  },
  {
   "cell_type": "code",
   "execution_count": 4,
   "metadata": {},
   "outputs": [],
   "source": [
    "\n",
    "from sklearn.preprocessing import Imputer\n",
    "from sklearn import tree\n",
    "from sklearn import metrics\n",
    "from sklearn import preprocessing\n",
    "from sklearn import utils\n",
    "import pandas as pd\n",
    "import numpy as np\n",
    "import matplotlib.pyplot as plt\n",
    "import seaborn as sns\n",
    "\n",
    "%matplotlib inline\n"
   ]
  },
  {
   "cell_type": "code",
   "execution_count": 7,
   "metadata": {},
   "outputs": [],
   "source": [
    "train_df = pd.read_csv(your_local_path+\"AirQualityUCI.csv\")"
   ]
  },
  {
   "cell_type": "code",
   "execution_count": 8,
   "metadata": {},
   "outputs": [
    {
     "data": {
      "text/html": [
       "<div>\n",
       "<style scoped>\n",
       "    .dataframe tbody tr th:only-of-type {\n",
       "        vertical-align: middle;\n",
       "    }\n",
       "\n",
       "    .dataframe tbody tr th {\n",
       "        vertical-align: top;\n",
       "    }\n",
       "\n",
       "    .dataframe thead th {\n",
       "        text-align: right;\n",
       "    }\n",
       "</style>\n",
       "<table border=\"1\" class=\"dataframe\">\n",
       "  <thead>\n",
       "    <tr style=\"text-align: right;\">\n",
       "      <th></th>\n",
       "      <th>Date</th>\n",
       "      <th>Time</th>\n",
       "      <th>CO(GT)</th>\n",
       "      <th>PT08.S1(CO)</th>\n",
       "      <th>NMHC(GT)</th>\n",
       "      <th>C6H6(GT)</th>\n",
       "      <th>PT08.S2(NMHC)</th>\n",
       "      <th>NOx(GT)</th>\n",
       "      <th>PT08.S3(NOx)</th>\n",
       "      <th>NO2(GT)</th>\n",
       "      <th>PT08.S4(NO2)</th>\n",
       "      <th>PT08.S5(O3)</th>\n",
       "      <th>T</th>\n",
       "      <th>RH</th>\n",
       "      <th>AH</th>\n",
       "    </tr>\n",
       "  </thead>\n",
       "  <tbody>\n",
       "    <tr>\n",
       "      <th>0</th>\n",
       "      <td>03-10-2004</td>\n",
       "      <td>18:00:00</td>\n",
       "      <td>2.6</td>\n",
       "      <td>1360</td>\n",
       "      <td>150</td>\n",
       "      <td>11.9</td>\n",
       "      <td>1046</td>\n",
       "      <td>166</td>\n",
       "      <td>1056</td>\n",
       "      <td>113</td>\n",
       "      <td>1692</td>\n",
       "      <td>1268</td>\n",
       "      <td>13.6</td>\n",
       "      <td>48.9</td>\n",
       "      <td>0.7578</td>\n",
       "    </tr>\n",
       "    <tr>\n",
       "      <th>1</th>\n",
       "      <td>03-10-2004</td>\n",
       "      <td>19:00:00</td>\n",
       "      <td>2.0</td>\n",
       "      <td>1292</td>\n",
       "      <td>112</td>\n",
       "      <td>9.4</td>\n",
       "      <td>955</td>\n",
       "      <td>103</td>\n",
       "      <td>1174</td>\n",
       "      <td>92</td>\n",
       "      <td>1559</td>\n",
       "      <td>972</td>\n",
       "      <td>13.3</td>\n",
       "      <td>47.7</td>\n",
       "      <td>0.7255</td>\n",
       "    </tr>\n",
       "    <tr>\n",
       "      <th>2</th>\n",
       "      <td>03-10-2004</td>\n",
       "      <td>20:00:00</td>\n",
       "      <td>2.2</td>\n",
       "      <td>1402</td>\n",
       "      <td>88</td>\n",
       "      <td>9.0</td>\n",
       "      <td>939</td>\n",
       "      <td>131</td>\n",
       "      <td>1140</td>\n",
       "      <td>114</td>\n",
       "      <td>1555</td>\n",
       "      <td>1074</td>\n",
       "      <td>11.9</td>\n",
       "      <td>54.0</td>\n",
       "      <td>0.7502</td>\n",
       "    </tr>\n",
       "    <tr>\n",
       "      <th>3</th>\n",
       "      <td>03-10-2004</td>\n",
       "      <td>21:00:00</td>\n",
       "      <td>2.2</td>\n",
       "      <td>1376</td>\n",
       "      <td>80</td>\n",
       "      <td>9.2</td>\n",
       "      <td>948</td>\n",
       "      <td>172</td>\n",
       "      <td>1092</td>\n",
       "      <td>122</td>\n",
       "      <td>1584</td>\n",
       "      <td>1203</td>\n",
       "      <td>11.0</td>\n",
       "      <td>60.0</td>\n",
       "      <td>0.7867</td>\n",
       "    </tr>\n",
       "    <tr>\n",
       "      <th>4</th>\n",
       "      <td>03-10-2004</td>\n",
       "      <td>22:00:00</td>\n",
       "      <td>1.6</td>\n",
       "      <td>1272</td>\n",
       "      <td>51</td>\n",
       "      <td>6.5</td>\n",
       "      <td>836</td>\n",
       "      <td>131</td>\n",
       "      <td>1205</td>\n",
       "      <td>116</td>\n",
       "      <td>1490</td>\n",
       "      <td>1110</td>\n",
       "      <td>11.2</td>\n",
       "      <td>59.6</td>\n",
       "      <td>0.7888</td>\n",
       "    </tr>\n",
       "  </tbody>\n",
       "</table>\n",
       "</div>"
      ],
      "text/plain": [
       "         Date      Time  CO(GT)  PT08.S1(CO)  NMHC(GT)  C6H6(GT)  \\\n",
       "0  03-10-2004  18:00:00     2.6         1360       150      11.9   \n",
       "1  03-10-2004  19:00:00     2.0         1292       112       9.4   \n",
       "2  03-10-2004  20:00:00     2.2         1402        88       9.0   \n",
       "3  03-10-2004  21:00:00     2.2         1376        80       9.2   \n",
       "4  03-10-2004  22:00:00     1.6         1272        51       6.5   \n",
       "\n",
       "   PT08.S2(NMHC)  NOx(GT)  PT08.S3(NOx)  NO2(GT)  PT08.S4(NO2)  PT08.S5(O3)  \\\n",
       "0           1046      166          1056      113          1692         1268   \n",
       "1            955      103          1174       92          1559          972   \n",
       "2            939      131          1140      114          1555         1074   \n",
       "3            948      172          1092      122          1584         1203   \n",
       "4            836      131          1205      116          1490         1110   \n",
       "\n",
       "      T    RH      AH  \n",
       "0  13.6  48.9  0.7578  \n",
       "1  13.3  47.7  0.7255  \n",
       "2  11.9  54.0  0.7502  \n",
       "3  11.0  60.0  0.7867  \n",
       "4  11.2  59.6  0.7888  "
      ]
     },
     "execution_count": 8,
     "metadata": {},
     "output_type": "execute_result"
    }
   ],
   "source": [
    "train_df.head()\n"
   ]
  },
  {
   "cell_type": "code",
   "execution_count": 9,
   "metadata": {},
   "outputs": [],
   "source": [
    "train_df = train_df.replace(-200,np.nan)"
   ]
  },
  {
   "cell_type": "code",
   "execution_count": 10,
   "metadata": {},
   "outputs": [],
   "source": [
    "train_df = train_df.dropna(thresh = 3)"
   ]
  },
  {
   "cell_type": "code",
   "execution_count": 14,
   "metadata": {},
   "outputs": [
    {
     "name": "stdout",
     "output_type": "stream",
     "text": [
      "<class 'pandas.core.frame.DataFrame'>\n",
      "Int64Index: 9326 entries, 0 to 9356\n",
      "Data columns (total 15 columns):\n",
      "Date             9326 non-null object\n",
      "Time             9326 non-null object\n",
      "CO(GT)           7674 non-null float64\n",
      "PT08.S1(CO)      8991 non-null float64\n",
      "NMHC(GT)         914 non-null float64\n",
      "C6H6(GT)         8991 non-null float64\n",
      "PT08.S2(NMHC)    8991 non-null float64\n",
      "NOx(GT)          7718 non-null float64\n",
      "PT08.S3(NOx)     8991 non-null float64\n",
      "NO2(GT)          7715 non-null float64\n",
      "PT08.S4(NO2)     8991 non-null float64\n",
      "PT08.S5(O3)      8991 non-null float64\n",
      "T                8991 non-null float64\n",
      "RH               8991 non-null float64\n",
      "AH               8991 non-null float64\n",
      "dtypes: float64(13), object(2)\n",
      "memory usage: 1.1+ MB\n"
     ]
    }
   ],
   "source": [
    "train_df.info()"
   ]
  },
  {
   "cell_type": "code",
   "execution_count": 11,
   "metadata": {},
   "outputs": [
    {
     "data": {
      "text/plain": [
       "(9326, 15)"
      ]
     },
     "execution_count": 11,
     "metadata": {},
     "output_type": "execute_result"
    }
   ],
   "source": [
    "train_df.shape"
   ]
  },
  {
   "cell_type": "code",
   "execution_count": 15,
   "metadata": {},
   "outputs": [],
   "source": [
    "train_df1 = train_df.drop(['NMHC(GT)'],axis=1)"
   ]
  },
  {
   "cell_type": "code",
   "execution_count": 16,
   "metadata": {},
   "outputs": [],
   "source": [
    "train_df1[\"Date\"]=pd.to_datetime(train_df1[\"Date\"])\n",
    "train_df1[\"Time\"]=pd.to_datetime(train_df1[\"Time\"])"
   ]
  },
  {
   "cell_type": "code",
   "execution_count": 17,
   "metadata": {},
   "outputs": [
    {
     "name": "stdout",
     "output_type": "stream",
     "text": [
      "<class 'pandas.core.frame.DataFrame'>\n",
      "Int64Index: 9326 entries, 0 to 9356\n",
      "Data columns (total 14 columns):\n",
      "Date             9326 non-null datetime64[ns]\n",
      "Time             9326 non-null datetime64[ns]\n",
      "CO(GT)           7674 non-null float64\n",
      "PT08.S1(CO)      8991 non-null float64\n",
      "C6H6(GT)         8991 non-null float64\n",
      "PT08.S2(NMHC)    8991 non-null float64\n",
      "NOx(GT)          7718 non-null float64\n",
      "PT08.S3(NOx)     8991 non-null float64\n",
      "NO2(GT)          7715 non-null float64\n",
      "PT08.S4(NO2)     8991 non-null float64\n",
      "PT08.S5(O3)      8991 non-null float64\n",
      "T                8991 non-null float64\n",
      "RH               8991 non-null float64\n",
      "AH               8991 non-null float64\n",
      "dtypes: datetime64[ns](2), float64(12)\n",
      "memory usage: 1.1 MB\n"
     ]
    }
   ],
   "source": [
    "train_df1.info()"
   ]
  },
  {
   "cell_type": "code",
   "execution_count": 18,
   "metadata": {},
   "outputs": [
    {
     "data": {
      "text/html": [
       "<div>\n",
       "<style scoped>\n",
       "    .dataframe tbody tr th:only-of-type {\n",
       "        vertical-align: middle;\n",
       "    }\n",
       "\n",
       "    .dataframe tbody tr th {\n",
       "        vertical-align: top;\n",
       "    }\n",
       "\n",
       "    .dataframe thead th {\n",
       "        text-align: right;\n",
       "    }\n",
       "</style>\n",
       "<table border=\"1\" class=\"dataframe\">\n",
       "  <thead>\n",
       "    <tr style=\"text-align: right;\">\n",
       "      <th></th>\n",
       "      <th>CO(GT)</th>\n",
       "      <th>PT08.S1(CO)</th>\n",
       "      <th>C6H6(GT)</th>\n",
       "      <th>PT08.S2(NMHC)</th>\n",
       "      <th>NOx(GT)</th>\n",
       "      <th>PT08.S3(NOx)</th>\n",
       "      <th>NO2(GT)</th>\n",
       "      <th>PT08.S4(NO2)</th>\n",
       "      <th>PT08.S5(O3)</th>\n",
       "      <th>T</th>\n",
       "      <th>RH</th>\n",
       "      <th>AH</th>\n",
       "    </tr>\n",
       "  </thead>\n",
       "  <tbody>\n",
       "    <tr>\n",
       "      <th>count</th>\n",
       "      <td>7674.000000</td>\n",
       "      <td>8991.000000</td>\n",
       "      <td>8991.000000</td>\n",
       "      <td>8991.000000</td>\n",
       "      <td>7718.000000</td>\n",
       "      <td>8991.000000</td>\n",
       "      <td>7715.000000</td>\n",
       "      <td>8991.000000</td>\n",
       "      <td>8991.000000</td>\n",
       "      <td>8991.000000</td>\n",
       "      <td>8991.000000</td>\n",
       "      <td>8991.000000</td>\n",
       "    </tr>\n",
       "    <tr>\n",
       "      <th>mean</th>\n",
       "      <td>2.152750</td>\n",
       "      <td>1099.833166</td>\n",
       "      <td>10.083105</td>\n",
       "      <td>939.153376</td>\n",
       "      <td>246.896735</td>\n",
       "      <td>835.493605</td>\n",
       "      <td>113.091251</td>\n",
       "      <td>1456.264598</td>\n",
       "      <td>1022.906128</td>\n",
       "      <td>18.317829</td>\n",
       "      <td>49.234201</td>\n",
       "      <td>1.025530</td>\n",
       "    </tr>\n",
       "    <tr>\n",
       "      <th>std</th>\n",
       "      <td>1.453252</td>\n",
       "      <td>217.080037</td>\n",
       "      <td>7.449820</td>\n",
       "      <td>266.831429</td>\n",
       "      <td>212.979168</td>\n",
       "      <td>256.817320</td>\n",
       "      <td>48.370108</td>\n",
       "      <td>346.206794</td>\n",
       "      <td>398.484288</td>\n",
       "      <td>8.832116</td>\n",
       "      <td>17.316892</td>\n",
       "      <td>0.403813</td>\n",
       "    </tr>\n",
       "    <tr>\n",
       "      <th>min</th>\n",
       "      <td>0.100000</td>\n",
       "      <td>647.000000</td>\n",
       "      <td>0.100000</td>\n",
       "      <td>383.000000</td>\n",
       "      <td>2.000000</td>\n",
       "      <td>322.000000</td>\n",
       "      <td>2.000000</td>\n",
       "      <td>551.000000</td>\n",
       "      <td>221.000000</td>\n",
       "      <td>-1.900000</td>\n",
       "      <td>9.200000</td>\n",
       "      <td>0.184700</td>\n",
       "    </tr>\n",
       "    <tr>\n",
       "      <th>25%</th>\n",
       "      <td>1.100000</td>\n",
       "      <td>937.000000</td>\n",
       "      <td>4.400000</td>\n",
       "      <td>734.500000</td>\n",
       "      <td>98.000000</td>\n",
       "      <td>658.000000</td>\n",
       "      <td>78.000000</td>\n",
       "      <td>1227.000000</td>\n",
       "      <td>731.500000</td>\n",
       "      <td>11.800000</td>\n",
       "      <td>35.800000</td>\n",
       "      <td>0.736800</td>\n",
       "    </tr>\n",
       "    <tr>\n",
       "      <th>50%</th>\n",
       "      <td>1.800000</td>\n",
       "      <td>1063.000000</td>\n",
       "      <td>8.200000</td>\n",
       "      <td>909.000000</td>\n",
       "      <td>180.000000</td>\n",
       "      <td>806.000000</td>\n",
       "      <td>109.000000</td>\n",
       "      <td>1463.000000</td>\n",
       "      <td>963.000000</td>\n",
       "      <td>17.800000</td>\n",
       "      <td>49.600000</td>\n",
       "      <td>0.995400</td>\n",
       "    </tr>\n",
       "    <tr>\n",
       "      <th>75%</th>\n",
       "      <td>2.900000</td>\n",
       "      <td>1231.000000</td>\n",
       "      <td>14.000000</td>\n",
       "      <td>1116.000000</td>\n",
       "      <td>326.000000</td>\n",
       "      <td>969.500000</td>\n",
       "      <td>142.000000</td>\n",
       "      <td>1674.000000</td>\n",
       "      <td>1273.500000</td>\n",
       "      <td>24.400000</td>\n",
       "      <td>62.500000</td>\n",
       "      <td>1.313700</td>\n",
       "    </tr>\n",
       "    <tr>\n",
       "      <th>max</th>\n",
       "      <td>11.900000</td>\n",
       "      <td>2040.000000</td>\n",
       "      <td>63.700000</td>\n",
       "      <td>2214.000000</td>\n",
       "      <td>1479.000000</td>\n",
       "      <td>2683.000000</td>\n",
       "      <td>340.000000</td>\n",
       "      <td>2775.000000</td>\n",
       "      <td>2523.000000</td>\n",
       "      <td>44.600000</td>\n",
       "      <td>88.700000</td>\n",
       "      <td>2.231000</td>\n",
       "    </tr>\n",
       "  </tbody>\n",
       "</table>\n",
       "</div>"
      ],
      "text/plain": [
       "            CO(GT)  PT08.S1(CO)     C6H6(GT)  PT08.S2(NMHC)      NOx(GT)  \\\n",
       "count  7674.000000  8991.000000  8991.000000    8991.000000  7718.000000   \n",
       "mean      2.152750  1099.833166    10.083105     939.153376   246.896735   \n",
       "std       1.453252   217.080037     7.449820     266.831429   212.979168   \n",
       "min       0.100000   647.000000     0.100000     383.000000     2.000000   \n",
       "25%       1.100000   937.000000     4.400000     734.500000    98.000000   \n",
       "50%       1.800000  1063.000000     8.200000     909.000000   180.000000   \n",
       "75%       2.900000  1231.000000    14.000000    1116.000000   326.000000   \n",
       "max      11.900000  2040.000000    63.700000    2214.000000  1479.000000   \n",
       "\n",
       "       PT08.S3(NOx)      NO2(GT)  PT08.S4(NO2)  PT08.S5(O3)            T  \\\n",
       "count   8991.000000  7715.000000   8991.000000  8991.000000  8991.000000   \n",
       "mean     835.493605   113.091251   1456.264598  1022.906128    18.317829   \n",
       "std      256.817320    48.370108    346.206794   398.484288     8.832116   \n",
       "min      322.000000     2.000000    551.000000   221.000000    -1.900000   \n",
       "25%      658.000000    78.000000   1227.000000   731.500000    11.800000   \n",
       "50%      806.000000   109.000000   1463.000000   963.000000    17.800000   \n",
       "75%      969.500000   142.000000   1674.000000  1273.500000    24.400000   \n",
       "max     2683.000000   340.000000   2775.000000  2523.000000    44.600000   \n",
       "\n",
       "                RH           AH  \n",
       "count  8991.000000  8991.000000  \n",
       "mean     49.234201     1.025530  \n",
       "std      17.316892     0.403813  \n",
       "min       9.200000     0.184700  \n",
       "25%      35.800000     0.736800  \n",
       "50%      49.600000     0.995400  \n",
       "75%      62.500000     1.313700  \n",
       "max      88.700000     2.231000  "
      ]
     },
     "execution_count": 18,
     "metadata": {},
     "output_type": "execute_result"
    }
   ],
   "source": [
    "train_df1.describe()"
   ]
  },
  {
   "cell_type": "code",
   "execution_count": 19,
   "metadata": {},
   "outputs": [],
   "source": [
    "train_df2=train_df1.iloc[:,2:]"
   ]
  },
  {
   "cell_type": "code",
   "execution_count": 20,
   "metadata": {},
   "outputs": [
    {
     "data": {
      "text/plain": [
       "CO(GT)              2.152750\n",
       "PT08.S1(CO)      1099.833166\n",
       "C6H6(GT)           10.083105\n",
       "PT08.S2(NMHC)     939.153376\n",
       "NOx(GT)           246.896735\n",
       "PT08.S3(NOx)      835.493605\n",
       "NO2(GT)           113.091251\n",
       "PT08.S4(NO2)     1456.264598\n",
       "PT08.S5(O3)      1022.906128\n",
       "T                  18.317829\n",
       "RH                 49.234201\n",
       "AH                  1.025530\n",
       "dtype: float64"
      ]
     },
     "execution_count": 20,
     "metadata": {},
     "output_type": "execute_result"
    }
   ],
   "source": [
    "train_df2.mean()"
   ]
  },
  {
   "cell_type": "code",
   "execution_count": 21,
   "metadata": {},
   "outputs": [],
   "source": [
    "train_df2=train_df2.fillna(train_df2.mean())"
   ]
  },
  {
   "cell_type": "code",
   "execution_count": 22,
   "metadata": {},
   "outputs": [
    {
     "data": {
      "text/plain": [
       "CO(GT)           0\n",
       "PT08.S1(CO)      0\n",
       "C6H6(GT)         0\n",
       "PT08.S2(NMHC)    0\n",
       "NOx(GT)          0\n",
       "PT08.S3(NOx)     0\n",
       "NO2(GT)          0\n",
       "PT08.S4(NO2)     0\n",
       "PT08.S5(O3)      0\n",
       "T                0\n",
       "RH               0\n",
       "AH               0\n",
       "dtype: int64"
      ]
     },
     "execution_count": 22,
     "metadata": {},
     "output_type": "execute_result"
    }
   ],
   "source": [
    "train_df2.isnull().sum()"
   ]
  },
  {
   "cell_type": "code",
   "execution_count": 24,
   "metadata": {},
   "outputs": [
    {
     "data": {
      "text/plain": [
       "array([[<matplotlib.axes._subplots.AxesSubplot object at 0x000002C74C2C64E0>,\n",
       "        <matplotlib.axes._subplots.AxesSubplot object at 0x000002C74C6F5550>,\n",
       "        <matplotlib.axes._subplots.AxesSubplot object at 0x000002C74C71CA58>],\n",
       "       [<matplotlib.axes._subplots.AxesSubplot object at 0x000002C74C740F28>,\n",
       "        <matplotlib.axes._subplots.AxesSubplot object at 0x000002C74C7704E0>,\n",
       "        <matplotlib.axes._subplots.AxesSubplot object at 0x000002C74C797A58>],\n",
       "       [<matplotlib.axes._subplots.AxesSubplot object at 0x000002C74C7BEFD0>,\n",
       "        <matplotlib.axes._subplots.AxesSubplot object at 0x000002C74C7ED5C0>,\n",
       "        <matplotlib.axes._subplots.AxesSubplot object at 0x000002C74C7ED5F8>],\n",
       "       [<matplotlib.axes._subplots.AxesSubplot object at 0x000002C74C8450B8>,\n",
       "        <matplotlib.axes._subplots.AxesSubplot object at 0x000002C74C86C630>,\n",
       "        <matplotlib.axes._subplots.AxesSubplot object at 0x000002C74C891BA8>]],\n",
       "      dtype=object)"
      ]
     },
     "execution_count": 24,
     "metadata": {},
     "output_type": "execute_result"
    },
    {
     "data": {
      "image/png": "[encoded data removed]",
      "text/plain": [
       "<Figure size 792x792 with 12 Axes>"
      ]
     },
     "metadata": {
      "needs_background": "light"
     },
     "output_type": "display_data"
    }
   ],
   "source": [
    "train_df2[train_df2.dtypes[(train_df2.dtypes==\"float64\")|(train_df2.dtypes==\"int64\")].index.values].hist(figsize=[11,11])"
   ]
  },
  {
   "cell_type": "code",
   "execution_count": 29,
   "metadata": {},
   "outputs": [
    {
     "data": {
      "text/plain": [
       "Index(['CO(GT)', 'PT08.S1(CO)', 'C6H6(GT)', 'PT08.S2(NMHC)', 'NOx(GT)',\n",
       "       'PT08.S3(NOx)', 'NO2(GT)', 'PT08.S4(NO2)', 'PT08.S5(O3)', 'T', 'RH',\n",
       "       'AH'],\n",
       "      dtype='object')"
      ]
     },
     "execution_count": 29,
     "metadata": {},
     "output_type": "execute_result"
    }
   ],
   "source": [
    "train_df2.columns"
   ]
  },
  {
   "cell_type": "code",
   "execution_count": 30,
   "metadata": {},
   "outputs": [],
   "source": [
    "X_train=train_df2"
   ]
  },
  {
   "cell_type": "code",
   "execution_count": 31,
   "metadata": {},
   "outputs": [],
   "source": [
    "X_train=X_train.drop(['RH'],axis=1)\n",
    "X_train_drp=X_train.drop(['CO(GT)','PT08.S1(CO)','C6H6(GT)','PT08.S2(NMHC)','PT08.S4(NO2)'],axis=1)"
   ]
  },
  {
   "cell_type": "code",
   "execution_count": 32,
   "metadata": {},
   "outputs": [
    {
     "data": {
      "text/plain": [
       "Index(['NOx(GT)', 'PT08.S3(NOx)', 'NO2(GT)', 'PT08.S5(O3)', 'T', 'AH'], dtype='object')"
      ]
     },
     "execution_count": 32,
     "metadata": {},
     "output_type": "execute_result"
    }
   ],
   "source": [
    "X_train_drp.columns"
   ]
  },
  {
   "cell_type": "code",
   "execution_count": 33,
   "metadata": {},
   "outputs": [],
   "source": [
    "Y_train=train_df2[\"RH\"]"
   ]
  },
  {
   "cell_type": "code",
   "execution_count": 35,
   "metadata": {},
   "outputs": [],
   "source": [
    "from sklearn.model_selection import train_test_split\n",
    "X_train1, X_test, Y_train1, Y_test = train_test_split(X_train, Y_train, random_state=1, test_size=0.2)\n",
    "X_train1_drp, X_test_drp, Y_train1, Y_test = train_test_split(X_train_drp, Y_train, random_state=1, test_size=0.2)"
   ]
  },
  {
   "cell_type": "code",
   "execution_count": 37,
   "metadata": {},
   "outputs": [],
   "source": [
    "from sklearn.preprocessing import MinMaxScaler\n",
    "min_max=MinMaxScaler()\n",
    "train_minmax=min_max.fit_transform(X_train1)\n",
    "test_minmax=min_max.fit_transform(X_test)\n",
    "\n",
    "train_drp_minmax=min_max.fit_transform(X_train1_drp)\n",
    "test_drp_minmax=min_max.fit_transform(X_test_drp)"
   ]
  },
  {
   "cell_type": "code",
   "execution_count": 40,
   "metadata": {},
   "outputs": [
    {
     "data": {
      "image/png": "[encoded data removed]",
      "text/plain": [
       "<Figure size 1080x720 with 1 Axes>"
      ]
     },
     "metadata": {
      "needs_background": "light"
     },
     "output_type": "display_data"
    }
   ],
   "source": [
    "plt.figure(figsize=(15,10))\n",
    "ax=sns.regplot(x='T',y=\"RH\",data=train_df2,x_estimator=np.mean)\n",
    "plt.show()"
   ]
  },
  {
   "cell_type": "code",
   "execution_count": 41,
   "metadata": {},
   "outputs": [],
   "source": [
    "# for each X, calculate VIF(Variance inflation factor)and save in dataframe, this is to check multicolinearity\n",
    "from statsmodels.stats.outliers_influence import variance_inflation_factor\n",
    "vif=pd.DataFrame()\n",
    "vif[\"VIF factor\"] = [variance_inflation_factor(X_train.values,i)for i in range(X_train.shape[1])]\n",
    "vif[\"features\"] = X_train.columns"
   ]
  },
  {
   "cell_type": "code",
   "execution_count": 42,
   "metadata": {},
   "outputs": [
    {
     "name": "stdout",
     "output_type": "stream",
     "text": [
      "    VIF factor       features\n",
      "0    17.904441         CO(GT)\n",
      "1   191.566377    PT08.S1(CO)\n",
      "2    55.476825       C6H6(GT)\n",
      "3   380.108677  PT08.S2(NMHC)\n",
      "4    13.732152        NOx(GT)\n",
      "5    21.722752   PT08.S3(NOx)\n",
      "6    27.395861        NO2(GT)\n",
      "7   233.230500   PT08.S4(NO2)\n",
      "8    66.693119    PT08.S5(O3)\n",
      "9    16.809231              T\n",
      "10   36.140937             AH\n"
     ]
    }
   ],
   "source": [
    "print(vif)"
   ]
  },
  {
   "cell_type": "code",
   "execution_count": 46,
   "metadata": {},
   "outputs": [],
   "source": [
    "corr=train_df2.corr()"
   ]
  },
  {
   "cell_type": "code",
   "execution_count": 48,
   "metadata": {},
   "outputs": [
    {
     "data": {
      "image/png": "[encoded data removed]",
      "text/plain": [
       "<Figure size 1080x1080 with 2 Axes>"
      ]
     },
     "metadata": {
      "needs_background": "light"
     },
     "output_type": "display_data"
    }
   ],
   "source": [
    "#heatmap show the correlationship between each of the variable\n",
    "plt.figure(figsize=(15,15))\n",
    "mask = np.zeros_like(corr)\n",
    "mask[np.triu_indices_from(mask)] = True\n",
    "with sns.axes_style(\"white\"):\n",
    "     ax = sns.heatmap(corr, mask=mask, annot=True)   "
   ]
  },
  {
   "cell_type": "code",
   "execution_count": 50,
   "metadata": {},
   "outputs": [
    {
     "data": {
      "text/plain": [
       "LinearRegression(copy_X=True, fit_intercept=True, n_jobs=None,\n",
       "         normalize=False)"
      ]
     },
     "execution_count": 50,
     "metadata": {},
     "output_type": "execute_result"
    }
   ],
   "source": [
    "#Using linearRegression\n",
    "# import LinearRegression from Sklearn\n",
    "\n",
    "from sklearn.linear_model import LinearRegression\n",
    "\n",
    "lin_model=LinearRegression()\n",
    "lin_model1 = LinearRegression()\n",
    "lin_model.fit(train_drp_minmax, Y_train1)\n",
    "lin_model1.fit(train_minmax, Y_train1)"
   ]
  },
  {
   "cell_type": "code",
   "execution_count": 51,
   "metadata": {},
   "outputs": [
    {
     "name": "stdout",
     "output_type": "stream",
     "text": [
      "                       0\n",
      "NOx(GT)         9.029127\n",
      "PT08.S3(NOx)    2.856629\n",
      "NO2(GT)        -8.747894\n",
      "PT08.S5(O3)     4.262712\n",
      "T            -108.052913\n",
      "AH             82.262088\n",
      "                       0\n",
      "NOx(GT)         9.029127\n",
      "PT08.S3(NOx)    2.856629\n",
      "NO2(GT)        -8.747894\n",
      "PT08.S5(O3)     4.262712\n",
      "T            -108.052913\n",
      "AH             82.262088\n"
     ]
    }
   ],
   "source": [
    "coef1 = pd.DataFrame(lin_model.coef_, index=X_train_drp.columns)\n",
    "print(coef1)\n",
    "\n",
    "coef2 = pd.DataFrame(lin_model1.coef_, index=X_train.columns)\n",
    "print(coef1)"
   ]
  },
  {
   "cell_type": "code",
   "execution_count": 52,
   "metadata": {},
   "outputs": [
    {
     "name": "stdout",
     "output_type": "stream",
     "text": [
      "[54.6046074  62.98100857 71.83294846 ... 71.74541583 46.11168706\n",
      " 58.26365656]\n",
      "[53.80398925 62.23232516 70.1159139  ... 69.48996124 43.52216815\n",
      " 54.29110139]\n"
     ]
    }
   ],
   "source": [
    "data_train_predictions1 = lin_model.predict(test_drp_minmax)\n",
    "print(data_train_predictions1)\n",
    "data_train_predictions2 = lin_model1.predict(test_minmax)\n",
    "print(data_train_predictions2)"
   ]
  },
  {
   "cell_type": "code",
   "execution_count": 53,
   "metadata": {},
   "outputs": [
    {
     "name": "stdout",
     "output_type": "stream",
     "text": [
      "RMSE: 6.575642218609559\n",
      "RMSE: 6.2519052317102295\n"
     ]
    }
   ],
   "source": [
    "print(\"RMSE:\",(np.sqrt(metrics.mean_squared_error(Y_test,data_train_predictions1))))\n",
    "print(\"RMSE:\",(np.sqrt(metrics.mean_squared_error(Y_test,data_train_predictions2))))"
   ]
  },
  {
   "cell_type": "code",
   "execution_count": 54,
   "metadata": {},
   "outputs": [
    {
     "name": "stdout",
     "output_type": "stream",
     "text": [
      "0.8494514234666297\n",
      "0.8639103567345447\n"
     ]
    }
   ],
   "source": [
    "print(lin_model.score(test_drp_minmax,Y_test))\n",
    "print(lin_model1.score(test_minmax,Y_test))"
   ]
  },
  {
   "cell_type": "code",
   "execution_count": 55,
   "metadata": {},
   "outputs": [
    {
     "name": "stdout",
     "output_type": "stream",
     "text": [
      "0.8494514234666297\n",
      "0.8639103567345447\n"
     ]
    }
   ],
   "source": [
    "print(metrics.r2_score(Y_test,data_train_predictions1))\n",
    "print(metrics.r2_score(Y_test,data_train_predictions2))"
   ]
  },
  {
   "cell_type": "code",
   "execution_count": 56,
   "metadata": {},
   "outputs": [
    {
     "data": {
      "text/plain": [
       "Index(['CO(GT)', 'PT08.S1(CO)', 'C6H6(GT)', 'PT08.S2(NMHC)', 'NOx(GT)',\n",
       "       'PT08.S3(NOx)', 'NO2(GT)', 'PT08.S4(NO2)', 'PT08.S5(O3)', 'T'],\n",
       "      dtype='object')"
      ]
     },
     "execution_count": 56,
     "metadata": {},
     "output_type": "execute_result"
    }
   ],
   "source": [
    "X_train.iloc[:,0:10].columns"
   ]
  },
  {
   "cell_type": "code",
   "execution_count": 57,
   "metadata": {},
   "outputs": [
    {
     "data": {
      "text/html": [
       "<div>\n",
       "<style scoped>\n",
       "    .dataframe tbody tr th:only-of-type {\n",
       "        vertical-align: middle;\n",
       "    }\n",
       "\n",
       "    .dataframe tbody tr th {\n",
       "        vertical-align: top;\n",
       "    }\n",
       "\n",
       "    .dataframe thead th {\n",
       "        text-align: right;\n",
       "    }\n",
       "</style>\n",
       "<table border=\"1\" class=\"dataframe\">\n",
       "  <thead>\n",
       "    <tr style=\"text-align: right;\">\n",
       "      <th></th>\n",
       "      <th>CO(GT)</th>\n",
       "      <th>PT08.S1(CO)</th>\n",
       "      <th>C6H6(GT)</th>\n",
       "      <th>PT08.S2(NMHC)</th>\n",
       "      <th>NOx(GT)</th>\n",
       "      <th>PT08.S3(NOx)</th>\n",
       "      <th>NO2(GT)</th>\n",
       "      <th>PT08.S4(NO2)</th>\n",
       "      <th>PT08.S5(O3)</th>\n",
       "      <th>T</th>\n",
       "      <th>AH</th>\n",
       "    </tr>\n",
       "  </thead>\n",
       "  <tbody>\n",
       "    <tr>\n",
       "      <th>6962</th>\n",
       "      <td>6.2</td>\n",
       "      <td>1739.0</td>\n",
       "      <td>21.3</td>\n",
       "      <td>1333.0</td>\n",
       "      <td>821.000000</td>\n",
       "      <td>460.0</td>\n",
       "      <td>174.000000</td>\n",
       "      <td>1689.0</td>\n",
       "      <td>1832.0</td>\n",
       "      <td>11.3</td>\n",
       "      <td>1.0455</td>\n",
       "    </tr>\n",
       "    <tr>\n",
       "      <th>4301</th>\n",
       "      <td>1.3</td>\n",
       "      <td>965.0</td>\n",
       "      <td>5.1</td>\n",
       "      <td>769.0</td>\n",
       "      <td>246.896735</td>\n",
       "      <td>878.0</td>\n",
       "      <td>113.091251</td>\n",
       "      <td>1315.0</td>\n",
       "      <td>667.0</td>\n",
       "      <td>25.9</td>\n",
       "      <td>1.0826</td>\n",
       "    </tr>\n",
       "    <tr>\n",
       "      <th>3705</th>\n",
       "      <td>0.6</td>\n",
       "      <td>869.0</td>\n",
       "      <td>2.4</td>\n",
       "      <td>614.0</td>\n",
       "      <td>246.896735</td>\n",
       "      <td>1001.0</td>\n",
       "      <td>113.091251</td>\n",
       "      <td>1565.0</td>\n",
       "      <td>674.0</td>\n",
       "      <td>25.6</td>\n",
       "      <td>2.0566</td>\n",
       "    </tr>\n",
       "    <tr>\n",
       "      <th>4890</th>\n",
       "      <td>1.7</td>\n",
       "      <td>1158.0</td>\n",
       "      <td>10.8</td>\n",
       "      <td>1008.0</td>\n",
       "      <td>246.896735</td>\n",
       "      <td>695.0</td>\n",
       "      <td>113.091251</td>\n",
       "      <td>1489.0</td>\n",
       "      <td>1175.0</td>\n",
       "      <td>24.6</td>\n",
       "      <td>1.3053</td>\n",
       "    </tr>\n",
       "    <tr>\n",
       "      <th>9338</th>\n",
       "      <td>2.5</td>\n",
       "      <td>1180.0</td>\n",
       "      <td>7.9</td>\n",
       "      <td>894.0</td>\n",
       "      <td>355.000000</td>\n",
       "      <td>636.0</td>\n",
       "      <td>187.000000</td>\n",
       "      <td>1200.0</td>\n",
       "      <td>1372.0</td>\n",
       "      <td>17.5</td>\n",
       "      <td>0.8073</td>\n",
       "    </tr>\n",
       "  </tbody>\n",
       "</table>\n",
       "</div>"
      ],
      "text/plain": [
       "      CO(GT)  PT08.S1(CO)  C6H6(GT)  PT08.S2(NMHC)     NOx(GT)  PT08.S3(NOx)  \\\n",
       "6962     6.2       1739.0      21.3         1333.0  821.000000         460.0   \n",
       "4301     1.3        965.0       5.1          769.0  246.896735         878.0   \n",
       "3705     0.6        869.0       2.4          614.0  246.896735        1001.0   \n",
       "4890     1.7       1158.0      10.8         1008.0  246.896735         695.0   \n",
       "9338     2.5       1180.0       7.9          894.0  355.000000         636.0   \n",
       "\n",
       "         NO2(GT)  PT08.S4(NO2)  PT08.S5(O3)     T      AH  \n",
       "6962  174.000000        1689.0       1832.0  11.3  1.0455  \n",
       "4301  113.091251        1315.0        667.0  25.9  1.0826  \n",
       "3705  113.091251        1565.0        674.0  25.6  2.0566  \n",
       "4890  113.091251        1489.0       1175.0  24.6  1.3053  \n",
       "9338  187.000000        1200.0       1372.0  17.5  0.8073  "
      ]
     },
     "execution_count": 57,
     "metadata": {},
     "output_type": "execute_result"
    }
   ],
   "source": [
    "X_train1.head()"
   ]
  },
  {
   "cell_type": "code",
   "execution_count": 58,
   "metadata": {},
   "outputs": [
    {
     "name": "stdout",
     "output_type": "stream",
     "text": [
      "                       0\n",
      "CO(GT)         -0.526847\n",
      "PT08.S1(CO)     0.010008\n",
      "C6H6(GT)       -0.777630\n",
      "PT08.S2(NMHC)   0.002277\n",
      "NOx(GT)         0.015631\n",
      "PT08.S3(NOx)   -0.000889\n",
      "NO2(GT)        -0.036187\n",
      "PT08.S4(NO2)    0.014211\n",
      "PT08.S5(O3)    -0.001007\n",
      "T              -2.321383\n",
      "AH             34.131667\n",
      "[53.29385147 60.61455371 66.76824488 ... 68.88213793 42.94741757\n",
      " 55.58978721]\n",
      "RMSE: 6.041769636510455\n",
      "-14315336.309439799\n",
      "0.872904952514318\n"
     ]
    }
   ],
   "source": [
    "# Without scaling\n",
    "\n",
    "lin_model_withoutscale = LinearRegression()\n",
    "lin_model_withoutscale.fit(X_train1,Y_train1) \n",
    "coef12 = pd.DataFrame(lin_model_withoutscale.coef_, index=X_train.columns)\n",
    "print(coef12)\n",
    "data_pred_train = lin_model_withoutscale.predict(X_test)\n",
    "print(data_pred_train)\n",
    "print(\"RMSE:\",(np.sqrt(metrics.mean_squared_error(Y_test,data_pred_train))))\n",
    "print(lin_model1.score(X_test,Y_test))\n",
    "print(metrics.r2_score(Y_test,data_pred_train))"
   ]
  },
  {
   "cell_type": "code",
   "execution_count": 59,
   "metadata": {},
   "outputs": [
    {
     "data": {
      "text/plain": [
       "DecisionTreeRegressor(criterion='mse', max_depth=3, max_features=None,\n",
       "           max_leaf_nodes=None, min_impurity_decrease=0.0,\n",
       "           min_impurity_split=None, min_samples_leaf=1,\n",
       "           min_samples_split=2, min_weight_fraction_leaf=0.0,\n",
       "           presort=False, random_state=None, splitter='best')"
      ]
     },
     "execution_count": 59,
     "metadata": {},
     "output_type": "execute_result"
    }
   ],
   "source": [
    "#using Decision Tree\n",
    "\n",
    "my_tree_one = tree.DecisionTreeRegressor(criterion=\"mse\", max_depth=3)\n",
    "my_tree_one = my_tree_one.fit(train_minmax,Y_train1)\n",
    "my_tree_one"
   ]
  },
  {
   "cell_type": "code",
   "execution_count": 61,
   "metadata": {},
   "outputs": [
    {
     "name": "stdout",
     "output_type": "stream",
     "text": [
      "[0.         0.         0.         0.         0.         0.\n",
      " 0.         0.         0.         0.74942044 0.25057956]\n",
      "0.6294124247761766\n"
     ]
    }
   ],
   "source": [
    "# the featue_importance_attribute make it simple to interpret the significance of the predictors you include\n",
    "print(my_tree_one.feature_importances_)\n",
    "print(my_tree_one.score(train_minmax,Y_train1))"
   ]
  },
  {
   "cell_type": "code",
   "execution_count": 62,
   "metadata": {},
   "outputs": [
    {
     "data": {
      "text/plain": [
       "array([66.51452682, 66.51452682, 66.51452682, ..., 52.40264924,\n",
       "       49.07616361, 48.3405    ])"
      ]
     },
     "execution_count": 62,
     "metadata": {},
     "output_type": "execute_result"
    }
   ],
   "source": [
    "pred = my_tree_one.predict(test_minmax)\n",
    "pred"
   ]
  },
  {
   "cell_type": "code",
   "execution_count": 63,
   "metadata": {},
   "outputs": [
    {
     "data": {
      "text/plain": [
       "10.402713698928254"
      ]
     },
     "execution_count": 63,
     "metadata": {},
     "output_type": "execute_result"
    }
   ],
   "source": [
    "#print mean squared error\n",
    "df_mse = np.sqrt(metrics.mean_squared_error(Y_test,pred))\n",
    "df_mse"
   ]
  },
  {
   "cell_type": "code",
   "execution_count": 64,
   "metadata": {},
   "outputs": [
    {
     "name": "stdout",
     "output_type": "stream",
     "text": [
      "0.6232150083176032\n"
     ]
    }
   ],
   "source": [
    "print(my_tree_one.score(test_minmax,Y_test))"
   ]
  }
 ],
 "metadata": {
  "kernelspec": {
   "display_name": "Python 3",
   "language": "python",
   "name": "python3"
  },
  "language_info": {
   "codemirror_mode": {
    "name": "ipython",
    "version": 3
   },
   "file_extension": ".py",
   "mimetype": "text/x-python",
   "name": "python",
   "nbconvert_exporter": "python",
   "pygments_lexer": "ipython3",
   "version": "3.7.3"
  }
 },
 "nbformat": 4,
 "nbformat_minor": 2
}
