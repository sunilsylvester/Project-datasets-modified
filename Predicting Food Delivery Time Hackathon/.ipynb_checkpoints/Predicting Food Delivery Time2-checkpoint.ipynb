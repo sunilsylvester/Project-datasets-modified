{
 "cells": [
  {
   "cell_type": "code",
   "execution_count": 1,
   "metadata": {},
   "outputs": [],
   "source": [
    "your_local_path = \"C:/Users/sylve/Downloads/Machine learning/Dataset/Project datasets modified/Predicting Food Delivery Time Hackathon/\""
   ]
  },
  {
   "cell_type": "code",
   "execution_count": 2,
   "metadata": {},
   "outputs": [],
   "source": [
    "\n",
    "from sklearn.preprocessing import Imputer\n",
    "from sklearn import metrics\n",
    "\n",
    "from sklearn import preprocessing\n",
    "from sklearn import utils\n",
    "import pandas as pd\n",
    "import numpy as np\n",
    "import matplotlib.pyplot as plt\n",
    "import seaborn as sns\n",
    "\n",
    "%matplotlib inline"
   ]
  },
  {
   "cell_type": "code",
   "execution_count": 3,
   "metadata": {},
   "outputs": [],
   "source": [
    "pd.set_option('display.max_rows', 12000)\n",
    "pd.set_option('display.max_columns', 200)\n"
   ]
  },
  {
   "cell_type": "code",
   "execution_count": 4,
   "metadata": {},
   "outputs": [],
   "source": [
    "df1 = pd.read_csv(your_local_path+\"new_Data_train.csv\")"
   ]
  },
  {
   "cell_type": "code",
   "execution_count": 5,
   "metadata": {},
   "outputs": [
    {
     "data": {
      "image/png": "[encoded data removed]",
      "text/plain": [
       "<Figure size 1872x432 with 1 Axes>"
      ]
     },
     "metadata": {
      "needs_background": "light"
     },
     "output_type": "display_data"
    }
   ],
   "source": [
    "plt.figure(figsize=(26, 6))\n",
    "sns.boxplot(x=\"Average_Cost_Rupees\",data=df1)\n",
    "\n",
    "plt.show()"
   ]
  },
  {
   "cell_type": "markdown",
   "metadata": {},
   "source": [
    "Rating = 2-5, \n",
    "Average_Cost_Rupees = 50 - 2050\n",
    "Votes = 1-6504"
   ]
  },
  {
   "cell_type": "code",
   "execution_count": 6,
   "metadata": {},
   "outputs": [
    {
     "data": {
      "text/plain": [
       "17"
      ]
     },
     "execution_count": 6,
     "metadata": {},
     "output_type": "execute_result"
    }
   ],
   "source": [
    "round(df1.Votes[(df1['Rating']>=2)&(df1['Rating']<3)&(df1['Average_Cost_Rupees']>=50)&(df1['Average_Cost_Rupees']<100)].mean())\n",
    "#round(df1.Votes[(df1['Rating']<3)&(df1['Rating']<3)&(df1['Average_Cost_Rupees']>300)].mean())\n",
    "#round(df1.Votes[(df1['Rating']<3)&(df1['Rating']<3)&(df1['Average_Cost_Rupees']>300)].mean())\n",
    "\n",
    "#df1.Votes[(df1['Rating']<3)&(df1['Average_Cost_Rupees']>300)].count()\n",
    "\n",
    "#df1.Votes[df1['Average_Cost_Rupees']>250].count()"
   ]
  },
  {
   "cell_type": "code",
   "execution_count": 7,
   "metadata": {},
   "outputs": [
    {
     "name": "stdout",
     "output_type": "stream",
     "text": [
      "8782\n"
     ]
    },
    {
     "name": "stderr",
     "output_type": "stream",
     "text": [
      "D:\\install\\anaconda\\lib\\site-packages\\numpy\\lib\\histograms.py:824: RuntimeWarning: invalid value encountered in greater_equal\n",
      "  keep = (tmp_a >= first_edge)\n",
      "D:\\install\\anaconda\\lib\\site-packages\\numpy\\lib\\histograms.py:825: RuntimeWarning: invalid value encountered in less_equal\n",
      "  keep &= (tmp_a <= last_edge)\n"
     ]
    },
    {
     "data": {
      "text/plain": [
       "(array([8.407e+03, 2.380e+02, 7.300e+01, 4.600e+01, 9.000e+00, 3.000e+00,\n",
       "        2.000e+00, 1.000e+00, 1.000e+00, 2.000e+00]),\n",
       " array([1.0000e+00, 6.5130e+02, 1.3016e+03, 1.9519e+03, 2.6022e+03,\n",
       "        3.2525e+03, 3.9028e+03, 4.5531e+03, 5.2034e+03, 5.8537e+03,\n",
       "        6.5040e+03]),\n",
       " <a list of 10 Patch objects>)"
      ]
     },
     "execution_count": 7,
     "metadata": {},
     "output_type": "execute_result"
    },
    {
     "data": {
      "image/png": "[encoded data removed]",
      "text/plain": [
       "<Figure size 432x288 with 1 Axes>"
      ]
     },
     "metadata": {
      "needs_background": "light"
     },
     "output_type": "display_data"
    }
   ],
   "source": [
    "print(df1['Reviews'].count())\n",
    "\n",
    "plt.hist(x=df1['Reviews'])"
   ]
  },
  {
   "cell_type": "code",
   "execution_count": null,
   "metadata": {},
   "outputs": [],
   "source": [
    "#for i in df1['Location'].unique():\n",
    "#    for j in df1['Average_Cost_Rupees'].unique():\n",
    "#        print(i,j,df1['Rating'].fillna(df1.Rating[(df1['Location']== i)&(df1['Average_Cost_Rupees']==j)].mean()))\n",
    " "
   ]
  },
  {
   "cell_type": "code",
   "execution_count": 32,
   "metadata": {
    "scrolled": true
   },
   "outputs": [
    {
     "name": "stderr",
     "output_type": "stream",
     "text": [
      "D:\\install\\anaconda\\lib\\site-packages\\ipykernel_launcher.py:5: SettingWithCopyWarning: \n",
      "A value is trying to be set on a copy of a slice from a DataFrame\n",
      "\n",
      "See the caveats in the documentation: http://pandas.pydata.org/pandas-docs/stable/indexing.html#indexing-view-versus-copy\n",
      "  \"\"\"\n"
     ]
    },
    {
     "name": "stdout",
     "output_type": "stream",
     "text": [
      "Wall time: 26.4 s\n"
     ]
    }
   ],
   "source": [
    "def fi(df1):\n",
    "    \n",
    "    for i in range(2,6):\n",
    "        for j in range(50,2100,50):\n",
    "            df1.Votes[(df1['Rating']>=i)&(df1['Rating']<i+1)&(df1['Average_Cost_Rupees']>=j)&(df1['Average_Cost_Rupees']<j+50)] = df1.Votes[(df1['Rating']>=i)&(df1['Rating']<i+1)&(df1['Average_Cost_Rupees']>=j)&(df1['Average_Cost_Rupees']<j+50)].fillna(df1.Votes[(df1['Rating']>=i)&(df1['Rating']<i+1)&(df1['Average_Cost_Rupees']>=j)&(df1['Average_Cost_Rupees']<j+50)].mean()) \n",
    "            #print(i,j,df1.Votes[(df1['Rating']>=i)&(df1['Rating']<i+1)&(df1['Average_Cost_Rupees']>=j)&(df1['Average_Cost_Rupees']<j+50)].fillna(df1.Votes[(df1['Rating']>=i)&(df1['Rating']<i+1)&(df1['Average_Cost_Rupees']>=j)&(df1['Average_Cost_Rupees']<j+50)].mean()))\n",
    "\n",
    "\n",
    "%time fi(df1)"
   ]
  },
  {
   "cell_type": "code",
   "execution_count": 47,
   "metadata": {},
   "outputs": [
    {
     "name": "stderr",
     "output_type": "stream",
     "text": [
      "D:\\install\\anaconda\\lib\\site-packages\\ipykernel_launcher.py:5: SettingWithCopyWarning: \n",
      "A value is trying to be set on a copy of a slice from a DataFrame\n",
      "\n",
      "See the caveats in the documentation: http://pandas.pydata.org/pandas-docs/stable/indexing.html#indexing-view-versus-copy\n",
      "  \"\"\"\n"
     ]
    },
    {
     "name": "stdout",
     "output_type": "stream",
     "text": [
      "Wall time: 13min 8s\n"
     ]
    }
   ],
   "source": [
    "def fa(df1):\n",
    "    for i in range(2,6):\n",
    "        for j in range(50,2100,50):\n",
    "            for k in range(0,1500,50):\n",
    "                df1.Reviews[(df1['Votes']>=k)&(df1['Votes']<k+50)&(df1['Rating']>=i)&(df1['Rating']<i+1)&(df1['Average_Cost_Rupees']>=j)&(df1['Average_Cost_Rupees']<j+50)] = df1.Reviews[(df1['Votes']>=k)&(df1['Votes']<k+50)&(df1['Rating']>=i)&(df1['Rating']<i+1)&(df1['Average_Cost_Rupees']>=j)&(df1['Average_Cost_Rupees']<j+50)].fillna(df1.Reviews[(df1['Votes']>=k)&(df1['Votes']<k+50)&(df1['Rating']>=i)&(df1['Rating']<i+1)&(df1['Average_Cost_Rupees']>=j)&(df1['Average_Cost_Rupees']<j+50)].mean()) \n",
    "%time fa(df1)"
   ]
  },
  {
   "cell_type": "code",
   "execution_count": 57,
   "metadata": {},
   "outputs": [
    {
     "data": {
      "text/html": [
       "<div>\n",
       "<style scoped>\n",
       "    .dataframe tbody tr th:only-of-type {\n",
       "        vertical-align: middle;\n",
       "    }\n",
       "\n",
       "    .dataframe tbody tr th {\n",
       "        vertical-align: top;\n",
       "    }\n",
       "\n",
       "    .dataframe thead th {\n",
       "        text-align: right;\n",
       "    }\n",
       "</style>\n",
       "<table border=\"1\" class=\"dataframe\">\n",
       "  <thead>\n",
       "    <tr style=\"text-align: right;\">\n",
       "      <th></th>\n",
       "      <th>Unnamed: 0</th>\n",
       "      <th>Restaurant</th>\n",
       "      <th>Location</th>\n",
       "      <th>Cuisines</th>\n",
       "      <th>Rating</th>\n",
       "      <th>Votes</th>\n",
       "      <th>Reviews</th>\n",
       "      <th>Delivery_Time</th>\n",
       "      <th>Average_Cost_Rupees</th>\n",
       "      <th>Minimum_Order_Rupees</th>\n",
       "      <th>Bakery</th>\n",
       "      <th>Thai</th>\n",
       "      <th>Kerala</th>\n",
       "      <th>African</th>\n",
       "      <th>Assamese</th>\n",
       "      <th>Finger Food</th>\n",
       "      <th>Andhra</th>\n",
       "      <th>Awadhi</th>\n",
       "      <th>Portuguese</th>\n",
       "      <th>Indonesian</th>\n",
       "      <th>Hot dogs</th>\n",
       "      <th>Nepalese</th>\n",
       "      <th>Brazilian</th>\n",
       "      <th>Bar Food</th>\n",
       "      <th>Wraps</th>\n",
       "      <th>Sandwich</th>\n",
       "      <th>Bubble Tea</th>\n",
       "      <th>Lucknowi</th>\n",
       "      <th>Mithai</th>\n",
       "      <th>Coffee</th>\n",
       "      <th>Steak</th>\n",
       "      <th>Goan</th>\n",
       "      <th>Chettinad</th>\n",
       "      <th>Tea</th>\n",
       "      <th>Salad</th>\n",
       "      <th>Afghan</th>\n",
       "      <th>Fast Food</th>\n",
       "      <th>Korean</th>\n",
       "      <th>Odia</th>\n",
       "      <th>German</th>\n",
       "      <th>Kashmiri</th>\n",
       "      <th>Kebab</th>\n",
       "      <th>Tex-Mex</th>\n",
       "      <th>Continental</th>\n",
       "      <th>Seafood</th>\n",
       "      <th>Mughlai</th>\n",
       "      <th>Rolls</th>\n",
       "      <th>Tamil</th>\n",
       "      <th>Naga</th>\n",
       "      <th>Parsi</th>\n",
       "      <th>Street Food</th>\n",
       "      <th>Poké</th>\n",
       "      <th>Burmese</th>\n",
       "      <th>Desserts</th>\n",
       "      <th>Sri Lankan</th>\n",
       "      <th>South American</th>\n",
       "      <th>Asian</th>\n",
       "      <th>BBQ</th>\n",
       "      <th>Raw Meats</th>\n",
       "      <th>Vietnamese</th>\n",
       "      <th>Charcoal Chicken</th>\n",
       "      <th>Sushi</th>\n",
       "      <th>Japanese</th>\n",
       "      <th>Bangladeshi</th>\n",
       "      <th>Italian</th>\n",
       "      <th>Paan</th>\n",
       "      <th>Rajasthani</th>\n",
       "      <th>Tibetan</th>\n",
       "      <th>Momos</th>\n",
       "      <th>Lebanese</th>\n",
       "      <th>Bengali</th>\n",
       "      <th>Roast Chicken</th>\n",
       "      <th>Modern Indian</th>\n",
       "      <th>Malwani</th>\n",
       "      <th>Beverages</th>\n",
       "      <th>Mexican</th>\n",
       "      <th>Juices</th>\n",
       "      <th>Hyderabadi</th>\n",
       "      <th>North Eastern</th>\n",
       "      <th>Turkish</th>\n",
       "      <th>Burger</th>\n",
       "      <th>Cantonese</th>\n",
       "      <th>Chinese</th>\n",
       "      <th>Pizza</th>\n",
       "      <th>Spanish</th>\n",
       "      <th>Bihari</th>\n",
       "      <th>Middle Eastern</th>\n",
       "      <th>Maharashtrian</th>\n",
       "      <th>Cafe</th>\n",
       "      <th>North Indian</th>\n",
       "      <th>Malaysian</th>\n",
       "      <th>French</th>\n",
       "      <th>Konkan</th>\n",
       "      <th>Iranian</th>\n",
       "      <th>Mediterranean</th>\n",
       "      <th>Gujarati</th>\n",
       "      <th>Arabian</th>\n",
       "      <th>Bohri</th>\n",
       "      <th>Biryani</th>\n",
       "      <th>Mishti</th>\n",
       "      <th>Greek</th>\n",
       "      <th>Belgian</th>\n",
       "      <th>Indian</th>\n",
       "      <th>Ice Cream</th>\n",
       "      <th>Mangalorean</th>\n",
       "      <th>Frozen Yogurt</th>\n",
       "      <th>Israeli</th>\n",
       "      <th>American</th>\n",
       "      <th>Healthy Food</th>\n",
       "      <th>South Indian</th>\n",
       "      <th>European</th>\n",
       "      <th>FTI College, Law College Road, Pune</th>\n",
       "      <th>Sector 3, Marathalli</th>\n",
       "      <th>Mumbai Central</th>\n",
       "      <th>Sector 1, Noida</th>\n",
       "      <th>Rmz Centennial, I Gate, Whitefield</th>\n",
       "      <th>Delhi University-GTB Nagar</th>\n",
       "      <th>Yerawada, Pune, Maharashtra</th>\n",
       "      <th>Delhi Administration Flats, Timarpur</th>\n",
       "      <th>Moulali, Kolkata</th>\n",
       "      <th>Dockyard Road, Mumbai CST Area</th>\n",
       "      <th>Pune University</th>\n",
       "      <th>Gora Bazar, Rajbari, North Dumdum, Kolkata</th>\n",
       "      <th>D-Block, Sector 63, Noida</th>\n",
       "      <th>Sector 14, Noida</th>\n",
       "      <th>Mico Layout, Stage 2, BTM Layout,Bangalore</th>\n",
       "      <th>Laxman Vihar Industrial Area, Sector 3A, Gurgoan</th>\n",
       "      <th>Tiretti, Kolkata</th>\n",
       "      <th>Sandhurst Road, Mumbai CST Area</th>\n",
       "      <th>MG Road, Pune</th>\n",
       "      <th>Hyderabad Public School, Begumpet</th>\n",
       "      <th>Majestic</th>\n",
       "      <th>Chandni Chowk, Kolkata</th>\n",
       "      <th>Delhi High Court, India Gate</th>\n",
       "      <th>Chatta Bazaar, Malakpet, Hyderabad</th>\n",
       "      <th>Delhi Cantt.</th>\n",
       "      <th>Babarpur, New Delhi, Delhi</th>\n",
       "      <th>Nathan Road, Mangaldas Road, Pune</th>\n",
       "      <th>Panjetan Colony, Malakpet, Hyderabad</th>\n",
       "      <th>Sector 63A,Gurgaon</th>\n",
       "      <th>Raja Bazar, Kolkata</th>\n",
       "      <th>Tejas Nagar Colony, Wadala West, Mumbai</th>\n",
       "      <th>Jaya Nagar, Saidabad, Hyderabad</th>\n",
       "      <th>Noorkhan Bazaar, Malakpet, Hyderabad</th>\n",
       "      <th>Musi Nagar, Malakpet, Hyderabad</th>\n",
       "      <th>BTM Layout 1, Electronic City</th>\n",
       "    </tr>\n",
       "  </thead>\n",
       "  <tbody>\n",
       "    <tr>\n",
       "      <th>2275</th>\n",
       "      <td>2442</td>\n",
       "      <td>ID_6689</td>\n",
       "      <td>Mumbai Central</td>\n",
       "      <td>North Indian, Chinese, Mughlai, Fast Food</td>\n",
       "      <td>4.3</td>\n",
       "      <td>1464.06383</td>\n",
       "      <td>NaN</td>\n",
       "      <td>30</td>\n",
       "      <td>550.0</td>\n",
       "      <td>50</td>\n",
       "      <td>0</td>\n",
       "      <td>0</td>\n",
       "      <td>0</td>\n",
       "      <td>0</td>\n",
       "      <td>0</td>\n",
       "      <td>0</td>\n",
       "      <td>0</td>\n",
       "      <td>0</td>\n",
       "      <td>0</td>\n",
       "      <td>0</td>\n",
       "      <td>0</td>\n",
       "      <td>0</td>\n",
       "      <td>0</td>\n",
       "      <td>0</td>\n",
       "      <td>0</td>\n",
       "      <td>0</td>\n",
       "      <td>0</td>\n",
       "      <td>0</td>\n",
       "      <td>0</td>\n",
       "      <td>0</td>\n",
       "      <td>0</td>\n",
       "      <td>0</td>\n",
       "      <td>0</td>\n",
       "      <td>0</td>\n",
       "      <td>0</td>\n",
       "      <td>0</td>\n",
       "      <td>1</td>\n",
       "      <td>0</td>\n",
       "      <td>0</td>\n",
       "      <td>0</td>\n",
       "      <td>0</td>\n",
       "      <td>0</td>\n",
       "      <td>0</td>\n",
       "      <td>0</td>\n",
       "      <td>0</td>\n",
       "      <td>1</td>\n",
       "      <td>0</td>\n",
       "      <td>0</td>\n",
       "      <td>0</td>\n",
       "      <td>0</td>\n",
       "      <td>0</td>\n",
       "      <td>0</td>\n",
       "      <td>0</td>\n",
       "      <td>0</td>\n",
       "      <td>0</td>\n",
       "      <td>0</td>\n",
       "      <td>0</td>\n",
       "      <td>0</td>\n",
       "      <td>0</td>\n",
       "      <td>0</td>\n",
       "      <td>0</td>\n",
       "      <td>0</td>\n",
       "      <td>0</td>\n",
       "      <td>0</td>\n",
       "      <td>0</td>\n",
       "      <td>0</td>\n",
       "      <td>0</td>\n",
       "      <td>0</td>\n",
       "      <td>0</td>\n",
       "      <td>0</td>\n",
       "      <td>0</td>\n",
       "      <td>0</td>\n",
       "      <td>0</td>\n",
       "      <td>0</td>\n",
       "      <td>0</td>\n",
       "      <td>0</td>\n",
       "      <td>0</td>\n",
       "      <td>0</td>\n",
       "      <td>0</td>\n",
       "      <td>0</td>\n",
       "      <td>0</td>\n",
       "      <td>0</td>\n",
       "      <td>1</td>\n",
       "      <td>0</td>\n",
       "      <td>0</td>\n",
       "      <td>0</td>\n",
       "      <td>0</td>\n",
       "      <td>0</td>\n",
       "      <td>0</td>\n",
       "      <td>1</td>\n",
       "      <td>0</td>\n",
       "      <td>0</td>\n",
       "      <td>0</td>\n",
       "      <td>0</td>\n",
       "      <td>0</td>\n",
       "      <td>0</td>\n",
       "      <td>0</td>\n",
       "      <td>0</td>\n",
       "      <td>0</td>\n",
       "      <td>0</td>\n",
       "      <td>0</td>\n",
       "      <td>0</td>\n",
       "      <td>0</td>\n",
       "      <td>0</td>\n",
       "      <td>0</td>\n",
       "      <td>0</td>\n",
       "      <td>0</td>\n",
       "      <td>0</td>\n",
       "      <td>0</td>\n",
       "      <td>0</td>\n",
       "      <td>0</td>\n",
       "      <td>0</td>\n",
       "      <td>0</td>\n",
       "      <td>1</td>\n",
       "      <td>0</td>\n",
       "      <td>0</td>\n",
       "      <td>0</td>\n",
       "      <td>0</td>\n",
       "      <td>0</td>\n",
       "      <td>0</td>\n",
       "      <td>0</td>\n",
       "      <td>0</td>\n",
       "      <td>0</td>\n",
       "      <td>0</td>\n",
       "      <td>0</td>\n",
       "      <td>0</td>\n",
       "      <td>0</td>\n",
       "      <td>0</td>\n",
       "      <td>0</td>\n",
       "      <td>0</td>\n",
       "      <td>0</td>\n",
       "      <td>0</td>\n",
       "      <td>0</td>\n",
       "      <td>0</td>\n",
       "      <td>0</td>\n",
       "      <td>0</td>\n",
       "      <td>0</td>\n",
       "      <td>0</td>\n",
       "      <td>0</td>\n",
       "      <td>0</td>\n",
       "      <td>0</td>\n",
       "      <td>0</td>\n",
       "      <td>0</td>\n",
       "      <td>0</td>\n",
       "      <td>0</td>\n",
       "      <td>0</td>\n",
       "    </tr>\n",
       "  </tbody>\n",
       "</table>\n",
       "</div>"
      ],
      "text/plain": [
       "      Unnamed: 0 Restaurant        Location  \\\n",
       "2275        2442    ID_6689  Mumbai Central   \n",
       "\n",
       "                                       Cuisines  Rating       Votes  Reviews  \\\n",
       "2275  North Indian, Chinese, Mughlai, Fast Food     4.3  1464.06383      NaN   \n",
       "\n",
       "      Delivery_Time  Average_Cost_Rupees  Minimum_Order_Rupees  Bakery  Thai  \\\n",
       "2275             30                550.0                    50       0     0   \n",
       "\n",
       "      Kerala  African  Assamese  Finger Food  Andhra  Awadhi  Portuguese  \\\n",
       "2275       0        0         0            0       0       0           0   \n",
       "\n",
       "      Indonesian  Hot dogs  Nepalese  Brazilian  Bar Food  Wraps  Sandwich  \\\n",
       "2275           0         0         0          0         0      0         0   \n",
       "\n",
       "      Bubble Tea  Lucknowi  Mithai  Coffee  Steak  Goan  Chettinad  Tea  \\\n",
       "2275           0         0       0       0      0     0          0    0   \n",
       "\n",
       "      Salad  Afghan  Fast Food  Korean  Odia  German  Kashmiri  Kebab  \\\n",
       "2275      0       0          1       0     0       0         0      0   \n",
       "\n",
       "      Tex-Mex  Continental  Seafood  Mughlai  Rolls  Tamil  Naga  Parsi  \\\n",
       "2275        0            0        0        1      0      0     0      0   \n",
       "\n",
       "      Street Food  Poké  Burmese  Desserts  Sri Lankan  South American  Asian  \\\n",
       "2275            0     0        0         0           0               0      0   \n",
       "\n",
       "      BBQ  Raw Meats  Vietnamese  Charcoal Chicken  Sushi  Japanese  \\\n",
       "2275    0          0           0                 0      0         0   \n",
       "\n",
       "      Bangladeshi  Italian  Paan  Rajasthani  Tibetan  Momos  Lebanese  \\\n",
       "2275            0        0     0           0        0      0         0   \n",
       "\n",
       "      Bengali  Roast Chicken  Modern Indian  Malwani  Beverages  Mexican  \\\n",
       "2275        0              0              0        0          0        0   \n",
       "\n",
       "      Juices  Hyderabadi  North Eastern  Turkish  Burger  Cantonese  Chinese  \\\n",
       "2275       0           0              0        0       0          0        1   \n",
       "\n",
       "      Pizza  Spanish  Bihari  Middle Eastern  Maharashtrian  Cafe  \\\n",
       "2275      0        0       0               0              0     0   \n",
       "\n",
       "      North Indian  Malaysian  French  Konkan  Iranian  Mediterranean  \\\n",
       "2275             1          0       0       0        0              0   \n",
       "\n",
       "      Gujarati  Arabian  Bohri  Biryani  Mishti  Greek  Belgian  Indian  \\\n",
       "2275         0        0      0        0       0      0        0       0   \n",
       "\n",
       "      Ice Cream  Mangalorean  Frozen Yogurt  Israeli  American  Healthy Food  \\\n",
       "2275          0            0              0        0         0             0   \n",
       "\n",
       "      South Indian  European  FTI College, Law College Road, Pune  \\\n",
       "2275             0         0                                    0   \n",
       "\n",
       "      Sector 3, Marathalli  Mumbai Central  Sector 1, Noida  \\\n",
       "2275                     0               1                0   \n",
       "\n",
       "      Rmz Centennial, I Gate, Whitefield  Delhi University-GTB Nagar  \\\n",
       "2275                                   0                           0   \n",
       "\n",
       "      Yerawada, Pune, Maharashtra  Delhi Administration Flats, Timarpur  \\\n",
       "2275                            0                                     0   \n",
       "\n",
       "      Moulali, Kolkata  Dockyard Road, Mumbai CST Area  Pune University  \\\n",
       "2275                 0                               0                0   \n",
       "\n",
       "      Gora Bazar, Rajbari, North Dumdum, Kolkata  D-Block, Sector 63, Noida  \\\n",
       "2275                                           0                          0   \n",
       "\n",
       "      Sector 14, Noida  Mico Layout, Stage 2, BTM Layout,Bangalore  \\\n",
       "2275                 0                                           0   \n",
       "\n",
       "      Laxman Vihar Industrial Area, Sector 3A, Gurgoan  Tiretti, Kolkata  \\\n",
       "2275                                                 0                 0   \n",
       "\n",
       "      Sandhurst Road, Mumbai CST Area  MG Road, Pune  \\\n",
       "2275                                0              0   \n",
       "\n",
       "      Hyderabad Public School, Begumpet  Majestic  Chandni Chowk, Kolkata  \\\n",
       "2275                                  0         0                       0   \n",
       "\n",
       "      Delhi High Court, India Gate  Chatta Bazaar, Malakpet, Hyderabad  \\\n",
       "2275                             0                                   0   \n",
       "\n",
       "      Delhi Cantt.  Babarpur, New Delhi, Delhi  \\\n",
       "2275             0                           0   \n",
       "\n",
       "      Nathan Road, Mangaldas Road, Pune  Panjetan Colony, Malakpet, Hyderabad  \\\n",
       "2275                                  0                                     0   \n",
       "\n",
       "      Sector 63A,Gurgaon  Raja Bazar, Kolkata  \\\n",
       "2275                   0                    0   \n",
       "\n",
       "      Tejas Nagar Colony, Wadala West, Mumbai  \\\n",
       "2275                                        0   \n",
       "\n",
       "      Jaya Nagar, Saidabad, Hyderabad  Noorkhan Bazaar, Malakpet, Hyderabad  \\\n",
       "2275                                0                                     0   \n",
       "\n",
       "      Musi Nagar, Malakpet, Hyderabad  BTM Layout 1, Electronic City  \n",
       "2275                                0                              0  "
      ]
     },
     "execution_count": 57,
     "metadata": {},
     "output_type": "execute_result"
    }
   ],
   "source": [
    "df1[df1['Reviews'].isnull()]"
   ]
  },
  {
   "cell_type": "code",
   "execution_count": 59,
   "metadata": {},
   "outputs": [
    {
     "name": "stderr",
     "output_type": "stream",
     "text": [
      "D:\\install\\anaconda\\lib\\site-packages\\ipykernel_launcher.py:1: SettingWithCopyWarning: \n",
      "A value is trying to be set on a copy of a slice from a DataFrame\n",
      "\n",
      "See the caveats in the documentation: http://pandas.pydata.org/pandas-docs/stable/indexing.html#indexing-view-versus-copy\n",
      "  \"\"\"Entry point for launching an IPython kernel.\n"
     ]
    }
   ],
   "source": [
    "df1.Reviews[(df1[\"Rating\"]>4)&(df1[\"Votes\"]>=1400)&(df1[\"Votes\"]<1500)]=df1.Reviews[(df1[\"Rating\"]>4)&(df1[\"Votes\"]>=1400)&(df1[\"Votes\"]<1500)].fillna(df1.Reviews[(df1[\"Rating\"]>4)&(df1[\"Votes\"]>=1400)&(df1[\"Votes\"]<1500)].mean())"
   ]
  },
  {
   "cell_type": "code",
   "execution_count": null,
   "metadata": {},
   "outputs": [],
   "source": [
    "df1.Votes[df1['Votes']<1000].count()"
   ]
  },
  {
   "cell_type": "code",
   "execution_count": 60,
   "metadata": {},
   "outputs": [
    {
     "data": {
      "text/plain": [
       "Unnamed: 0                                          0\n",
       "Restaurant                                          0\n",
       "Location                                            0\n",
       "Cuisines                                            0\n",
       "Rating                                              0\n",
       "Votes                                               0\n",
       "Reviews                                             0\n",
       "Delivery_Time                                       0\n",
       "Average_Cost_Rupees                                 0\n",
       "Minimum_Order_Rupees                                0\n",
       "Bakery                                              0\n",
       "Thai                                                0\n",
       "Kerala                                              0\n",
       "African                                             0\n",
       "Assamese                                            0\n",
       "Finger Food                                         0\n",
       "Andhra                                              0\n",
       "Awadhi                                              0\n",
       "Portuguese                                          0\n",
       "Indonesian                                          0\n",
       "Hot dogs                                            0\n",
       "Nepalese                                            0\n",
       "Brazilian                                           0\n",
       "Bar Food                                            0\n",
       "Wraps                                               0\n",
       "Sandwich                                            0\n",
       "Bubble Tea                                          0\n",
       "Lucknowi                                            0\n",
       "Mithai                                              0\n",
       "Coffee                                              0\n",
       "Steak                                               0\n",
       "Goan                                                0\n",
       "Chettinad                                           0\n",
       "Tea                                                 0\n",
       "Salad                                               0\n",
       "Afghan                                              0\n",
       "Fast Food                                           0\n",
       "Korean                                              0\n",
       "Odia                                                0\n",
       "German                                              0\n",
       "Kashmiri                                            0\n",
       "Kebab                                               0\n",
       "Tex-Mex                                             0\n",
       "Continental                                         0\n",
       "Seafood                                             0\n",
       "Mughlai                                             0\n",
       "Rolls                                               0\n",
       "Tamil                                               0\n",
       "Naga                                                0\n",
       "Parsi                                               0\n",
       "Street Food                                         0\n",
       "Poké                                                0\n",
       "Burmese                                             0\n",
       "Desserts                                            0\n",
       "Sri Lankan                                          0\n",
       "South American                                      0\n",
       "Asian                                               0\n",
       "BBQ                                                 0\n",
       "Raw Meats                                           0\n",
       "Vietnamese                                          0\n",
       "Charcoal Chicken                                    0\n",
       "Sushi                                               0\n",
       "Japanese                                            0\n",
       "Bangladeshi                                         0\n",
       "Italian                                             0\n",
       "Paan                                                0\n",
       "Rajasthani                                          0\n",
       "Tibetan                                             0\n",
       "Momos                                               0\n",
       "Lebanese                                            0\n",
       "Bengali                                             0\n",
       "Roast Chicken                                       0\n",
       "Modern Indian                                       0\n",
       "Malwani                                             0\n",
       "Beverages                                           0\n",
       "Mexican                                             0\n",
       "Juices                                              0\n",
       "Hyderabadi                                          0\n",
       "North Eastern                                       0\n",
       "Turkish                                             0\n",
       "Burger                                              0\n",
       "Cantonese                                           0\n",
       "Chinese                                             0\n",
       "Pizza                                               0\n",
       "Spanish                                             0\n",
       "Bihari                                              0\n",
       "Middle Eastern                                      0\n",
       "Maharashtrian                                       0\n",
       "Cafe                                                0\n",
       "North Indian                                        0\n",
       "Malaysian                                           0\n",
       "French                                              0\n",
       "Konkan                                              0\n",
       "Iranian                                             0\n",
       "Mediterranean                                       0\n",
       "Gujarati                                            0\n",
       "Arabian                                             0\n",
       "Bohri                                               0\n",
       "Biryani                                             0\n",
       "Mishti                                              0\n",
       "Greek                                               0\n",
       "Belgian                                             0\n",
       "Indian                                              0\n",
       "Ice Cream                                           0\n",
       "Mangalorean                                         0\n",
       "Frozen Yogurt                                       0\n",
       "Israeli                                             0\n",
       "American                                            0\n",
       "Healthy Food                                        0\n",
       "South Indian                                        0\n",
       "European                                            0\n",
       "FTI College, Law College Road, Pune                 0\n",
       "Sector 3, Marathalli                                0\n",
       "Mumbai Central                                      0\n",
       "Sector 1, Noida                                     0\n",
       "Rmz Centennial, I Gate, Whitefield                  0\n",
       "Delhi University-GTB Nagar                          0\n",
       "Yerawada, Pune, Maharashtra                         0\n",
       "Delhi Administration Flats, Timarpur                0\n",
       "Moulali, Kolkata                                    0\n",
       "Dockyard Road, Mumbai CST Area                      0\n",
       "Pune University                                     0\n",
       "Gora Bazar, Rajbari, North Dumdum, Kolkata          0\n",
       "D-Block, Sector 63, Noida                           0\n",
       "Sector 14, Noida                                    0\n",
       "Mico Layout, Stage 2, BTM Layout,Bangalore          0\n",
       "Laxman Vihar Industrial Area, Sector 3A, Gurgoan    0\n",
       "Tiretti, Kolkata                                    0\n",
       "Sandhurst Road, Mumbai CST Area                     0\n",
       "MG Road, Pune                                       0\n",
       "Hyderabad Public School, Begumpet                   0\n",
       "Majestic                                            0\n",
       "Chandni Chowk, Kolkata                              0\n",
       "Delhi High Court, India Gate                        0\n",
       "Chatta Bazaar, Malakpet, Hyderabad                  0\n",
       "Delhi Cantt.                                        0\n",
       "Babarpur, New Delhi, Delhi                          0\n",
       "Nathan Road, Mangaldas Road, Pune                   0\n",
       "Panjetan Colony, Malakpet, Hyderabad                0\n",
       "Sector 63A,Gurgaon                                  0\n",
       "Raja Bazar, Kolkata                                 0\n",
       "Tejas Nagar Colony, Wadala West, Mumbai             0\n",
       "Jaya Nagar, Saidabad, Hyderabad                     0\n",
       "Noorkhan Bazaar, Malakpet, Hyderabad                0\n",
       "Musi Nagar, Malakpet, Hyderabad                     0\n",
       "BTM Layout 1, Electronic City                       0\n",
       "dtype: int64"
      ]
     },
     "execution_count": 60,
     "metadata": {},
     "output_type": "execute_result"
    }
   ],
   "source": [
    "df1.isnull().sum()"
   ]
  },
  {
   "cell_type": "code",
   "execution_count": null,
   "metadata": {},
   "outputs": [],
   "source": []
  },
  {
   "cell_type": "code",
   "execution_count": null,
   "metadata": {},
   "outputs": [],
   "source": [
    "data1=pd.DataFrame()\n",
    "data1['Votes']=df1.Votes[df1['Votes'] <= 511]\n",
    "data1['Rating']=df1.Rating[df1['Rating']<3]\n",
    "sns.lmplot(x='Rating',y='Votes',data=data1)"
   ]
  },
  {
   "cell_type": "code",
   "execution_count": null,
   "metadata": {},
   "outputs": [],
   "source": [
    "data2=pd.DataFrame()\n",
    "#data2['Reviews']=df1.Reviews[(df1['Reviews'] <= 217)&(df1['Reviews'] > 0)]\n",
    "data2['Reviews']=df1['Reviews'] \n",
    "#data2['Rating']=df1.Rating[df1['Rating']<3]\n",
    "data2['Rating']=df1['Rating']\n",
    "sns.lmplot(x='Rating',y='Reviews',data=data2)"
   ]
  },
  {
   "cell_type": "code",
   "execution_count": null,
   "metadata": {},
   "outputs": [],
   "source": [
    "data=df1['Reviews'].dropna()\n",
    "q1,q3=np.percentile(data,[25,75])\n",
    "iqr=q3-q1\n",
    "print(q1,q3)\n",
    "print(iqr)\n",
    "print(\"lower\",q1-(1.5*iqr))\n",
    "print(\"upper\",q3+(1.5*iqr))"
   ]
  },
  {
   "cell_type": "code",
   "execution_count": null,
   "metadata": {},
   "outputs": [],
   "source": [
    "data=df1['Votes'].dropna()\n",
    "q1,q3=np.percentile(data,[25,75])\n",
    "iqr=q3-q1\n",
    "print(q1,q3)\n",
    "print(iqr)\n",
    "print(\"lower\",q1-(1.5*iqr))\n",
    "print(\"upper\",q3+(1.5*iqr))"
   ]
  },
  {
   "cell_type": "code",
   "execution_count": null,
   "metadata": {},
   "outputs": [],
   "source": [
    "plt.figure(figsize=(26, 6))\n",
    "sns.boxplot(x=\"Reviews\",data=df1)\n",
    "\n",
    "plt.show()"
   ]
  },
  {
   "cell_type": "code",
   "execution_count": null,
   "metadata": {},
   "outputs": [],
   "source": [
    "plt.figure(figsize=(26, 6))\n",
    "sns.boxplot(x=\"Votes\",data=df1)\n",
    "\n",
    "plt.show()"
   ]
  },
  {
   "cell_type": "code",
   "execution_count": null,
   "metadata": {},
   "outputs": [],
   "source": [
    "print(df1.Votes[df1['Votes'] <= 511].describe())\n",
    "print()\n",
    "print(df1['Votes'].describe())\n",
    "print()\n",
    "print(df1.Votes[df1['Votes'] > 511].describe())"
   ]
  },
  {
   "cell_type": "code",
   "execution_count": null,
   "metadata": {},
   "outputs": [],
   "source": [
    "print(df1.Reviews[df1['Reviews'] <= 217].describe())\n",
    "print()\n",
    "print(df1['Reviews'].describe())\n",
    "print()\n",
    "print(df1.Reviews[df1['Reviews'] > 217].describe())"
   ]
  },
  {
   "cell_type": "code",
   "execution_count": 26,
   "metadata": {},
   "outputs": [],
   "source": [
    "df = pd.DataFrame([[np.nan, 2, np.nan, 0],\n",
    "                    [3, 4, np.nan, 1],\n",
    "                    [np.nan, np.nan, np.nan, 5],\n",
    "                    [np.nan, 3, np.nan, 4]],\n",
    "                   columns=list('ABCD'))"
   ]
  },
  {
   "cell_type": "code",
   "execution_count": 27,
   "metadata": {},
   "outputs": [
    {
     "name": "stdout",
     "output_type": "stream",
     "text": [
      "<class 'pandas.core.frame.DataFrame'>\n",
      "RangeIndex: 4 entries, 0 to 3\n",
      "Data columns (total 4 columns):\n",
      "A    1 non-null float64\n",
      "B    3 non-null float64\n",
      "C    0 non-null float64\n",
      "D    4 non-null int64\n",
      "dtypes: float64(3), int64(1)\n",
      "memory usage: 208.0 bytes\n"
     ]
    }
   ],
   "source": [
    "df.info()"
   ]
  },
  {
   "cell_type": "code",
   "execution_count": 28,
   "metadata": {},
   "outputs": [
    {
     "data": {
      "text/html": [
       "<div>\n",
       "<style scoped>\n",
       "    .dataframe tbody tr th:only-of-type {\n",
       "        vertical-align: middle;\n",
       "    }\n",
       "\n",
       "    .dataframe tbody tr th {\n",
       "        vertical-align: top;\n",
       "    }\n",
       "\n",
       "    .dataframe thead th {\n",
       "        text-align: right;\n",
       "    }\n",
       "</style>\n",
       "<table border=\"1\" class=\"dataframe\">\n",
       "  <thead>\n",
       "    <tr style=\"text-align: right;\">\n",
       "      <th></th>\n",
       "      <th>A</th>\n",
       "      <th>B</th>\n",
       "      <th>C</th>\n",
       "      <th>D</th>\n",
       "    </tr>\n",
       "  </thead>\n",
       "  <tbody>\n",
       "    <tr>\n",
       "      <th>0</th>\n",
       "      <td>NaN</td>\n",
       "      <td>2.0</td>\n",
       "      <td>NaN</td>\n",
       "      <td>0</td>\n",
       "    </tr>\n",
       "    <tr>\n",
       "      <th>1</th>\n",
       "      <td>3.0</td>\n",
       "      <td>4.0</td>\n",
       "      <td>NaN</td>\n",
       "      <td>1</td>\n",
       "    </tr>\n",
       "    <tr>\n",
       "      <th>2</th>\n",
       "      <td>NaN</td>\n",
       "      <td>NaN</td>\n",
       "      <td>NaN</td>\n",
       "      <td>5</td>\n",
       "    </tr>\n",
       "    <tr>\n",
       "      <th>3</th>\n",
       "      <td>NaN</td>\n",
       "      <td>3.0</td>\n",
       "      <td>NaN</td>\n",
       "      <td>4</td>\n",
       "    </tr>\n",
       "  </tbody>\n",
       "</table>\n",
       "</div>"
      ],
      "text/plain": [
       "     A    B   C  D\n",
       "0  NaN  2.0 NaN  0\n",
       "1  3.0  4.0 NaN  1\n",
       "2  NaN  NaN NaN  5\n",
       "3  NaN  3.0 NaN  4"
      ]
     },
     "execution_count": 28,
     "metadata": {},
     "output_type": "execute_result"
    }
   ],
   "source": [
    "df"
   ]
  },
  {
   "cell_type": "code",
   "execution_count": 31,
   "metadata": {},
   "outputs": [
    {
     "name": "stdout",
     "output_type": "stream",
     "text": [
      "g d 3    4.0\n",
      "Name: C, dtype: float64\n"
     ]
    }
   ],
   "source": [
    "print(\"g\",\"d\",df.C[(df['D']>2)&(df['B']>2)].fillna(df.D[(df['D']>2)&(df['B']>2)].mean()))\n",
    "#df['C'].fillna(df.D[(df['D']>2)&(df['B']>2)].mean())"
   ]
  },
  {
   "cell_type": "code",
   "execution_count": 65,
   "metadata": {},
   "outputs": [],
   "source": [
    "df1['Reviews']=df1['Reviews'].round()\n",
    "df1['Votes']=df1['Votes'].round()"
   ]
  },
  {
   "cell_type": "code",
   "execution_count": 67,
   "metadata": {},
   "outputs": [],
   "source": [
    "df1.to_csv(\"C:/Users/sylve/Downloads/Machine learning/Dataset/Project datasets modified/Predicting Food Delivery Time Hackathon/new_Data_train.csv\",index=False)"
   ]
  },
  {
   "cell_type": "code",
   "execution_count": 10,
   "metadata": {},
   "outputs": [],
   "source": [
    "df2=df1.copy()"
   ]
  },
  {
   "cell_type": "code",
   "execution_count": 11,
   "metadata": {},
   "outputs": [
    {
     "data": {
      "text/plain": [
       "Index(['Unnamed: 0', 'Restaurant', 'Location', 'Cuisines', 'Rating', 'Votes',\n",
       "       'Reviews', 'Delivery_Time', 'Average_Cost_Rupees',\n",
       "       'Minimum_Order_Rupees',\n",
       "       ...\n",
       "       'Babarpur, New Delhi, Delhi', 'Nathan Road, Mangaldas Road, Pune',\n",
       "       'Panjetan Colony, Malakpet, Hyderabad', 'Sector 63A,Gurgaon',\n",
       "       'Raja Bazar, Kolkata', 'Tejas Nagar Colony, Wadala West, Mumbai',\n",
       "       'Jaya Nagar, Saidabad, Hyderabad',\n",
       "       'Noorkhan Bazaar, Malakpet, Hyderabad',\n",
       "       'Musi Nagar, Malakpet, Hyderabad', 'BTM Layout 1, Electronic City'],\n",
       "      dtype='object', length=146)"
      ]
     },
     "execution_count": 11,
     "metadata": {},
     "output_type": "execute_result"
    }
   ],
   "source": [
    "df2.columns"
   ]
  },
  {
   "cell_type": "code",
   "execution_count": 12,
   "metadata": {},
   "outputs": [],
   "source": [
    "df2.drop(['Unnamed: 0', 'Restaurant', 'Location', 'Cuisines'],axis=1,inplace=True)"
   ]
  },
  {
   "cell_type": "code",
   "execution_count": 13,
   "metadata": {},
   "outputs": [],
   "source": [
    "X=df2.drop(['Delivery_Time'],axis=1)"
   ]
  },
  {
   "cell_type": "code",
   "execution_count": 14,
   "metadata": {},
   "outputs": [],
   "source": [
    "y=df2['Delivery_Time']"
   ]
  },
  {
   "cell_type": "code",
   "execution_count": 15,
   "metadata": {},
   "outputs": [
    {
     "name": "stdout",
     "output_type": "stream",
     "text": [
      "(10322, 141)\n",
      "(10322,)\n"
     ]
    }
   ],
   "source": [
    "print(X.shape)\n",
    "print(y.shape)"
   ]
  },
  {
   "cell_type": "code",
   "execution_count": 16,
   "metadata": {},
   "outputs": [],
   "source": [
    "from sklearn import tree\n",
    "from sklearn.ensemble import RandomForestClassifier\n",
    "from sklearn.model_selection import train_test_split\n",
    "from sklearn.metrics import accuracy_score, confusion_matrix, classification_report\n",
    "from sklearn.model_selection import KFold,cross_val_score,cross_val_predict"
   ]
  },
  {
   "cell_type": "code",
   "execution_count": 17,
   "metadata": {},
   "outputs": [],
   "source": [
    "X_train, X_test, Y_train, Y_test = train_test_split(X,y, random_state=1, test_size=0.2)"
   ]
  },
  {
   "cell_type": "markdown",
   "metadata": {},
   "source": [
    "Aplying Decision tree"
   ]
  },
  {
   "cell_type": "code",
   "execution_count": 13,
   "metadata": {},
   "outputs": [
    {
     "data": {
      "text/plain": [
       "DecisionTreeClassifier(class_weight=None, criterion='gini', max_depth=None,\n",
       "            max_features=None, max_leaf_nodes=None,\n",
       "            min_impurity_decrease=0.0, min_impurity_split=None,\n",
       "            min_samples_leaf=1, min_samples_split=2,\n",
       "            min_weight_fraction_leaf=0.0, presort=False, random_state=None,\n",
       "            splitter='best')"
      ]
     },
     "execution_count": 13,
     "metadata": {},
     "output_type": "execute_result"
    }
   ],
   "source": [
    "my_tree_one=tree.DecisionTreeClassifier()\n",
    "my_tree_one=my_tree_one.fit(X_train,Y_train)\n",
    "my_tree_one"
   ]
  },
  {
   "cell_type": "code",
   "execution_count": 14,
   "metadata": {},
   "outputs": [
    {
     "data": {
      "text/plain": [
       "array([30, 30, 65, ..., 30, 30, 30], dtype=int64)"
      ]
     },
     "execution_count": 14,
     "metadata": {},
     "output_type": "execute_result"
    }
   ],
   "source": [
    "pred_tree=my_tree_one.predict(X_test)\n",
    "pred_tree"
   ]
  },
  {
   "cell_type": "code",
   "execution_count": 15,
   "metadata": {},
   "outputs": [
    {
     "name": "stdout",
     "output_type": "stream",
     "text": [
      "Accuracy: 0.6953995157384988\n"
     ]
    }
   ],
   "source": [
    "print(\"Accuracy:\",metrics.accuracy_score(Y_test, pred_tree))"
   ]
  },
  {
   "cell_type": "code",
   "execution_count": 16,
   "metadata": {},
   "outputs": [
    {
     "name": "stdout",
     "output_type": "stream",
     "text": [
      "['Rating', 'Votes', 'Reviews', 'Average_Cost_Rupees', 'Minimum_Order_Rupees', 'Bakery', 'Thai', 'Kerala', 'African', 'Assamese', 'Finger Food', 'Andhra', 'Awadhi', 'Portuguese', 'Indonesian', 'Hot dogs', 'Nepalese', 'Brazilian', 'Bar Food', 'Wraps', 'Sandwich', 'Bubble Tea', 'Lucknowi', 'Mithai', 'Coffee', 'Steak', 'Goan', 'Chettinad', 'Tea', 'Salad', 'Afghan', 'Fast Food', 'Korean', 'Odia', 'German', 'Kashmiri', 'Kebab', 'Tex-Mex', 'Continental', 'Seafood', 'Mughlai', 'Rolls', 'Tamil', 'Naga', 'Parsi', 'Street Food', 'Poké', 'Burmese', 'Desserts', 'Sri Lankan', 'South American', 'Asian', 'BBQ', 'Raw Meats', 'Vietnamese', 'Charcoal Chicken', 'Sushi', 'Japanese', 'Bangladeshi', 'Italian', 'Paan', 'Rajasthani', 'Tibetan', 'Momos', 'Lebanese', 'Bengali', 'Roast Chicken', 'Modern Indian', 'Malwani', 'Beverages', 'Mexican', 'Juices', 'Hyderabadi', 'North Eastern', 'Turkish', 'Burger', 'Cantonese', 'Chinese', 'Pizza', 'Spanish', 'Bihari', 'Middle Eastern', 'Maharashtrian', 'Cafe', 'North Indian', 'Malaysian', 'French', 'Konkan', 'Iranian', 'Mediterranean', 'Gujarati', 'Arabian', 'Bohri', 'Biryani', 'Mishti', 'Greek', 'Belgian', 'Indian', 'Ice Cream', 'Mangalorean', 'Frozen Yogurt', 'Israeli', 'American', 'Healthy Food', 'South Indian', 'European', 'FTI College, Law College Road, Pune', 'Sector 3, Marathalli', 'Mumbai Central', 'Sector 1, Noida', 'Rmz Centennial, I Gate, Whitefield', 'Delhi University-GTB Nagar', 'Yerawada, Pune, Maharashtra', 'Delhi Administration Flats, Timarpur', 'Moulali, Kolkata', 'Dockyard Road, Mumbai CST Area', 'Pune University', 'Gora Bazar, Rajbari, North Dumdum, Kolkata', 'D-Block, Sector 63, Noida', 'Sector 14, Noida', 'Mico Layout, Stage 2, BTM Layout,Bangalore', 'Laxman Vihar Industrial Area, Sector 3A, Gurgoan', 'Tiretti, Kolkata', 'Sandhurst Road, Mumbai CST Area', 'MG Road, Pune', 'Hyderabad Public School, Begumpet', 'Majestic', 'Chandni Chowk, Kolkata', 'Delhi High Court, India Gate', 'Chatta Bazaar, Malakpet, Hyderabad', 'Delhi Cantt.', 'Babarpur, New Delhi, Delhi', 'Nathan Road, Mangaldas Road, Pune', 'Panjetan Colony, Malakpet, Hyderabad', 'Sector 63A,Gurgaon', 'Raja Bazar, Kolkata', 'Tejas Nagar Colony, Wadala West, Mumbai', 'Jaya Nagar, Saidabad, Hyderabad', 'Noorkhan Bazaar, Malakpet, Hyderabad', 'Musi Nagar, Malakpet, Hyderabad', 'BTM Layout 1, Electronic City']\n"
     ]
    }
   ],
   "source": [
    "columns=list(X)\n",
    "print(columns)"
   ]
  },
  {
   "cell_type": "code",
   "execution_count": 87,
   "metadata": {},
   "outputs": [
    {
     "name": "stdout",
     "output_type": "stream",
     "text": [
      "[8.80537132e-02 2.59258262e-01 1.42488626e-01 6.31158350e-02\n",
      " 3.52837463e-02 1.23740434e-02 3.51038739e-03 5.82436955e-04\n",
      " 0.00000000e+00 0.00000000e+00 1.26131775e-03 1.75563551e-03\n",
      " 0.00000000e+00 0.00000000e+00 0.00000000e+00 0.00000000e+00\n",
      " 0.00000000e+00 5.72301596e-04 1.71306746e-03 3.03411891e-03\n",
      " 5.42133850e-03 0.00000000e+00 0.00000000e+00 7.14051439e-03\n",
      " 1.58268883e-04 1.79684521e-03 4.13968712e-04 3.56104987e-04\n",
      " 1.34122852e-03 3.40198061e-03 2.07722532e-04 1.35402902e-02\n",
      " 8.07647301e-04 7.91199242e-04 0.00000000e+00 3.92286777e-04\n",
      " 3.55609474e-03 0.00000000e+00 5.54324612e-03 6.10208363e-03\n",
      " 1.56765557e-02 6.12539819e-03 0.00000000e+00 0.00000000e+00\n",
      " 4.86281825e-04 5.73487716e-03 0.00000000e+00 0.00000000e+00\n",
      " 1.39713750e-02 0.00000000e+00 0.00000000e+00 1.58240743e-03\n",
      " 1.51097645e-03 0.00000000e+00 0.00000000e+00 0.00000000e+00\n",
      " 4.24562560e-04 1.94333266e-03 0.00000000e+00 4.41214336e-03\n",
      " 1.30209599e-03 0.00000000e+00 0.00000000e+00 6.35851438e-03\n",
      " 2.07058617e-03 1.39851810e-03 0.00000000e+00 1.21688741e-03\n",
      " 0.00000000e+00 1.26014421e-02 3.10898478e-03 1.62775478e-03\n",
      " 2.55591015e-03 0.00000000e+00 0.00000000e+00 7.28864513e-03\n",
      " 0.00000000e+00 1.58960574e-02 9.20919503e-03 0.00000000e+00\n",
      " 4.74806650e-04 0.00000000e+00 4.23405999e-03 5.03132950e-03\n",
      " 1.86829511e-02 0.00000000e+00 7.45646337e-04 0.00000000e+00\n",
      " 9.06449058e-04 3.85120949e-04 0.00000000e+00 4.04002149e-04\n",
      " 0.00000000e+00 1.11464155e-02 1.63035870e-03 0.00000000e+00\n",
      " 0.00000000e+00 4.32603104e-04 7.09124366e-03 1.27619839e-03\n",
      " 0.00000000e+00 0.00000000e+00 3.40620921e-03 4.66246189e-03\n",
      " 1.17270428e-02 3.95672208e-04 4.17977708e-03 5.88399131e-03\n",
      " 6.45592452e-03 8.11413890e-03 8.19425368e-03 6.75361446e-03\n",
      " 2.99649160e-03 5.78875178e-03 1.22926706e-03 2.36505240e-03\n",
      " 5.09030600e-03 1.53345147e-03 1.24517607e-02 3.49969067e-03\n",
      " 1.11573714e-02 7.75388090e-03 1.17711967e-03 3.97797775e-03\n",
      " 4.23232383e-03 1.20807451e-03 6.57027243e-03 4.43152873e-04\n",
      " 8.01691940e-03 4.66624543e-04 5.98575572e-03 2.19441355e-03\n",
      " 2.41158941e-03 5.47578041e-04 7.58030248e-03 2.49542016e-03\n",
      " 3.40163169e-03 5.03283785e-04 6.81346919e-04 1.03598694e-03\n",
      " 5.13117768e-04]\n",
      "0.9981833595736951\n"
     ]
    },
    {
     "data": {
      "text/plain": [
       "[('Rating', 0.08805371315318773),\n",
       " ('Votes', 0.2592582619542722),\n",
       " ('Reviews', 0.14248862597181033),\n",
       " ('Average_Cost_Rupees', 0.06311583504921167),\n",
       " ('Minimum_Order_Rupees', 0.035283746299747246),\n",
       " ('Bakery', 0.012374043378984977),\n",
       " ('Thai', 0.003510387390677389),\n",
       " ('Kerala', 0.0005824369554327437),\n",
       " ('African', 0.0),\n",
       " ('Assamese', 0.0),\n",
       " ('Finger Food', 0.0012613177506092055),\n",
       " ('Andhra', 0.0017556355138597436),\n",
       " ('Awadhi', 0.0),\n",
       " ('Portuguese', 0.0),\n",
       " ('Indonesian', 0.0),\n",
       " ('Hot dogs', 0.0),\n",
       " ('Nepalese', 0.0),\n",
       " ('Brazilian', 0.0005723015960023281),\n",
       " ('Bar Food', 0.0017130674571556826),\n",
       " ('Wraps', 0.0030341189146591975),\n",
       " ('Sandwich', 0.0054213385045029944),\n",
       " ('Bubble Tea', 0.0),\n",
       " ('Lucknowi', 0.0),\n",
       " ('Mithai', 0.007140514385080088),\n",
       " ('Coffee', 0.00015826888320886266),\n",
       " ('Steak', 0.0017968452082799094),\n",
       " ('Goan', 0.0004139687119639365),\n",
       " ('Chettinad', 0.00035610498721994093),\n",
       " ('Tea', 0.0013412285233118837),\n",
       " ('Salad', 0.0034019806079553508),\n",
       " ('Afghan', 0.00020772253162013165),\n",
       " ('Fast Food', 0.013540290189121904),\n",
       " ('Korean', 0.0008076473010064293),\n",
       " ('Odia', 0.0007911992415953848),\n",
       " ('German', 0.0),\n",
       " ('Kashmiri', 0.0003922867773652821),\n",
       " ('Kebab', 0.003556094735935556),\n",
       " ('Tex-Mex', 0.0),\n",
       " ('Continental', 0.0055432461201782735),\n",
       " ('Seafood', 0.006102083634812378),\n",
       " ('Mughlai', 0.01567655567266224),\n",
       " ('Rolls', 0.006125398191055985),\n",
       " ('Tamil', 0.0),\n",
       " ('Naga', 0.0),\n",
       " ('Parsi', 0.0004862818246785252),\n",
       " ('Street Food', 0.005734877157043233),\n",
       " ('Poké', 0.0),\n",
       " ('Burmese', 0.0),\n",
       " ('Desserts', 0.013971375015176766),\n",
       " ('Sri Lankan', 0.0),\n",
       " ('South American', 0.0),\n",
       " ('Asian', 0.001582407425552329),\n",
       " ('BBQ', 0.001510976454199381),\n",
       " ('Raw Meats', 0.0),\n",
       " ('Vietnamese', 0.0),\n",
       " ('Charcoal Chicken', 0.0),\n",
       " ('Sushi', 0.0004245625597190129),\n",
       " ('Japanese', 0.0019433326570130137),\n",
       " ('Bangladeshi', 0.0),\n",
       " ('Italian', 0.0044121433554049775),\n",
       " ('Paan', 0.001302095989999195),\n",
       " ('Rajasthani', 0.0),\n",
       " ('Tibetan', 0.0),\n",
       " ('Momos', 0.006358514376442825),\n",
       " ('Lebanese', 0.002070586167548185),\n",
       " ('Bengali', 0.0013985181034455686),\n",
       " ('Roast Chicken', 0.0),\n",
       " ('Modern Indian', 0.0012168874099338356),\n",
       " ('Malwani', 0.0),\n",
       " ('Beverages', 0.012601442093715495),\n",
       " ('Mexican', 0.003108984782016536),\n",
       " ('Juices', 0.0016277547797870133),\n",
       " ('Hyderabadi', 0.0025559101548013885),\n",
       " ('North Eastern', 0.0),\n",
       " ('Turkish', 0.0),\n",
       " ('Burger', 0.007288645128330846),\n",
       " ('Cantonese', 0.0),\n",
       " ('Chinese', 0.015896057380512352),\n",
       " ('Pizza', 0.00920919502740933),\n",
       " ('Spanish', 0.0),\n",
       " ('Bihari', 0.00047480664962658796),\n",
       " ('Middle Eastern', 0.0),\n",
       " ('Maharashtrian', 0.004234059987352748),\n",
       " ('Cafe', 0.005031329496312391),\n",
       " ('North Indian', 0.018682951051142548),\n",
       " ('Malaysian', 0.0),\n",
       " ('French', 0.0007456463374675864),\n",
       " ('Konkan', 0.0),\n",
       " ('Iranian', 0.0009064490583780315),\n",
       " ('Mediterranean', 0.00038512094914156566),\n",
       " ('Gujarati', 0.0),\n",
       " ('Arabian', 0.0004040021492436754),\n",
       " ('Bohri', 0.0),\n",
       " ('Biryani', 0.011146415511962035),\n",
       " ('Mishti', 0.001630358698842617),\n",
       " ('Greek', 0.0),\n",
       " ('Belgian', 0.0),\n",
       " ('Indian', 0.0004326031035535288),\n",
       " ('Ice Cream', 0.007091243657050945),\n",
       " ('Mangalorean', 0.0012761983948687296),\n",
       " ('Frozen Yogurt', 0.0),\n",
       " ('Israeli', 0.0),\n",
       " ('American', 0.003406209210801333),\n",
       " ('Healthy Food', 0.004662461894949664),\n",
       " ('South Indian', 0.011727042816011538),\n",
       " ('European', 0.00039567220802215665),\n",
       " ('FTI College, Law College Road, Pune', 0.0041797770795118),\n",
       " ('Sector 3, Marathalli', 0.00588399130585225),\n",
       " ('Mumbai Central', 0.006455924522888507),\n",
       " ('Sector 1, Noida', 0.008114138896015269),\n",
       " ('Rmz Centennial, I Gate, Whitefield', 0.008194253677391447),\n",
       " ('Delhi University-GTB Nagar', 0.006753614458751673),\n",
       " ('Yerawada, Pune, Maharashtra', 0.002996491601887464),\n",
       " ('Delhi Administration Flats, Timarpur', 0.005788751779332012),\n",
       " ('Moulali, Kolkata', 0.0012292670600555946),\n",
       " ('Dockyard Road, Mumbai CST Area', 0.002365052399677992),\n",
       " ('Pune University', 0.005090306003550568),\n",
       " ('Gora Bazar, Rajbari, North Dumdum, Kolkata', 0.00153345147118839),\n",
       " ('D-Block, Sector 63, Noida', 0.012451760676562496),\n",
       " ('Sector 14, Noida', 0.003499690667556749),\n",
       " ('Mico Layout, Stage 2, BTM Layout,Bangalore', 0.011157371418299783),\n",
       " ('Laxman Vihar Industrial Area, Sector 3A, Gurgoan', 0.007753880902802814),\n",
       " ('Tiretti, Kolkata', 0.0011771196736262304),\n",
       " ('Sandhurst Road, Mumbai CST Area', 0.003977977752082129),\n",
       " ('MG Road, Pune', 0.004232323828792955),\n",
       " ('Hyderabad Public School, Begumpet', 0.0012080745063952373),\n",
       " ('Majestic', 0.006570272427334746),\n",
       " ('Chandni Chowk, Kolkata', 0.0004431528729848155),\n",
       " ('Delhi High Court, India Gate', 0.008016919396189315),\n",
       " ('Chatta Bazaar, Malakpet, Hyderabad', 0.0004666245427368261),\n",
       " ('Delhi Cantt.', 0.005985755724662501),\n",
       " ('Babarpur, New Delhi, Delhi', 0.0021944135493304844),\n",
       " ('Nathan Road, Mangaldas Road, Pune', 0.002411589410641829),\n",
       " ('Panjetan Colony, Malakpet, Hyderabad', 0.0005475780412339429),\n",
       " ('Sector 63A,Gurgaon', 0.007580302483086489),\n",
       " ('Raja Bazar, Kolkata', 0.002495420158375569),\n",
       " ('Tejas Nagar Colony, Wadala West, Mumbai', 0.003401631693256929),\n",
       " ('Jaya Nagar, Saidabad, Hyderabad', 0.0005032837848693777),\n",
       " ('Noorkhan Bazaar, Malakpet, Hyderabad', 0.0006813469194738009),\n",
       " ('Musi Nagar, Malakpet, Hyderabad', 0.0010359869354764249),\n",
       " ('BTM Layout 1, Electronic City', 0.0005131177681811142)]"
      ]
     },
     "execution_count": 87,
     "metadata": {},
     "output_type": "execute_result"
    }
   ],
   "source": [
    "# the Feature_importances_attribute make it simple to interpret the significance of the predictors you include\n",
    "print(my_tree_one.feature_importances_)\n",
    "print(my_tree_one.score(X_train,Y_train))\n",
    "list(zip(columns,my_tree_one.feature_importances_))"
   ]
  },
  {
   "cell_type": "markdown",
   "metadata": {},
   "source": [
    "Applying kfolds on decision tree"
   ]
  },
  {
   "cell_type": "code",
   "execution_count": 105,
   "metadata": {
    "scrolled": true
   },
   "outputs": [
    {
     "name": "stdout",
     "output_type": "stream",
     "text": [
      "0.718296224588577\n",
      "[[  0   3   0   0   0   0]\n",
      " [  3 562  96  20   0   0]\n",
      " [  0  78 146  22   0   3]\n",
      " [  0  33  28  32   0   0]\n",
      " [  0   2   0   0   0   0]\n",
      " [  0   0   3   0   0   2]]\n",
      "              precision    recall  f1-score   support\n",
      "\n",
      "          20       0.00      0.00      0.00         3\n",
      "          30       0.83      0.83      0.83       681\n",
      "          45       0.53      0.59      0.56       249\n",
      "          65       0.43      0.34      0.38        93\n",
      "          80       0.00      0.00      0.00         2\n",
      "         120       0.40      0.40      0.40         5\n",
      "\n",
      "   micro avg       0.72      0.72      0.72      1033\n",
      "   macro avg       0.37      0.36      0.36      1033\n",
      "weighted avg       0.72      0.72      0.72      1033\n",
      "\n",
      "\n",
      "***************\n",
      "0.7095837366892546\n",
      "[[  1   0   0   0   0   0]\n",
      " [  0   0   1   0   0   0]\n",
      " [  0   2 530 100  27   1]\n",
      " [  0   0 108 151  22   1]\n",
      " [  0   0  17  17  48   2]\n",
      " [  0   0   2   0   0   3]]\n",
      "              precision    recall  f1-score   support\n",
      "\n",
      "          10       1.00      1.00      1.00         1\n",
      "          20       0.00      0.00      0.00         1\n",
      "          30       0.81      0.80      0.80       660\n",
      "          45       0.56      0.54      0.55       282\n",
      "          65       0.49      0.57      0.53        84\n",
      "         120       0.43      0.60      0.50         5\n",
      "\n",
      "   micro avg       0.71      0.71      0.71      1033\n",
      "   macro avg       0.55      0.58      0.56      1033\n",
      "weighted avg       0.71      0.71      0.71      1033\n",
      "\n",
      "\n",
      "***************\n"
     ]
    },
    {
     "name": "stderr",
     "output_type": "stream",
     "text": [
      "D:\\install\\anaconda\\lib\\site-packages\\sklearn\\metrics\\classification.py:1143: UndefinedMetricWarning: Precision and F-score are ill-defined and being set to 0.0 in labels with no predicted samples.\n",
      "  'precision', 'predicted', average, warn_for)\n",
      "D:\\install\\anaconda\\lib\\site-packages\\sklearn\\metrics\\classification.py:1143: UndefinedMetricWarning: Precision and F-score are ill-defined and being set to 0.0 in labels with no predicted samples.\n",
      "  'precision', 'predicted', average, warn_for)\n",
      "D:\\install\\anaconda\\lib\\site-packages\\sklearn\\metrics\\classification.py:1143: UndefinedMetricWarning: Precision and F-score are ill-defined and being set to 0.0 in labels with no predicted samples.\n",
      "  'precision', 'predicted', average, warn_for)\n"
     ]
    },
    {
     "name": "stdout",
     "output_type": "stream",
     "text": [
      "0.7034883720930233\n",
      "[[  0   0   1   0   1   0]\n",
      " [  0 556  81  27   0   2]\n",
      " [  0  95 132  27   1   1]\n",
      " [  0  27  39  32   1   1]\n",
      " [  0   1   0   0   1   0]\n",
      " [  0   1   0   0   0   5]]\n",
      "              precision    recall  f1-score   support\n",
      "\n",
      "          20       0.00      0.00      0.00         2\n",
      "          30       0.82      0.83      0.83       666\n",
      "          45       0.52      0.52      0.52       256\n",
      "          65       0.37      0.32      0.34       100\n",
      "          80       0.25      0.50      0.33         2\n",
      "         120       0.56      0.83      0.67         6\n",
      "\n",
      "   micro avg       0.70      0.70      0.70      1032\n",
      "   macro avg       0.42      0.50      0.45      1032\n",
      "weighted avg       0.70      0.70      0.70      1032\n",
      "\n",
      "\n",
      "***************\n",
      "0.7073643410852714\n",
      "[[  0   2   0   0   0   0]\n",
      " [  3 540  88  28   1   2]\n",
      " [  0  88 152  25   0   1]\n",
      " [  0  32  27  35   0   1]\n",
      " [  0   0   0   0   1   0]\n",
      " [  0   3   0   1   0   2]]\n",
      "              precision    recall  f1-score   support\n",
      "\n",
      "          20       0.00      0.00      0.00         2\n",
      "          30       0.81      0.82      0.81       662\n",
      "          45       0.57      0.57      0.57       266\n",
      "          65       0.39      0.37      0.38        95\n",
      "          80       0.50      1.00      0.67         1\n",
      "         120       0.33      0.33      0.33         6\n",
      "\n",
      "   micro avg       0.71      0.71      0.71      1032\n",
      "   macro avg       0.43      0.51      0.46      1032\n",
      "weighted avg       0.71      0.71      0.71      1032\n",
      "\n",
      "\n",
      "***************\n"
     ]
    },
    {
     "name": "stderr",
     "output_type": "stream",
     "text": [
      "D:\\install\\anaconda\\lib\\site-packages\\sklearn\\metrics\\classification.py:1143: UndefinedMetricWarning: Precision and F-score are ill-defined and being set to 0.0 in labels with no predicted samples.\n",
      "  'precision', 'predicted', average, warn_for)\n",
      "D:\\install\\anaconda\\lib\\site-packages\\sklearn\\metrics\\classification.py:1143: UndefinedMetricWarning: Precision and F-score are ill-defined and being set to 0.0 in labels with no predicted samples.\n",
      "  'precision', 'predicted', average, warn_for)\n",
      "D:\\install\\anaconda\\lib\\site-packages\\sklearn\\metrics\\classification.py:1143: UndefinedMetricWarning: Precision and F-score are ill-defined and being set to 0.0 in labels with no predicted samples.\n",
      "  'precision', 'predicted', average, warn_for)\n"
     ]
    },
    {
     "name": "stdout",
     "output_type": "stream",
     "text": [
      "0.7151162790697675\n",
      "[[  0   1   0   0   0   0]\n",
      " [  2 567  64  23   0   2]\n",
      " [  0 100 130  24   0   2]\n",
      " [  0  35  37  36   0   2]\n",
      " [  0   1   0   0   0   0]\n",
      " [  0   1   0   0   0   5]]\n",
      "              precision    recall  f1-score   support\n",
      "\n",
      "          20       0.00      0.00      0.00         1\n",
      "          30       0.80      0.86      0.83       658\n",
      "          45       0.56      0.51      0.53       256\n",
      "          65       0.43      0.33      0.37       110\n",
      "          80       0.00      0.00      0.00         1\n",
      "         120       0.45      0.83      0.59         6\n",
      "\n",
      "   micro avg       0.72      0.72      0.72      1032\n",
      "   macro avg       0.38      0.42      0.39      1032\n",
      "weighted avg       0.70      0.72      0.71      1032\n",
      "\n",
      "\n",
      "***************\n",
      "0.7131782945736435\n",
      "[[  0   0   1   0   0   0   0]\n",
      " [  0   0   2   0   0   0   0]\n",
      " [  0   2 553  98  30   0   1]\n",
      " [  0   1  79 139  25   0   2]\n",
      " [  0   1  19  31  43   0   0]\n",
      " [  0   0   0   1   0   1   0]\n",
      " [  0   0   2   1   0   0   0]]\n",
      "              precision    recall  f1-score   support\n",
      "\n",
      "          10       0.00      0.00      0.00         1\n",
      "          20       0.00      0.00      0.00         2\n",
      "          30       0.84      0.81      0.83       684\n",
      "          45       0.51      0.57      0.54       246\n",
      "          65       0.44      0.46      0.45        94\n",
      "          80       1.00      0.50      0.67         2\n",
      "         120       0.00      0.00      0.00         3\n",
      "\n",
      "   micro avg       0.71      0.71      0.71      1032\n",
      "   macro avg       0.40      0.33      0.35      1032\n",
      "weighted avg       0.72      0.71      0.72      1032\n",
      "\n",
      "\n",
      "***************\n"
     ]
    },
    {
     "name": "stderr",
     "output_type": "stream",
     "text": [
      "D:\\install\\anaconda\\lib\\site-packages\\sklearn\\metrics\\classification.py:1143: UndefinedMetricWarning: Precision and F-score are ill-defined and being set to 0.0 in labels with no predicted samples.\n",
      "  'precision', 'predicted', average, warn_for)\n",
      "D:\\install\\anaconda\\lib\\site-packages\\sklearn\\metrics\\classification.py:1143: UndefinedMetricWarning: Precision and F-score are ill-defined and being set to 0.0 in labels with no predicted samples.\n",
      "  'precision', 'predicted', average, warn_for)\n",
      "D:\\install\\anaconda\\lib\\site-packages\\sklearn\\metrics\\classification.py:1143: UndefinedMetricWarning: Precision and F-score are ill-defined and being set to 0.0 in labels with no predicted samples.\n",
      "  'precision', 'predicted', average, warn_for)\n",
      "D:\\install\\anaconda\\lib\\site-packages\\sklearn\\metrics\\classification.py:1143: UndefinedMetricWarning: Precision and F-score are ill-defined and being set to 0.0 in labels with no predicted samples.\n",
      "  'precision', 'predicted', average, warn_for)\n",
      "D:\\install\\anaconda\\lib\\site-packages\\sklearn\\metrics\\classification.py:1143: UndefinedMetricWarning: Precision and F-score are ill-defined and being set to 0.0 in labels with no predicted samples.\n",
      "  'precision', 'predicted', average, warn_for)\n",
      "D:\\install\\anaconda\\lib\\site-packages\\sklearn\\metrics\\classification.py:1143: UndefinedMetricWarning: Precision and F-score are ill-defined and being set to 0.0 in labels with no predicted samples.\n",
      "  'precision', 'predicted', average, warn_for)\n"
     ]
    },
    {
     "name": "stdout",
     "output_type": "stream",
     "text": [
      "0.7112403100775194\n",
      "[[  0   3   0   0   0   0]\n",
      " [  1 551  74  37   0   3]\n",
      " [  1  93 145  28   0   1]\n",
      " [  0  22  27  37   0   1]\n",
      " [  0   1   0   0   0   0]\n",
      " [  0   3   2   1   0   1]]\n",
      "              precision    recall  f1-score   support\n",
      "\n",
      "          20       0.00      0.00      0.00         3\n",
      "          30       0.82      0.83      0.82       666\n",
      "          45       0.58      0.54      0.56       268\n",
      "          65       0.36      0.43      0.39        87\n",
      "          80       0.00      0.00      0.00         1\n",
      "         120       0.17      0.14      0.15         7\n",
      "\n",
      "   micro avg       0.71      0.71      0.71      1032\n",
      "   macro avg       0.32      0.32      0.32      1032\n",
      "weighted avg       0.71      0.71      0.71      1032\n",
      "\n",
      "\n",
      "***************\n",
      "0.687984496124031\n",
      "[[  0   1   0   0   0   0]\n",
      " [  0 532 110  21   0   2]\n",
      " [  0  90 139  28   1   1]\n",
      " [  0  37  19  34   0   2]\n",
      " [  0   1   1   0   0   0]\n",
      " [  0   2   5   1   0   5]]\n",
      "              precision    recall  f1-score   support\n",
      "\n",
      "          20       0.00      0.00      0.00         1\n",
      "          30       0.80      0.80      0.80       665\n",
      "          45       0.51      0.54      0.52       259\n",
      "          65       0.40      0.37      0.39        92\n",
      "          80       0.00      0.00      0.00         2\n",
      "         120       0.50      0.38      0.43        13\n",
      "\n",
      "   micro avg       0.69      0.69      0.69      1032\n",
      "   macro avg       0.37      0.35      0.36      1032\n",
      "weighted avg       0.69      0.69      0.69      1032\n",
      "\n",
      "\n",
      "***************\n"
     ]
    },
    {
     "name": "stderr",
     "output_type": "stream",
     "text": [
      "D:\\install\\anaconda\\lib\\site-packages\\sklearn\\metrics\\classification.py:1143: UndefinedMetricWarning: Precision and F-score are ill-defined and being set to 0.0 in labels with no predicted samples.\n",
      "  'precision', 'predicted', average, warn_for)\n",
      "D:\\install\\anaconda\\lib\\site-packages\\sklearn\\metrics\\classification.py:1143: UndefinedMetricWarning: Precision and F-score are ill-defined and being set to 0.0 in labels with no predicted samples.\n",
      "  'precision', 'predicted', average, warn_for)\n",
      "D:\\install\\anaconda\\lib\\site-packages\\sklearn\\metrics\\classification.py:1143: UndefinedMetricWarning: Precision and F-score are ill-defined and being set to 0.0 in labels with no predicted samples.\n",
      "  'precision', 'predicted', average, warn_for)\n",
      "D:\\install\\anaconda\\lib\\site-packages\\sklearn\\metrics\\classification.py:1143: UndefinedMetricWarning: Precision and F-score are ill-defined and being set to 0.0 in labels with no predicted samples.\n",
      "  'precision', 'predicted', average, warn_for)\n",
      "D:\\install\\anaconda\\lib\\site-packages\\sklearn\\metrics\\classification.py:1143: UndefinedMetricWarning: Precision and F-score are ill-defined and being set to 0.0 in labels with no predicted samples.\n",
      "  'precision', 'predicted', average, warn_for)\n",
      "D:\\install\\anaconda\\lib\\site-packages\\sklearn\\metrics\\classification.py:1143: UndefinedMetricWarning: Precision and F-score are ill-defined and being set to 0.0 in labels with no predicted samples.\n",
      "  'precision', 'predicted', average, warn_for)\n"
     ]
    },
    {
     "name": "stdout",
     "output_type": "stream",
     "text": [
      "0.7025193798449613\n",
      "[[  0   1   0   0   0   0]\n",
      " [  5 529  93  27   0   1]\n",
      " [  0  94 157  29   0   0]\n",
      " [  1  24  30  37   0   0]\n",
      " [  0   0   0   0   2   0]\n",
      " [  0   1   1   0   0   0]]\n",
      "              precision    recall  f1-score   support\n",
      "\n",
      "          20       0.00      0.00      0.00         1\n",
      "          30       0.82      0.81      0.81       655\n",
      "          45       0.56      0.56      0.56       280\n",
      "          65       0.40      0.40      0.40        92\n",
      "          80       1.00      1.00      1.00         2\n",
      "         120       0.00      0.00      0.00         2\n",
      "\n",
      "   micro avg       0.70      0.70      0.70      1032\n",
      "   macro avg       0.46      0.46      0.46      1032\n",
      "weighted avg       0.71      0.70      0.70      1032\n",
      "\n",
      "\n",
      "***************\n",
      "0.7209302325581395\n",
      "[[  0   3   0   0   0   0]\n",
      " [  3 547  93  30   0   0]\n",
      " [  2  90 156  22   0   0]\n",
      " [  0  21  18  37   0   0]\n",
      " [  0   0   1   0   0   0]\n",
      " [  0   3   0   2   0   4]]\n",
      "              precision    recall  f1-score   support\n",
      "\n",
      "          20       0.00      0.00      0.00         3\n",
      "          30       0.82      0.81      0.82       673\n",
      "          45       0.58      0.58      0.58       270\n",
      "          65       0.41      0.49      0.44        76\n",
      "          80       0.00      0.00      0.00         1\n",
      "         120       1.00      0.44      0.62         9\n",
      "\n",
      "   micro avg       0.72      0.72      0.72      1032\n",
      "   macro avg       0.47      0.39      0.41      1032\n",
      "weighted avg       0.73      0.72      0.72      1032\n",
      "\n",
      "\n",
      "***************\n"
     ]
    },
    {
     "name": "stderr",
     "output_type": "stream",
     "text": [
      "D:\\install\\anaconda\\lib\\site-packages\\sklearn\\metrics\\classification.py:1143: UndefinedMetricWarning: Precision and F-score are ill-defined and being set to 0.0 in labels with no predicted samples.\n",
      "  'precision', 'predicted', average, warn_for)\n",
      "D:\\install\\anaconda\\lib\\site-packages\\sklearn\\metrics\\classification.py:1143: UndefinedMetricWarning: Precision and F-score are ill-defined and being set to 0.0 in labels with no predicted samples.\n",
      "  'precision', 'predicted', average, warn_for)\n",
      "D:\\install\\anaconda\\lib\\site-packages\\sklearn\\metrics\\classification.py:1143: UndefinedMetricWarning: Precision and F-score are ill-defined and being set to 0.0 in labels with no predicted samples.\n",
      "  'precision', 'predicted', average, warn_for)\n"
     ]
    }
   ],
   "source": [
    "kfold=KFold(n_splits=10,  random_state=None, shuffle=True)\n",
    "\n",
    "for train, val_index in kfold.split(X):\n",
    "    #print(\"Train:\", train, \"Validation:\", val_index) \n",
    "    X_train, X_test = X.iloc[train], X.iloc[val_index] \n",
    "    Y_train, Y_test = y.iloc[train], y.iloc[val_index]\n",
    "   \n",
    "    my_tree_one.fit(X_train,Y_train)\n",
    "    #predictions\n",
    "    pred=my_tree_one.predict(X_test)\n",
    "    print(accuracy_score(Y_test,pred))\n",
    "    cm = confusion_matrix(Y_test, pred)\n",
    "    print(cm)\n",
    "    print(classification_report(Y_test, pred))\n",
    "    print()\n",
    "    print(\"***************\")"
   ]
  },
  {
   "cell_type": "code",
   "execution_count": 106,
   "metadata": {},
   "outputs": [
    {
     "name": "stderr",
     "output_type": "stream",
     "text": [
      "D:\\install\\anaconda\\lib\\site-packages\\sklearn\\model_selection\\_split.py:2053: FutureWarning: You should specify a value for 'cv' instead of relying on the default value. The default value will change from 3 to 5 in version 0.22.\n",
      "  warnings.warn(CV_WARNING, FutureWarning)\n",
      "D:\\install\\anaconda\\lib\\site-packages\\sklearn\\model_selection\\_split.py:652: Warning: The least populated class in y has only 2 members, which is too few. The minimum number of members in any class cannot be less than n_splits=3.\n",
      "  % (min_groups, self.n_splits)), Warning)\n"
     ]
    },
    {
     "data": {
      "text/plain": [
       "array([0.68147503, 0.68323162, 0.68722723])"
      ]
     },
     "execution_count": 106,
     "metadata": {},
     "output_type": "execute_result"
    }
   ],
   "source": [
    "cross_val_score(my_tree_one, X, y)"
   ]
  },
  {
   "cell_type": "markdown",
   "metadata": {},
   "source": [
    "Applying Random Forest "
   ]
  },
  {
   "cell_type": "code",
   "execution_count": 17,
   "metadata": {},
   "outputs": [
    {
     "data": {
      "text/plain": [
       "RandomForestClassifier(bootstrap=True, class_weight=None, criterion='gini',\n",
       "            max_depth=None, max_features='auto', max_leaf_nodes=None,\n",
       "            min_impurity_decrease=0.0, min_impurity_split=None,\n",
       "            min_samples_leaf=1, min_samples_split=2,\n",
       "            min_weight_fraction_leaf=0.0, n_estimators=1000, n_jobs=None,\n",
       "            oob_score=False, random_state=42, verbose=0, warm_start=False)"
      ]
     },
     "execution_count": 17,
     "metadata": {},
     "output_type": "execute_result"
    }
   ],
   "source": [
    "rf = RandomForestClassifier(n_estimators=1000,random_state=42)\n",
    "rf.fit(X_train,Y_train)"
   ]
  },
  {
   "cell_type": "code",
   "execution_count": 18,
   "metadata": {},
   "outputs": [
    {
     "data": {
      "text/plain": [
       "array([45, 30, 45, ..., 30, 30, 30], dtype=int64)"
      ]
     },
     "execution_count": 18,
     "metadata": {},
     "output_type": "execute_result"
    }
   ],
   "source": [
    "pred_rf=rf.predict(X_test)\n",
    "pred_rf"
   ]
  },
  {
   "cell_type": "code",
   "execution_count": 19,
   "metadata": {},
   "outputs": [
    {
     "name": "stdout",
     "output_type": "stream",
     "text": [
      "Accuracy: 0.7714285714285715\n"
     ]
    }
   ],
   "source": [
    "print(\"Accuracy:\",metrics.accuracy_score(Y_test, pred_rf))"
   ]
  },
  {
   "cell_type": "code",
   "execution_count": 22,
   "metadata": {},
   "outputs": [
    {
     "name": "stdout",
     "output_type": "stream",
     "text": [
      "Mean absolute error: 4.64 degree\n"
     ]
    }
   ],
   "source": [
    "#Calculate the absolute error\n",
    "errors = abs(pred_rf - Y_test)\n",
    "\n",
    "#print mean absolute error\n",
    "print(\"Mean absolute error:\",round(np.mean(errors),2), 'degree' )\n"
   ]
  },
  {
   "cell_type": "markdown",
   "metadata": {},
   "source": [
    "Applying XGBoot algo"
   ]
  },
  {
   "cell_type": "code",
   "execution_count": 8,
   "metadata": {},
   "outputs": [],
   "source": [
    "from xgboost import XGBClassifier\n",
    "\n",
    "from sklearn.model_selection import learning_curve, GridSearchCV"
   ]
  },
  {
   "cell_type": "code",
   "execution_count": 19,
   "metadata": {},
   "outputs": [
    {
     "data": {
      "text/plain": [
       "XGBClassifier(base_score=0.5, booster='gbtree', colsample_bylevel=1,\n",
       "       colsample_bynode=1, colsample_bytree=1, gamma=0, learning_rate=0.1,\n",
       "       max_delta_step=0, max_depth=3, min_child_weight=1, missing=None,\n",
       "       n_estimators=100, n_jobs=1, nthread=None,\n",
       "       objective='multi:softprob', random_state=0, reg_alpha=0,\n",
       "       reg_lambda=1, scale_pos_weight=1, seed=None, silent=None,\n",
       "       subsample=1, verbosity=1)"
      ]
     },
     "execution_count": 19,
     "metadata": {},
     "output_type": "execute_result"
    }
   ],
   "source": [
    "# fit model no training data\n",
    "xgb = XGBClassifier()\n",
    "xgb.fit(X_train, Y_train)"
   ]
  },
  {
   "cell_type": "code",
   "execution_count": 20,
   "metadata": {},
   "outputs": [
    {
     "data": {
      "text/plain": [
       "array([30, 30, 45, ..., 30, 30, 30], dtype=int64)"
      ]
     },
     "execution_count": 20,
     "metadata": {},
     "output_type": "execute_result"
    }
   ],
   "source": [
    "pred_xgb=xgb.predict(X_test)\n",
    "pred_xgb"
   ]
  },
  {
   "cell_type": "code",
   "execution_count": 21,
   "metadata": {},
   "outputs": [
    {
     "name": "stdout",
     "output_type": "stream",
     "text": [
      "Accuracy: 0.7167070217917676\n"
     ]
    }
   ],
   "source": [
    "print(\"Accuracy:\",metrics.accuracy_score(Y_test, pred_xgb))"
   ]
  },
  {
   "cell_type": "markdown",
   "metadata": {},
   "source": [
    "Applying GridsearchCV to xgboost"
   ]
  },
  {
   "cell_type": "code",
   "execution_count": 22,
   "metadata": {},
   "outputs": [],
   "source": [
    "cv_params = {'max_depth': [3,5,7], 'min_child_weight': [1,3,5]}\n",
    "ind_params = {'learning_rate': 0.1, 'n_estimators': 1000, 'seed':0, 'subsample': 0.8, 'colsample_bytree': 0.8}\n",
    "optimized_GBM = GridSearchCV(XGBClassifier(**ind_params), cv_params, scoring = 'accuracy', cv = 5, n_jobs = -1) "
   ]
  },
  {
   "cell_type": "code",
   "execution_count": 23,
   "metadata": {},
   "outputs": [
    {
     "name": "stderr",
     "output_type": "stream",
     "text": [
      "D:\\install\\anaconda\\lib\\site-packages\\sklearn\\model_selection\\_split.py:652: Warning: The least populated class in y has only 1 members, which is too few. The minimum number of members in any class cannot be less than n_splits=5.\n",
      "  % (min_groups, self.n_splits)), Warning)\n"
     ]
    },
    {
     "name": "stdout",
     "output_type": "stream",
     "text": [
      "Wall time: 50min 22s\n"
     ]
    },
    {
     "data": {
      "text/plain": [
       "GridSearchCV(cv=5, error_score='raise-deprecating',\n",
       "       estimator=XGBClassifier(base_score=0.5, booster='gbtree', colsample_bylevel=1,\n",
       "       colsample_bynode=1, colsample_bytree=0.8, gamma=0,\n",
       "       learning_rate=0.1, max_delta_step=0, max_depth=3,\n",
       "       min_child_weight=1, missing=None, n_estimators=1000, n_jobs=1,\n",
       "       nthread=None, objective='binary:logistic', random_state=0,\n",
       "       reg_alpha=0, reg_lambda=1, scale_pos_weight=1, seed=0, silent=None,\n",
       "       subsample=0.8, verbosity=1),\n",
       "       fit_params=None, iid='warn', n_jobs=-1,\n",
       "       param_grid={'max_depth': [3, 5, 7], 'min_child_weight': [1, 3, 5]},\n",
       "       pre_dispatch='2*n_jobs', refit=True, return_train_score='warn',\n",
       "       scoring='accuracy', verbose=0)"
      ]
     },
     "execution_count": 23,
     "metadata": {},
     "output_type": "execute_result"
    }
   ],
   "source": [
    "%time optimized_GBM.fit(X_train, Y_train)"
   ]
  },
  {
   "cell_type": "code",
   "execution_count": 24,
   "metadata": {},
   "outputs": [
    {
     "name": "stderr",
     "output_type": "stream",
     "text": [
      "D:\\install\\anaconda\\lib\\site-packages\\sklearn\\utils\\deprecation.py:125: FutureWarning: You are accessing a training score ('split0_train_score'), which will not be available by default any more in 0.21. If you need training scores, please set return_train_score=True\n",
      "  warnings.warn(*warn_args, **warn_kwargs)\n",
      "D:\\install\\anaconda\\lib\\site-packages\\sklearn\\utils\\deprecation.py:125: FutureWarning: You are accessing a training score ('split1_train_score'), which will not be available by default any more in 0.21. If you need training scores, please set return_train_score=True\n",
      "  warnings.warn(*warn_args, **warn_kwargs)\n",
      "D:\\install\\anaconda\\lib\\site-packages\\sklearn\\utils\\deprecation.py:125: FutureWarning: You are accessing a training score ('split2_train_score'), which will not be available by default any more in 0.21. If you need training scores, please set return_train_score=True\n",
      "  warnings.warn(*warn_args, **warn_kwargs)\n",
      "D:\\install\\anaconda\\lib\\site-packages\\sklearn\\utils\\deprecation.py:125: FutureWarning: You are accessing a training score ('split3_train_score'), which will not be available by default any more in 0.21. If you need training scores, please set return_train_score=True\n",
      "  warnings.warn(*warn_args, **warn_kwargs)\n",
      "D:\\install\\anaconda\\lib\\site-packages\\sklearn\\utils\\deprecation.py:125: FutureWarning: You are accessing a training score ('split4_train_score'), which will not be available by default any more in 0.21. If you need training scores, please set return_train_score=True\n",
      "  warnings.warn(*warn_args, **warn_kwargs)\n",
      "D:\\install\\anaconda\\lib\\site-packages\\sklearn\\utils\\deprecation.py:125: FutureWarning: You are accessing a training score ('mean_train_score'), which will not be available by default any more in 0.21. If you need training scores, please set return_train_score=True\n",
      "  warnings.warn(*warn_args, **warn_kwargs)\n",
      "D:\\install\\anaconda\\lib\\site-packages\\sklearn\\utils\\deprecation.py:125: FutureWarning: You are accessing a training score ('std_train_score'), which will not be available by default any more in 0.21. If you need training scores, please set return_train_score=True\n",
      "  warnings.warn(*warn_args, **warn_kwargs)\n"
     ]
    },
    {
     "data": {
      "text/plain": [
       "{'mean_fit_time': array([190.503931  , 183.83718967, 179.84068418, 236.80349813,\n",
       "        231.67293139, 224.64194155, 274.07138367, 264.02096543,\n",
       "        250.56396089]),\n",
       " 'std_fit_time': array([8.02654224, 7.00564071, 7.5191024 , 7.51843939, 7.35572043,\n",
       "        7.09053048, 7.75458238, 6.37314118, 8.89655371]),\n",
       " 'mean_score_time': array([0.42608395, 0.40931211, 0.37658596, 0.62580299, 0.56196904,\n",
       "        0.567803  , 0.95736823, 0.82200632, 0.66048875]),\n",
       " 'std_score_time': array([0.06535995, 0.04305567, 0.0415072 , 0.02357932, 0.01883288,\n",
       "        0.09403646, 0.04964696, 0.03740682, 0.06404834]),\n",
       " 'param_max_depth': masked_array(data=[3, 3, 3, 5, 5, 5, 7, 7, 7],\n",
       "              mask=[False, False, False, False, False, False, False, False,\n",
       "                    False],\n",
       "        fill_value='?',\n",
       "             dtype=object),\n",
       " 'param_min_child_weight': masked_array(data=[1, 3, 5, 1, 3, 5, 1, 3, 5],\n",
       "              mask=[False, False, False, False, False, False, False, False,\n",
       "                    False],\n",
       "        fill_value='?',\n",
       "             dtype=object),\n",
       " 'params': [{'max_depth': 3, 'min_child_weight': 1},\n",
       "  {'max_depth': 3, 'min_child_weight': 3},\n",
       "  {'max_depth': 3, 'min_child_weight': 5},\n",
       "  {'max_depth': 5, 'min_child_weight': 1},\n",
       "  {'max_depth': 5, 'min_child_weight': 3},\n",
       "  {'max_depth': 5, 'min_child_weight': 5},\n",
       "  {'max_depth': 7, 'min_child_weight': 1},\n",
       "  {'max_depth': 7, 'min_child_weight': 3},\n",
       "  {'max_depth': 7, 'min_child_weight': 5}],\n",
       " 'split0_test_score': array([0.73534743, 0.7347432 , 0.73172205, 0.73957704, 0.7407855 ,\n",
       "        0.7347432 , 0.74924471, 0.75166163, 0.74441088]),\n",
       " 'split1_test_score': array([0.73123487, 0.73547215, 0.72820823, 0.74757869, 0.7433414 ,\n",
       "        0.73849879, 0.76150121, 0.75484262, 0.74455206]),\n",
       " 'split2_test_score': array([0.729255  , 0.73167777, 0.729255  , 0.75590551, 0.75287704,\n",
       "        0.74560872, 0.76499091, 0.75469412, 0.75529982]),\n",
       " 'split3_test_score': array([0.7369697 , 0.73030303, 0.72666667, 0.75333333, 0.75151515,\n",
       "        0.74121212, 0.76121212, 0.76      , 0.75878788]),\n",
       " 'split4_test_score': array([0.70527592, 0.70891449, 0.70770164, 0.73195876, 0.72468163,\n",
       "        0.72468163, 0.74287447, 0.7349909 , 0.73802304]),\n",
       " 'mean_test_score': array([0.72762505, 0.72823059, 0.72471842, 0.74567034, 0.74264261,\n",
       "        0.73695047, 0.75596464, 0.75124137, 0.74821364]),\n",
       " 'std_test_score': array([0.01150185, 0.00983572, 0.00865863, 0.00885428, 0.01009402,\n",
       "        0.00708068, 0.0084379 , 0.00854882, 0.0076619 ]),\n",
       " 'rank_test_score': array([8, 7, 9, 4, 5, 6, 1, 2, 3]),\n",
       " 'split0_train_score': array([0.86337473, 0.85458952, 0.84489549, 0.97818843, 0.96243563,\n",
       "        0.94410785, 0.99727355, 0.99197213, 0.98333838]),\n",
       " 'split1_train_score': array([0.86146858, 0.85041635, 0.84163512, 0.97668433, 0.95730507,\n",
       "        0.93898562, 0.99697199, 0.99227858, 0.98046934]),\n",
       " 'split2_train_score': array([0.86179231, 0.85437481, 0.84559491, 0.97805026, 0.95973358,\n",
       "        0.94520133, 0.99712383, 0.9925825 , 0.98289434]),\n",
       " 'split3_train_score': array([0.86151052, 0.85651582, 0.84334796, 0.97684274, 0.95943696,\n",
       "        0.94036628, 0.99712426, 0.99107008, 0.98168609]),\n",
       " 'split4_train_score': array([0.8621368 , 0.85684019, 0.84700363, 0.97699758, 0.96141041,\n",
       "        0.94536925, 0.99757869, 0.99273608, 0.98395884]),\n",
       " 'mean_train_score': array([0.86205659, 0.85454734, 0.84449542, 0.97735267, 0.96006433,\n",
       "        0.94280606, 0.99721447, 0.99212787, 0.9824694 ]),\n",
       " 'std_train_score': array([0.0007011 , 0.00229036, 0.00185246, 0.00063528, 0.0017636 ,\n",
       "        0.0026287 , 0.00020557, 0.00059034, 0.00124643])}"
      ]
     },
     "execution_count": 24,
     "metadata": {},
     "output_type": "execute_result"
    }
   ],
   "source": [
    "optimized_GBM.cv_results_"
   ]
  },
  {
   "cell_type": "code",
   "execution_count": null,
   "metadata": {},
   "outputs": [],
   "source": []
  },
  {
   "cell_type": "code",
   "execution_count": null,
   "metadata": {},
   "outputs": [],
   "source": []
  }
 ],
 "metadata": {
  "kernelspec": {
   "display_name": "Python 3",
   "language": "python",
   "name": "python3"
  },
  "language_info": {
   "codemirror_mode": {
    "name": "ipython",
    "version": 3
   },
   "file_extension": ".py",
   "mimetype": "text/x-python",
   "name": "python",
   "nbconvert_exporter": "python",
   "pygments_lexer": "ipython3",
   "version": "3.7.3"
  }
 },
 "nbformat": 4,
 "nbformat_minor": 2
}
