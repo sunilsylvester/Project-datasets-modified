{
 "cells": [
  {
   "cell_type": "code",
   "execution_count": null,
   "metadata": {},
   "outputs": [],
   "source": [
    "your_local_path = \"C:/Users/sylve/Downloads/Machine learning/Dataset/Project datasets modified/Customer Segmentation & Recommendation/Customer Segmentation _ Recommendation\""
   ]
  },
  {
   "cell_type": "code",
   "execution_count": null,
   "metadata": {},
   "outputs": [],
   "source": [
    "import pandas as pd\n",
    "import numpy as np\n",
    "from sklearn.preprocessing import imupter\n",
    "from sklearn.cluster import KMeans\n",
    "from sklearn.model_selection import train_test_split\n",
    "import matplotlib.pyplot as plt\n",
    "import seaborn as sns\n",
    "sns.set(style=\"darkgridgrid\")\n",
    "% matplotlib inline\n"
   ]
  },
  {
   "cell_type": "code",
   "execution_count": null,
   "metadata": {},
   "outputs": [],
   "source": [
    "df1= pd.read_csv(your_local_path+\"Supermarket Purchase.csv\")\n"
   ]
  },
  {
   "cell_type": "code",
   "execution_count": null,
   "metadata": {},
   "outputs": [],
   "source": [
    "df1.info()\n"
   ]
  },
  {
   "cell_type": "code",
   "execution_count": null,
   "metadata": {},
   "outputs": [],
   "source": [
    "df1.describe()\n"
   ]
  },
  {
   "cell_type": "code",
   "execution_count": null,
   "metadata": {},
   "outputs": [],
   "source": [
    "print(\"total values\")\n",
    "print(df1[\"cust_id\"].count())\n",
    "print(\"\\n Max Values for all the attribute\")\n",
    "print(df1.loc[df1[\"No_of_Items\"]].max())\n",
    "print(\"\\n Row of max values for column no_of_items\")\n",
    "print(df1.loc[df1[\"No_of_Items\"].idxmax()])\n"
   ]
  },
  {
   "cell_type": "code",
   "execution_count": null,
   "metadata": {},
   "outputs": [],
   "source": [
    "df1.head(10)\n"
   ]
  },
  {
   "cell_type": "code",
   "execution_count": null,
   "metadata": {},
   "outputs": [],
   "source": [
    "df1_train,df1_test = train_test_split(df1,test_size=0.33, random_state=42)\n"
   ]
  },
  {
   "cell_type": "code",
   "execution_count": null,
   "metadata": {},
   "outputs": [],
   "source": [
    "print(df1_train.head())\n",
    "print(df1_test.head())\n",
    "print(\"****** Train set *******\")\n",
    "print(df1_train.describe())\n",
    "print(\"\\n\")\n",
    "print(\"****** Test set *******\")\n",
    "print(df1_test.describe())"
   ]
  },
  {
   "cell_type": "code",
   "execution_count": null,
   "metadata": {},
   "outputs": [],
   "source": [
    "from sklearn.preprocessing import MinMaxScaler\n",
    "scld = MinMaxScaler(feature_range=(0,1))\n",
    "arr_scld = scld.fit_transform(df1_train)\n",
    "df1_train_scld = pd.DataFrame(arr_scld, columns = df1_train.columns)\n",
    "df1_train_scld.head()\n"
   ]
  },
  {
   "cell_type": "code",
   "execution_count": null,
   "metadata": {},
   "outputs": [],
   "source": [
    "num_clusters = range(2,10)\n",
    "error = []\n",
    "for i in num_clusters:\n",
    "    cluster = KMeans(i)\n",
    "    cluster.fit(df1_train_scld)\n",
    "    error.append(cluster.inertia_/100)\n",
    "\n",
    "df = pd.DataFrame({\"cluster_number\":num_clusters, \"Error_term\":error})\n",
    "print(df)\n"
   ]
  },
  {
   "cell_type": "code",
   "execution_count": null,
   "metadata": {},
   "outputs": [],
   "source": [
    "df1_train_scld[\"cluster_label\"] = cluster.label_\n",
    "df1_train_scld.head(50)\n"
   ]
  },
  {
   "cell_type": "code",
   "execution_count": null,
   "metadata": {},
   "outputs": [],
   "source": [
    "plt.figure(figsize=(10,8))\n",
    "plt.plot(df.cluster_number,df.Error_term, marker = \"D\" color=\"red\")\n",
    "plt.show()\n"
   ]
  },
  {
   "cell_type": "code",
   "execution_count": null,
   "metadata": {},
   "outputs": [],
   "source": [
    "clusters1 = KMeans(4)\n",
    "clusters1.fit(df1_train_scld)\n",
    "clusters1.labels_\n"
   ]
  },
  {
   "cell_type": "code",
   "execution_count": null,
   "metadata": {},
   "outputs": [],
   "source": [
    "clusters1.inertia_/100\n"
   ]
  },
  {
   "cell_type": "code",
   "execution_count": null,
   "metadata": {},
   "outputs": [],
   "source": []
  },
  {
   "cell_type": "code",
   "execution_count": null,
   "metadata": {},
   "outputs": [],
   "source": []
  }
 ],
 "metadata": {
  "kernelspec": {
   "display_name": "Python 3",
   "language": "python",
   "name": "python3"
  },
  "language_info": {
   "codemirror_mode": {
    "name": "ipython",
    "version": 3
   },
   "file_extension": ".py",
   "mimetype": "text/x-python",
   "name": "python",
   "nbconvert_exporter": "python",
   "pygments_lexer": "ipython3",
   "version": "3.6.4"
  }
 },
 "nbformat": 4,
 "nbformat_minor": 2
}
